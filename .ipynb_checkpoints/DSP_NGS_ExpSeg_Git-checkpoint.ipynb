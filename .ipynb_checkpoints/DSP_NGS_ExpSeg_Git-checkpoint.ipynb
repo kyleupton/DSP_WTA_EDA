{
 "cells": [
  {
   "cell_type": "code",
   "execution_count": 1,
   "id": "cfc5a611",
   "metadata": {},
   "outputs": [
    {
     "ename": "KeyboardInterrupt",
     "evalue": "",
     "output_type": "error",
     "traceback": [
      "\u001b[0;31m---------------------------------------------------------------------------\u001b[0m",
      "\u001b[0;31mKeyboardInterrupt\u001b[0m                         Traceback (most recent call last)",
      "Cell \u001b[0;32mIn[1], line 9\u001b[0m\n\u001b[1;32m      5\u001b[0m \u001b[38;5;28;01mimport\u001b[39;00m \u001b[38;5;21;01mmatplotlib\u001b[39;00m\u001b[38;5;21;01m.\u001b[39;00m\u001b[38;5;21;01mpyplot\u001b[39;00m \u001b[38;5;28;01mas\u001b[39;00m \u001b[38;5;21;01mplt\u001b[39;00m\n\u001b[1;32m      7\u001b[0m \u001b[38;5;28;01mfrom\u001b[39;00m \u001b[38;5;21;01mopenpyxl\u001b[39;00m \u001b[38;5;28;01mimport\u001b[39;00m load_workbook\n\u001b[0;32m----> 9\u001b[0m \u001b[38;5;28;01mfrom\u001b[39;00m \u001b[38;5;21;01mscipy\u001b[39;00m \u001b[38;5;28;01mimport\u001b[39;00m stats \u001b[38;5;28;01mas\u001b[39;00m stats\n\u001b[1;32m     10\u001b[0m \u001b[38;5;28;01mfrom\u001b[39;00m \u001b[38;5;21;01mcopy\u001b[39;00m \u001b[38;5;28;01mimport\u001b[39;00m copy \u001b[38;5;28;01mas\u001b[39;00m copy\n",
      "File \u001b[0;32m<frozen importlib._bootstrap>:1229\u001b[0m, in \u001b[0;36m_handle_fromlist\u001b[0;34m(module, fromlist, import_, recursive)\u001b[0m\n",
      "File \u001b[0;32m~/anaconda3/envs/nanoeda/lib/python3.11/site-packages/scipy/__init__.py:134\u001b[0m, in \u001b[0;36m__getattr__\u001b[0;34m(name)\u001b[0m\n\u001b[1;32m    132\u001b[0m \u001b[38;5;28;01mdef\u001b[39;00m \u001b[38;5;21m__getattr__\u001b[39m(name):\n\u001b[1;32m    133\u001b[0m     \u001b[38;5;28;01mif\u001b[39;00m name \u001b[38;5;129;01min\u001b[39;00m submodules:\n\u001b[0;32m--> 134\u001b[0m         \u001b[38;5;28;01mreturn\u001b[39;00m _importlib\u001b[38;5;241m.\u001b[39mimport_module(\u001b[38;5;124mf\u001b[39m\u001b[38;5;124m'\u001b[39m\u001b[38;5;124mscipy.\u001b[39m\u001b[38;5;132;01m{\u001b[39;00mname\u001b[38;5;132;01m}\u001b[39;00m\u001b[38;5;124m'\u001b[39m)\n\u001b[1;32m    135\u001b[0m     \u001b[38;5;28;01melse\u001b[39;00m:\n\u001b[1;32m    136\u001b[0m         \u001b[38;5;28;01mtry\u001b[39;00m:\n",
      "File \u001b[0;32m~/anaconda3/envs/nanoeda/lib/python3.11/importlib/__init__.py:126\u001b[0m, in \u001b[0;36mimport_module\u001b[0;34m(name, package)\u001b[0m\n\u001b[1;32m    124\u001b[0m             \u001b[38;5;28;01mbreak\u001b[39;00m\n\u001b[1;32m    125\u001b[0m         level \u001b[38;5;241m+\u001b[39m\u001b[38;5;241m=\u001b[39m \u001b[38;5;241m1\u001b[39m\n\u001b[0;32m--> 126\u001b[0m \u001b[38;5;28;01mreturn\u001b[39;00m _bootstrap\u001b[38;5;241m.\u001b[39m_gcd_import(name[level:], package, level)\n",
      "File \u001b[0;32m~/anaconda3/envs/nanoeda/lib/python3.11/site-packages/scipy/stats/__init__.py:605\u001b[0m\n\u001b[1;32m      1\u001b[0m \u001b[38;5;124;03m\"\"\"\u001b[39;00m\n\u001b[1;32m      2\u001b[0m \u001b[38;5;124;03m.. _statsrefmanual:\u001b[39;00m\n\u001b[1;32m      3\u001b[0m \n\u001b[0;32m   (...)\u001b[0m\n\u001b[1;32m    600\u001b[0m \n\u001b[1;32m    601\u001b[0m \u001b[38;5;124;03m\"\"\"\u001b[39;00m  \u001b[38;5;66;03m# noqa: E501\u001b[39;00m\n\u001b[1;32m    603\u001b[0m \u001b[38;5;28;01mfrom\u001b[39;00m \u001b[38;5;21;01m.\u001b[39;00m\u001b[38;5;21;01m_warnings_errors\u001b[39;00m \u001b[38;5;28;01mimport\u001b[39;00m (ConstantInputWarning, NearConstantInputWarning,\n\u001b[1;32m    604\u001b[0m                                DegenerateDataWarning, FitError)\n\u001b[0;32m--> 605\u001b[0m \u001b[38;5;28;01mfrom\u001b[39;00m \u001b[38;5;21;01m.\u001b[39;00m\u001b[38;5;21;01m_stats_py\u001b[39;00m \u001b[38;5;28;01mimport\u001b[39;00m \u001b[38;5;241m*\u001b[39m\n\u001b[1;32m    606\u001b[0m \u001b[38;5;28;01mfrom\u001b[39;00m \u001b[38;5;21;01m.\u001b[39;00m\u001b[38;5;21;01m_variation\u001b[39;00m \u001b[38;5;28;01mimport\u001b[39;00m variation\n\u001b[1;32m    607\u001b[0m \u001b[38;5;28;01mfrom\u001b[39;00m \u001b[38;5;21;01m.\u001b[39;00m\u001b[38;5;21;01mdistributions\u001b[39;00m \u001b[38;5;28;01mimport\u001b[39;00m \u001b[38;5;241m*\u001b[39m\n",
      "File \u001b[0;32m~/anaconda3/envs/nanoeda/lib/python3.11/site-packages/scipy/stats/_stats_py.py:37\u001b[0m\n\u001b[1;32m     34\u001b[0m \u001b[38;5;28;01mimport\u001b[39;00m \u001b[38;5;21;01mnumpy\u001b[39;00m \u001b[38;5;28;01mas\u001b[39;00m \u001b[38;5;21;01mnp\u001b[39;00m\n\u001b[1;32m     35\u001b[0m \u001b[38;5;28;01mfrom\u001b[39;00m \u001b[38;5;21;01mnumpy\u001b[39;00m \u001b[38;5;28;01mimport\u001b[39;00m array, asarray, ma\n\u001b[0;32m---> 37\u001b[0m \u001b[38;5;28;01mfrom\u001b[39;00m \u001b[38;5;21;01mscipy\u001b[39;00m\u001b[38;5;21;01m.\u001b[39;00m\u001b[38;5;21;01mspatial\u001b[39;00m\u001b[38;5;21;01m.\u001b[39;00m\u001b[38;5;21;01mdistance\u001b[39;00m \u001b[38;5;28;01mimport\u001b[39;00m cdist\n\u001b[1;32m     38\u001b[0m \u001b[38;5;28;01mfrom\u001b[39;00m \u001b[38;5;21;01mscipy\u001b[39;00m\u001b[38;5;21;01m.\u001b[39;00m\u001b[38;5;21;01mndimage\u001b[39;00m \u001b[38;5;28;01mimport\u001b[39;00m _measurements\n\u001b[1;32m     39\u001b[0m \u001b[38;5;28;01mfrom\u001b[39;00m \u001b[38;5;21;01mscipy\u001b[39;00m\u001b[38;5;21;01m.\u001b[39;00m\u001b[38;5;21;01m_lib\u001b[39;00m\u001b[38;5;21;01m.\u001b[39;00m\u001b[38;5;21;01m_util\u001b[39;00m \u001b[38;5;28;01mimport\u001b[39;00m (check_random_state, MapWrapper, _get_nan,\n\u001b[1;32m     40\u001b[0m                               rng_integers, _rename_parameter, _contains_nan,\n\u001b[1;32m     41\u001b[0m                               AxisError)\n",
      "File \u001b[0;32m~/anaconda3/envs/nanoeda/lib/python3.11/site-packages/scipy/spatial/__init__.py:110\u001b[0m\n\u001b[1;32m      1\u001b[0m \u001b[38;5;124;03m\"\"\"\u001b[39;00m\n\u001b[1;32m      2\u001b[0m \u001b[38;5;124;03m=============================================================\u001b[39;00m\n\u001b[1;32m      3\u001b[0m \u001b[38;5;124;03mSpatial algorithms and data structures (:mod:`scipy.spatial`)\u001b[39;00m\n\u001b[0;32m   (...)\u001b[0m\n\u001b[1;32m    107\u001b[0m \u001b[38;5;124;03m   QhullError\u001b[39;00m\n\u001b[1;32m    108\u001b[0m \u001b[38;5;124;03m\"\"\"\u001b[39;00m  \u001b[38;5;66;03m# noqa: E501\u001b[39;00m\n\u001b[0;32m--> 110\u001b[0m \u001b[38;5;28;01mfrom\u001b[39;00m \u001b[38;5;21;01m.\u001b[39;00m\u001b[38;5;21;01m_kdtree\u001b[39;00m \u001b[38;5;28;01mimport\u001b[39;00m \u001b[38;5;241m*\u001b[39m\n\u001b[1;32m    111\u001b[0m \u001b[38;5;28;01mfrom\u001b[39;00m \u001b[38;5;21;01m.\u001b[39;00m\u001b[38;5;21;01m_ckdtree\u001b[39;00m \u001b[38;5;28;01mimport\u001b[39;00m \u001b[38;5;241m*\u001b[39m\n\u001b[1;32m    112\u001b[0m \u001b[38;5;28;01mfrom\u001b[39;00m \u001b[38;5;21;01m.\u001b[39;00m\u001b[38;5;21;01m_qhull\u001b[39;00m \u001b[38;5;28;01mimport\u001b[39;00m \u001b[38;5;241m*\u001b[39m\n",
      "File \u001b[0;32m~/anaconda3/envs/nanoeda/lib/python3.11/site-packages/scipy/spatial/_kdtree.py:4\u001b[0m\n\u001b[1;32m      1\u001b[0m \u001b[38;5;66;03m# Copyright Anne M. Archibald 2008\u001b[39;00m\n\u001b[1;32m      2\u001b[0m \u001b[38;5;66;03m# Released under the scipy license\u001b[39;00m\n\u001b[1;32m      3\u001b[0m \u001b[38;5;28;01mimport\u001b[39;00m \u001b[38;5;21;01mnumpy\u001b[39;00m \u001b[38;5;28;01mas\u001b[39;00m \u001b[38;5;21;01mnp\u001b[39;00m\n\u001b[0;32m----> 4\u001b[0m \u001b[38;5;28;01mfrom\u001b[39;00m \u001b[38;5;21;01m.\u001b[39;00m\u001b[38;5;21;01m_ckdtree\u001b[39;00m \u001b[38;5;28;01mimport\u001b[39;00m cKDTree, cKDTreeNode\n\u001b[1;32m      6\u001b[0m __all__ \u001b[38;5;241m=\u001b[39m [\u001b[38;5;124m'\u001b[39m\u001b[38;5;124mminkowski_distance_p\u001b[39m\u001b[38;5;124m'\u001b[39m, \u001b[38;5;124m'\u001b[39m\u001b[38;5;124mminkowski_distance\u001b[39m\u001b[38;5;124m'\u001b[39m,\n\u001b[1;32m      7\u001b[0m            \u001b[38;5;124m'\u001b[39m\u001b[38;5;124mdistance_matrix\u001b[39m\u001b[38;5;124m'\u001b[39m,\n\u001b[1;32m      8\u001b[0m            \u001b[38;5;124m'\u001b[39m\u001b[38;5;124mRectangle\u001b[39m\u001b[38;5;124m'\u001b[39m, \u001b[38;5;124m'\u001b[39m\u001b[38;5;124mKDTree\u001b[39m\u001b[38;5;124m'\u001b[39m]\n\u001b[1;32m     11\u001b[0m \u001b[38;5;28;01mdef\u001b[39;00m \u001b[38;5;21mminkowski_distance_p\u001b[39m(x, y, p\u001b[38;5;241m=\u001b[39m\u001b[38;5;241m2\u001b[39m):\n",
      "File \u001b[0;32m_ckdtree.pyx:11\u001b[0m, in \u001b[0;36minit scipy.spatial._ckdtree\u001b[0;34m()\u001b[0m\n",
      "File \u001b[0;32m~/anaconda3/envs/nanoeda/lib/python3.11/site-packages/scipy/sparse/__init__.py:308\u001b[0m\n\u001b[1;32m    305\u001b[0m \u001b[38;5;28;01mfrom\u001b[39;00m \u001b[38;5;21;01m.\u001b[39;00m\u001b[38;5;21;01m_matrix_io\u001b[39;00m \u001b[38;5;28;01mimport\u001b[39;00m \u001b[38;5;241m*\u001b[39m\n\u001b[1;32m    307\u001b[0m \u001b[38;5;66;03m# For backward compatibility with v0.19.\u001b[39;00m\n\u001b[0;32m--> 308\u001b[0m \u001b[38;5;28;01mfrom\u001b[39;00m \u001b[38;5;21;01m.\u001b[39;00m \u001b[38;5;28;01mimport\u001b[39;00m csgraph\n\u001b[1;32m    310\u001b[0m \u001b[38;5;66;03m# Deprecated namespaces, to be removed in v2.0.0\u001b[39;00m\n\u001b[1;32m    311\u001b[0m \u001b[38;5;28;01mfrom\u001b[39;00m \u001b[38;5;21;01m.\u001b[39;00m \u001b[38;5;28;01mimport\u001b[39;00m (\n\u001b[1;32m    312\u001b[0m     base, bsr, compressed, construct, coo, csc, csr, data, dia, dok, extract,\n\u001b[1;32m    313\u001b[0m     lil, sparsetools, sputils\n\u001b[1;32m    314\u001b[0m )\n",
      "File \u001b[0;32m~/anaconda3/envs/nanoeda/lib/python3.11/site-packages/scipy/sparse/csgraph/__init__.py:185\u001b[0m\n\u001b[1;32m    157\u001b[0m __docformat__ \u001b[38;5;241m=\u001b[39m \u001b[38;5;124m\"\u001b[39m\u001b[38;5;124mrestructuredtext en\u001b[39m\u001b[38;5;124m\"\u001b[39m\n\u001b[1;32m    159\u001b[0m __all__ \u001b[38;5;241m=\u001b[39m [\u001b[38;5;124m'\u001b[39m\u001b[38;5;124mconnected_components\u001b[39m\u001b[38;5;124m'\u001b[39m,\n\u001b[1;32m    160\u001b[0m            \u001b[38;5;124m'\u001b[39m\u001b[38;5;124mlaplacian\u001b[39m\u001b[38;5;124m'\u001b[39m,\n\u001b[1;32m    161\u001b[0m            \u001b[38;5;124m'\u001b[39m\u001b[38;5;124mshortest_path\u001b[39m\u001b[38;5;124m'\u001b[39m,\n\u001b[0;32m   (...)\u001b[0m\n\u001b[1;32m    182\u001b[0m            \u001b[38;5;124m'\u001b[39m\u001b[38;5;124mcsgraph_to_masked\u001b[39m\u001b[38;5;124m'\u001b[39m,\n\u001b[1;32m    183\u001b[0m            \u001b[38;5;124m'\u001b[39m\u001b[38;5;124mNegativeCycleError\u001b[39m\u001b[38;5;124m'\u001b[39m]\n\u001b[0;32m--> 185\u001b[0m \u001b[38;5;28;01mfrom\u001b[39;00m \u001b[38;5;21;01m.\u001b[39;00m\u001b[38;5;21;01m_laplacian\u001b[39;00m \u001b[38;5;28;01mimport\u001b[39;00m laplacian\n\u001b[1;32m    186\u001b[0m \u001b[38;5;28;01mfrom\u001b[39;00m \u001b[38;5;21;01m.\u001b[39;00m\u001b[38;5;21;01m_shortest_path\u001b[39;00m \u001b[38;5;28;01mimport\u001b[39;00m (\n\u001b[1;32m    187\u001b[0m     shortest_path, floyd_warshall, dijkstra, bellman_ford, johnson,\n\u001b[1;32m    188\u001b[0m     NegativeCycleError\n\u001b[1;32m    189\u001b[0m )\n\u001b[1;32m    190\u001b[0m \u001b[38;5;28;01mfrom\u001b[39;00m \u001b[38;5;21;01m.\u001b[39;00m\u001b[38;5;21;01m_traversal\u001b[39;00m \u001b[38;5;28;01mimport\u001b[39;00m (\n\u001b[1;32m    191\u001b[0m     breadth_first_order, depth_first_order, breadth_first_tree,\n\u001b[1;32m    192\u001b[0m     depth_first_tree, connected_components\n\u001b[1;32m    193\u001b[0m )\n",
      "File \u001b[0;32m~/anaconda3/envs/nanoeda/lib/python3.11/site-packages/scipy/sparse/csgraph/_laplacian.py:7\u001b[0m\n\u001b[1;32m      5\u001b[0m \u001b[38;5;28;01mimport\u001b[39;00m \u001b[38;5;21;01mnumpy\u001b[39;00m \u001b[38;5;28;01mas\u001b[39;00m \u001b[38;5;21;01mnp\u001b[39;00m\n\u001b[1;32m      6\u001b[0m \u001b[38;5;28;01mfrom\u001b[39;00m \u001b[38;5;21;01mscipy\u001b[39;00m\u001b[38;5;21;01m.\u001b[39;00m\u001b[38;5;21;01msparse\u001b[39;00m \u001b[38;5;28;01mimport\u001b[39;00m issparse\n\u001b[0;32m----> 7\u001b[0m \u001b[38;5;28;01mfrom\u001b[39;00m \u001b[38;5;21;01mscipy\u001b[39;00m\u001b[38;5;21;01m.\u001b[39;00m\u001b[38;5;21;01msparse\u001b[39;00m\u001b[38;5;21;01m.\u001b[39;00m\u001b[38;5;21;01mlinalg\u001b[39;00m \u001b[38;5;28;01mimport\u001b[39;00m LinearOperator\n\u001b[1;32m     10\u001b[0m \u001b[38;5;66;03m###############################################################################\u001b[39;00m\n\u001b[1;32m     11\u001b[0m \u001b[38;5;66;03m# Graph laplacian\u001b[39;00m\n\u001b[1;32m     12\u001b[0m \u001b[38;5;28;01mdef\u001b[39;00m \u001b[38;5;21mlaplacian\u001b[39m(\n\u001b[1;32m     13\u001b[0m     csgraph,\n\u001b[1;32m     14\u001b[0m     normed\u001b[38;5;241m=\u001b[39m\u001b[38;5;28;01mFalse\u001b[39;00m,\n\u001b[0;32m   (...)\u001b[0m\n\u001b[1;32m     21\u001b[0m     symmetrized\u001b[38;5;241m=\u001b[39m\u001b[38;5;28;01mFalse\u001b[39;00m,\n\u001b[1;32m     22\u001b[0m ):\n",
      "File \u001b[0;32m~/anaconda3/envs/nanoeda/lib/python3.11/site-packages/scipy/sparse/linalg/__init__.py:129\u001b[0m\n\u001b[1;32m      1\u001b[0m \u001b[38;5;124;03m\"\"\"\u001b[39;00m\n\u001b[1;32m      2\u001b[0m \u001b[38;5;124;03mSparse linear algebra (:mod:`scipy.sparse.linalg`)\u001b[39;00m\n\u001b[1;32m      3\u001b[0m \u001b[38;5;124;03m==================================================\u001b[39;00m\n\u001b[0;32m   (...)\u001b[0m\n\u001b[1;32m    126\u001b[0m \n\u001b[1;32m    127\u001b[0m \u001b[38;5;124;03m\"\"\"\u001b[39;00m\n\u001b[0;32m--> 129\u001b[0m \u001b[38;5;28;01mfrom\u001b[39;00m \u001b[38;5;21;01m.\u001b[39;00m\u001b[38;5;21;01m_isolve\u001b[39;00m \u001b[38;5;28;01mimport\u001b[39;00m \u001b[38;5;241m*\u001b[39m\n\u001b[1;32m    130\u001b[0m \u001b[38;5;28;01mfrom\u001b[39;00m \u001b[38;5;21;01m.\u001b[39;00m\u001b[38;5;21;01m_dsolve\u001b[39;00m \u001b[38;5;28;01mimport\u001b[39;00m \u001b[38;5;241m*\u001b[39m\n\u001b[1;32m    131\u001b[0m \u001b[38;5;28;01mfrom\u001b[39;00m \u001b[38;5;21;01m.\u001b[39;00m\u001b[38;5;21;01m_interface\u001b[39;00m \u001b[38;5;28;01mimport\u001b[39;00m \u001b[38;5;241m*\u001b[39m\n",
      "File \u001b[0;32m~/anaconda3/envs/nanoeda/lib/python3.11/site-packages/scipy/sparse/linalg/_isolve/__init__.py:4\u001b[0m\n\u001b[1;32m      1\u001b[0m \u001b[38;5;124m\"\u001b[39m\u001b[38;5;124mIterative Solvers for Sparse Linear Systems\u001b[39m\u001b[38;5;124m\"\u001b[39m\n\u001b[1;32m      3\u001b[0m \u001b[38;5;66;03m#from info import __doc__\u001b[39;00m\n\u001b[0;32m----> 4\u001b[0m \u001b[38;5;28;01mfrom\u001b[39;00m \u001b[38;5;21;01m.\u001b[39;00m\u001b[38;5;21;01miterative\u001b[39;00m \u001b[38;5;28;01mimport\u001b[39;00m \u001b[38;5;241m*\u001b[39m\n\u001b[1;32m      5\u001b[0m \u001b[38;5;28;01mfrom\u001b[39;00m \u001b[38;5;21;01m.\u001b[39;00m\u001b[38;5;21;01mminres\u001b[39;00m \u001b[38;5;28;01mimport\u001b[39;00m minres\n\u001b[1;32m      6\u001b[0m \u001b[38;5;28;01mfrom\u001b[39;00m \u001b[38;5;21;01m.\u001b[39;00m\u001b[38;5;21;01mlgmres\u001b[39;00m \u001b[38;5;28;01mimport\u001b[39;00m lgmres\n",
      "File \u001b[0;32m~/anaconda3/envs/nanoeda/lib/python3.11/site-packages/scipy/sparse/linalg/_isolve/iterative.py:5\u001b[0m\n\u001b[1;32m      3\u001b[0m \u001b[38;5;28;01mfrom\u001b[39;00m \u001b[38;5;21;01mscipy\u001b[39;00m\u001b[38;5;21;01m.\u001b[39;00m\u001b[38;5;21;01msparse\u001b[39;00m\u001b[38;5;21;01m.\u001b[39;00m\u001b[38;5;21;01mlinalg\u001b[39;00m\u001b[38;5;21;01m.\u001b[39;00m\u001b[38;5;21;01m_interface\u001b[39;00m \u001b[38;5;28;01mimport\u001b[39;00m LinearOperator\n\u001b[1;32m      4\u001b[0m \u001b[38;5;28;01mfrom\u001b[39;00m \u001b[38;5;21;01m.\u001b[39;00m\u001b[38;5;21;01mutils\u001b[39;00m \u001b[38;5;28;01mimport\u001b[39;00m make_system\n\u001b[0;32m----> 5\u001b[0m \u001b[38;5;28;01mfrom\u001b[39;00m \u001b[38;5;21;01mscipy\u001b[39;00m\u001b[38;5;21;01m.\u001b[39;00m\u001b[38;5;21;01mlinalg\u001b[39;00m \u001b[38;5;28;01mimport\u001b[39;00m get_lapack_funcs\n\u001b[1;32m      6\u001b[0m \u001b[38;5;28;01mfrom\u001b[39;00m \u001b[38;5;21;01mscipy\u001b[39;00m\u001b[38;5;21;01m.\u001b[39;00m\u001b[38;5;21;01m_lib\u001b[39;00m\u001b[38;5;21;01m.\u001b[39;00m\u001b[38;5;21;01mdeprecation\u001b[39;00m \u001b[38;5;28;01mimport\u001b[39;00m _NoValue, _deprecate_positional_args\n\u001b[1;32m      8\u001b[0m __all__ \u001b[38;5;241m=\u001b[39m [\u001b[38;5;124m'\u001b[39m\u001b[38;5;124mbicg\u001b[39m\u001b[38;5;124m'\u001b[39m, \u001b[38;5;124m'\u001b[39m\u001b[38;5;124mbicgstab\u001b[39m\u001b[38;5;124m'\u001b[39m, \u001b[38;5;124m'\u001b[39m\u001b[38;5;124mcg\u001b[39m\u001b[38;5;124m'\u001b[39m, \u001b[38;5;124m'\u001b[39m\u001b[38;5;124mcgs\u001b[39m\u001b[38;5;124m'\u001b[39m, \u001b[38;5;124m'\u001b[39m\u001b[38;5;124mgmres\u001b[39m\u001b[38;5;124m'\u001b[39m, \u001b[38;5;124m'\u001b[39m\u001b[38;5;124mqmr\u001b[39m\u001b[38;5;124m'\u001b[39m]\n",
      "File \u001b[0;32m~/anaconda3/envs/nanoeda/lib/python3.11/site-packages/scipy/linalg/__init__.py:210\u001b[0m\n\u001b[1;32m    208\u001b[0m \u001b[38;5;28;01mfrom\u001b[39;00m \u001b[38;5;21;01m.\u001b[39;00m\u001b[38;5;21;01m_basic\u001b[39;00m \u001b[38;5;28;01mimport\u001b[39;00m \u001b[38;5;241m*\u001b[39m\n\u001b[1;32m    209\u001b[0m \u001b[38;5;28;01mfrom\u001b[39;00m \u001b[38;5;21;01m.\u001b[39;00m\u001b[38;5;21;01m_decomp\u001b[39;00m \u001b[38;5;28;01mimport\u001b[39;00m \u001b[38;5;241m*\u001b[39m\n\u001b[0;32m--> 210\u001b[0m \u001b[38;5;28;01mfrom\u001b[39;00m \u001b[38;5;21;01m.\u001b[39;00m\u001b[38;5;21;01m_decomp_lu\u001b[39;00m \u001b[38;5;28;01mimport\u001b[39;00m \u001b[38;5;241m*\u001b[39m\n\u001b[1;32m    211\u001b[0m \u001b[38;5;28;01mfrom\u001b[39;00m \u001b[38;5;21;01m.\u001b[39;00m\u001b[38;5;21;01m_decomp_ldl\u001b[39;00m \u001b[38;5;28;01mimport\u001b[39;00m \u001b[38;5;241m*\u001b[39m\n\u001b[1;32m    212\u001b[0m \u001b[38;5;28;01mfrom\u001b[39;00m \u001b[38;5;21;01m.\u001b[39;00m\u001b[38;5;21;01m_decomp_cholesky\u001b[39;00m \u001b[38;5;28;01mimport\u001b[39;00m \u001b[38;5;241m*\u001b[39m\n",
      "File \u001b[0;32m~/anaconda3/envs/nanoeda/lib/python3.11/site-packages/scipy/linalg/_decomp_lu.py:12\u001b[0m\n\u001b[1;32m     10\u001b[0m \u001b[38;5;28;01mfrom\u001b[39;00m \u001b[38;5;21;01m.\u001b[39;00m\u001b[38;5;21;01m_misc\u001b[39;00m \u001b[38;5;28;01mimport\u001b[39;00m _datacopied, LinAlgWarning\n\u001b[1;32m     11\u001b[0m \u001b[38;5;28;01mfrom\u001b[39;00m \u001b[38;5;21;01m.\u001b[39;00m\u001b[38;5;21;01mlapack\u001b[39;00m \u001b[38;5;28;01mimport\u001b[39;00m get_lapack_funcs\n\u001b[0;32m---> 12\u001b[0m \u001b[38;5;28;01mfrom\u001b[39;00m \u001b[38;5;21;01m.\u001b[39;00m\u001b[38;5;21;01m_decomp_lu_cython\u001b[39;00m \u001b[38;5;28;01mimport\u001b[39;00m lu_dispatcher\n\u001b[1;32m     14\u001b[0m \u001b[38;5;66;03m# deprecated imports to be removed in SciPy 1.13.0\u001b[39;00m\n\u001b[1;32m     15\u001b[0m \u001b[38;5;28;01mfrom\u001b[39;00m \u001b[38;5;21;01mscipy\u001b[39;00m\u001b[38;5;21;01m.\u001b[39;00m\u001b[38;5;21;01mlinalg\u001b[39;00m\u001b[38;5;21;01m.\u001b[39;00m\u001b[38;5;21;01m_flinalg_py\u001b[39;00m \u001b[38;5;28;01mimport\u001b[39;00m get_flinalg_funcs  \u001b[38;5;66;03m# noqa: F401\u001b[39;00m\n",
      "File \u001b[0;32m<frozen importlib._bootstrap>:405\u001b[0m, in \u001b[0;36mparent\u001b[0;34m(self)\u001b[0m\n",
      "\u001b[0;31mKeyboardInterrupt\u001b[0m: "
     ]
    }
   ],
   "source": [
    "import os\n",
    "import scipy\n",
    "import numpy as np\n",
    "import pandas as pd\n",
    "import matplotlib.pyplot as plt\n",
    "\n",
    "from openpyxl import load_workbook\n",
    "\n",
    "from scipy import stats as stats\n",
    "from copy import copy as copy\n"
   ]
  },
  {
   "cell_type": "code",
   "execution_count": null,
   "id": "520b7542-81ca-40be-aedf-a91ed8e2edc6",
   "metadata": {},
   "outputs": [],
   "source": []
  },
  {
   "cell_type": "code",
   "execution_count": null,
   "id": "805c2f34-ae7a-465d-96a8-7cf23bcad135",
   "metadata": {},
   "outputs": [],
   "source": [
    "# read in paths from config file\n",
    "\n",
    "configDict = {\n",
    "    'rootDir': '',\n",
    "    'initialDataPath' : '',\n",
    "    'QCDataPath' : '',\n",
    "    # 'labWorksheet01Path':'',\n",
    "    'projectName':''\n",
    "}\n",
    "\n",
    "# with open(os.path.join(workingDir, 'config.txt'),'r') as f:\n",
    "with open('config.txt','r') as f:\n",
    "    lines = f.readlines()\n",
    "    for line in lines:\n",
    "        if not line.startswith('#'):\n",
    "            line = line.strip()\n",
    "            fields = line.split(':')\n",
    "\n",
    "            if fields[0].strip()=='initialDataPath':\n",
    "                configDict[fields[0].strip()] = fields[1].strip().strip('\\'')\n",
    "            else:\n",
    "                configDict[fields[0].strip()] = fields[1].strip().strip('\\'')\n",
    "## ToDo: Add checks to ensure that minimal fields have been populated. Raise errors or warnings\n"
   ]
  },
  {
   "cell_type": "code",
   "execution_count": null,
   "id": "8b63e81e-2925-448c-9f28-35728ce4b62a",
   "metadata": {},
   "outputs": [],
   "source": [
    "configDict"
   ]
  },
  {
   "cell_type": "markdown",
   "id": "6d148043-d03d-4647-ae7b-a22d6640c497",
   "metadata": {
    "jp-MarkdownHeadingCollapsed": true
   },
   "source": [
    "# Define functions"
   ]
  },
  {
   "cell_type": "code",
   "execution_count": null,
   "id": "26e0a25e-d845-4401-894d-a1798da058d2",
   "metadata": {},
   "outputs": [],
   "source": [
    "class master_data:\n",
    "    def __init__(self, dataPath):\n",
    "        ### import data from excel workbook\n",
    "        \n",
    "        self.wb = load_workbook(dataPath)\n",
    "        self.segWs = self.wb['SegmentProperties']\n",
    "        self.cntWs = self.wb['BioProbeCountMatrix']\n",
    "        \n",
    "        self.segValues = [[y.value for y in x] for x in self.segWs[self.segWs.calculate_dimension()]]\n",
    "        self.cntValues = [[y.value for y in x] for x in self.cntWs[self.cntWs.calculate_dimension()]]\n",
    "\n",
    "        self.dropData = False\n",
    "        \n",
    "        \n",
    "    def get_data(self):\n",
    "        ### Convert nested list to a pandas dataFrame and extract expression data with labels\n",
    "        cntData = self.cntValues\n",
    "        cntCols = self.cntValues[0]\n",
    "        df = pd.DataFrame(self.cntValues)\n",
    "        cntIndex = [x[0] for x in self.cntValues[1:]]\n",
    "        cntDF = pd.DataFrame(self.cntValues[1:], index=cntIndex, columns=cntCols)\n",
    "        self.counts = cntDF.iloc[:,12:]\n",
    "        self.counts = self.counts.astype(np.float64)      # Convert datatype to float64\n",
    "        self.priobeInfo = cntDF.iloc[:,:12]\n",
    "        segCols = self.segValues[0]\n",
    "        segIndex = [x[4].replace(' | ',('_')) for x in self.segValues[1:]]\n",
    "        self.segData = pd.DataFrame(self.segValues[1:], index=segIndex, columns=segCols)\n",
    "\n",
    "        self.dataOrig = self.counts.copy()\n",
    "        self.dataLog1 = np.log2(self.counts+1)            # Log transform data for QC and analysis steps\n",
    "\n",
    "        self.probeClass = False                           # Keep a copy of the original data before transformation or normalisation\n",
    "        # self.probeClass = df.iloc[self.targIdx:,2]      ### Index needs updating here also\n",
    "        # self.probeClass.rename(index=rowLabels, inplace=True)\n",
    "        # self.probeClass.rename(index='ProbeClass', inplace=True)\n",
    "\n",
    "        # ToDo: Need to update probeclass handling and labeling\n",
    "        \n",
    "        self.probeClassDict = {\n",
    "            'Positive': 'A',\n",
    "            'Negative': 'B',\n",
    "            'Control': 'C',\n",
    "            'Endogenous': 'E'}\n",
    "\n",
    "        return(self.counts, self.priobeInfo, self.segData)\n",
    "\n",
    "    def get_descriptors(self):\n",
    "        pass\n",
    "\n",
    "    def add_class_mean(self, df):\n",
    "        pass\n",
    "\n",
    "    def drop_AOIs(self, includes, writeOrig=False):\n",
    "        pass\n",
    "        \n",
    "    def set_threshold(self, threshold):\n",
    "        self.threshold = threshold\n",
    "        # ToDo: Check that all values in master data are also included in threshold dataFrame\n",
    "        # ToDo: Convert threshold data to 0/1 data if needed\n",
    "\n",
    "    def drop_probes(self, labels):\n",
    "        pass\n",
    "        \n"
   ]
  },
  {
   "cell_type": "code",
   "execution_count": null,
   "id": "364e2069-8ea5-4ad1-8b6f-5cf7cd5b1c16",
   "metadata": {},
   "outputs": [],
   "source": [
    "def plot_SA_Hist(surfArea):\n",
    "    fig, ax = plt.subplots(figsize=(10,5))\n",
    "    ax.hist(surfArea, bins=50)\n",
    "    ax.set_xlabel('AOI Surface Area µm', fontdict=labelFont)\n",
    "    ax.set_ylabel('Count', fontdict=labelFont)\n",
    "    ax.set_title('AOI Surface Area distribution', fontdict=titleFont)\n",
    "    print('Min SA')\n",
    "    print(min(surfArea))\n",
    "    print('Max SA')\n",
    "    print(max(surfArea))\n",
    "    return(fig)\n"
   ]
  },
  {
   "cell_type": "code",
   "execution_count": null,
   "id": "4bb8ad3b-9110-403f-a221-d492d1370d79",
   "metadata": {},
   "outputs": [],
   "source": [
    "# Plot log2 transformed raw data before any normalisation\n",
    "\n",
    "def draw_probe_plot(dataRaw, dataSortedRaw, namedColourList, title, exp=False, violin=False):\n",
    "    \n",
    "    fig, ax = plt.subplots(figsize=(15,8))\n",
    "    \n",
    "    if exp:\n",
    "        ax.boxplot(np.exp2(dataRaw.drop(labels=['mean','probeClass'], axis=1).reindex(labels=dataSortedRaw.index).T) -1, sym='-', labels=dataSortedRaw.index)\n",
    "    else:\n",
    "        ax.boxplot(dataRaw.drop(labels=['mean','probeClass'], axis=1).reindex(labels=dataSortedRaw.index).T, sym='-', labels=dataSortedRaw.index)\n",
    "\n",
    "    \n",
    "    if violin:\n",
    "        if exp:\n",
    "            ax.violinplot(np.exp2(dataRaw.drop(labels=['mean','probeClass'], axis=1).reindex(labels=dataSortedRaw.index).T) -1)\n",
    "\n",
    "    #         ax.boxplot(np.exp2(dataRaw.drop(labels=['mean','probeClass'], axis=1).reindex(labels=dataSortedRaw.index).T) -1, sym='-', labels=dataSortedRaw.index)\n",
    "        else:\n",
    "            ax.violinplot(dataRaw.drop(labels=['mean','probeClass'], axis=1).reindex(labels=dataSortedRaw.index).T)\n",
    "\n",
    "    #         ax.boxplot(dataRaw.drop(labels=['mean','probeClass'], axis=1).reindex(labels=dataSortedRaw.index).T, sym='-', labels=dataSortedRaw.index)\n",
    "        \n",
    "        \n",
    "    else:\n",
    "\n",
    "\n",
    "        for i,j in enumerate(dataSortedRaw.index):\n",
    "            y = dataRaw.drop(labels=['mean','probeClass'], axis=1).loc[j]\n",
    "            colours = [namedColourList[2] if v.split('_')[-1] == 'Tumour' else namedColourList[5] if v.split('_')[-1] == 'TME' else namedColourList[1] for v in y.index]\n",
    "        #     colours = [colourList[2] if v.split('_')[-1] == 'Tumour' else colourList[5] if v.split('_')[-1] == 'Immune' else colourList[1] for v in y.index]\n",
    "            y = y\n",
    "            if exp:\n",
    "                y = np.exp2(y.values)-1\n",
    "            else:\n",
    "                y = y.values\n",
    "\n",
    "            x = np.random.normal(i+1, 0.1, len(y))\n",
    "\n",
    "            for i in range(len(x)): \n",
    "                ax.plot(x[i], y[i], c=colours[i], marker='.', alpha=0.25)\n",
    "\n",
    "    ax.set_xticks(np.arange(1,len(dataSortedRaw.index)+1,1))\n",
    "    ax.set_xlabel=list(dataSortedRaw.index)\n",
    "    \n",
    "    print(len(np.arange(0,len(dataSortedRaw.index),1)))\n",
    "    print(len(list(dataSortedRaw.index)))\n",
    "    \n",
    "    ax.tick_params(axis='x', labelrotation = 90)\n",
    "    \n",
    "\n",
    "    if exp:\n",
    "        ax.semilogy()\n",
    "        ax.set_title(title + ' (untransformed)', size=36)\n",
    "        ax.set_ylabel('Probe value', size=24)\n",
    "    else:\n",
    "        ax.set_title(title + ' (Log2 transformed)', size=36)\n",
    "        ax.set_ylabel('Log2 probe value', size=24)\n",
    "#     plt.show()\n",
    "    \n",
    "    return(fig)\n"
   ]
  },
  {
   "cell_type": "code",
   "execution_count": null,
   "id": "2540115e-abe1-4f3f-a103-82391c52b350",
   "metadata": {},
   "outputs": [],
   "source": [
    "def probe_GeoMean_Plots(plotData, title=''):\n",
    "    rows=1\n",
    "    cols=2\n",
    "    colours = [namedColourList[2] if x.split('_')[-1] == 'Tumour' else namedColourList[5] if x.split('_')[-1] == 'TME' else namedColourList[1] for x in HKGeoMean.index]\n",
    "\n",
    "    fig,ax = plt.subplots(rows,cols, sharey=True, gridspec_kw={'width_ratios': [4,1]}, figsize=(15,5))\n",
    "    ax[0].bar(np.linspace(1,len(plotData),len(plotData)), plotData, color=colours)\n",
    "    ax[1].hist(plotData, bins=int(len(plotData)/10),orientation='horizontal', color='k')\n",
    "    ax[0].set_xlim(0,len(plotData))\n",
    "    \n",
    "    ax[0].text(2,max(plotData)*.95,'Tumour', size=20, c=namedColourList[2])\n",
    "    ax[0].text(2,max(plotData)*.825,'TME', size=20, c=namedColourList[5])\n",
    "    ax[0].text(2,max(plotData)*.7,'Other', size=20, c=namedColourList[1])\n",
    "\n",
    "    fig.suptitle(title, size=36)\n",
    "    ax[0].set_ylabel('Probe Value', size=18)\n",
    "    ax[0].set_xlabel('Probes', size=18)\n",
    "    ax[1].set_xlabel('Count', size=18)\n",
    "\n",
    "    fig.tight_layout()"
   ]
  },
  {
   "cell_type": "code",
   "execution_count": null,
   "id": "e4c42ae8-96c9-42a3-b758-2ef16ed255f4",
   "metadata": {},
   "outputs": [],
   "source": [
    "class threshold_probes:\n",
    "    def __init__(self, data, bins):\n",
    "        \n",
    "        self.data = data.drop(labels=['mean','probeClass'], axis=1)\n",
    "        self.bins = bins\n",
    "        self.thisHist = plt.hist(self.data.values.flatten(), bins = self.bins)\n",
    "\n",
    "    def zoom_plot(self, start, end):\n",
    "        plt.hist(self.data.values.flatten(), bins = self.bins)\n",
    "        plt.xlim(0,3)        \n",
    "        \n",
    "    def check_threshold(self, start, end):\n",
    "        print(self.thisHist[0][start:end])\n",
    "        print(self.thisHist[1][start:end])\n",
    "\n",
    "    def set_threshold_idx(self, idx):\n",
    "        print(self.thisHist[0][idx])\n",
    "        print(self.thisHist[1][idx])\n",
    "        \n",
    "        self.threshold_idx = idx\n",
    "        self.threshold = self.thisHist[1][idx]\n",
    "\n",
    "    def get_filter(self):\n",
    "        self.ETfilter = self.data >= self.threshold\n",
    "        return(self.ETfilter)\n"
   ]
  },
  {
   "cell_type": "code",
   "execution_count": null,
   "id": "3ca0bbf5-c2ce-485a-a521-a09be1259fbc",
   "metadata": {},
   "outputs": [],
   "source": [
    "def binding_density_plot(sampleInfoExternal, selectedInfo, subSelection):\n",
    "    # print('selectedInfo')\n",
    "    # print(selectedInfo)\n",
    "    \n",
    "    if not (subSelection == None):\n",
    "        selectedInfo = selectedInfo.loc[subSelection]\n",
    "    if (type(selectedInfo) == pd.core.series.Series):\n",
    "        selectedInfo = pd.DataFrame(selectedInfo).T\n",
    "        \n",
    "    comboUniques = []\n",
    "    comboColourDictRev = {}\n",
    "    for c in selectedInfo.columns:\n",
    "        thisCol = selectedInfo[c]\n",
    "        combined = '_'.join(thisCol.values)\n",
    "        comboUniques.append(combined)\n",
    "        comboColourDictRev[c] = combined\n",
    "    comboUniques = sorted(list(set(comboUniques)))\n",
    "    print('\\nNumber of unique combinations: {}'.format(len(comboUniques)))\n",
    "    # print(comboColourDictRev)\n",
    "\n",
    "    gradient = np.linspace(0, 1, len(comboUniques))\n",
    "    gradDict = dict(zip(comboUniques,gradient))\n",
    "    \n",
    "    sampleInfoExternal.sort_values(by=['Plate', 'Col', 'Row'], axis=1, inplace=True)\n",
    "    # Binding Density plot:\n",
    "    plt.figure(figsize=(40,10))\n",
    "    my_cmap = plt.get_cmap(\"nipy_spectral\")\n",
    "    \n",
    "    colours = []\n",
    "    for c in sampleInfoExternal.columns:\n",
    "        colours.append(gradDict[comboColourDictRev[c]])\n",
    "    \n",
    "    print('selectedInfo.index')\n",
    "    print(list(selectedInfo.index))\n",
    "\n",
    "    fig, ax = plt.subplots(figsize=(20,5))\n",
    "\n",
    "    \n",
    "    bar = ax.bar(sampleInfoExternal.columns,\n",
    "            sampleInfoExternal.loc['BindingDensity'].values.astype(np.float32), \n",
    "            color=my_cmap(colours)\n",
    "           )#, bottom=0)\n",
    "    ax.set_title('_'.join(selectedInfo.index))\n",
    "    ax.set_xticklabels(sampleInfoExternal.columns, rotation='vertical')\n",
    "    # ax.legend()\n",
    "    plt.show()\n",
    "\n",
    "# ToDo: Add legend"
   ]
  },
  {
   "cell_type": "markdown",
   "id": "385f13fb-ddb4-4458-92c3-30a3b8a2d04e",
   "metadata": {},
   "source": [
    "# Import data from Nanostring initial dataset file."
   ]
  },
  {
   "cell_type": "code",
   "execution_count": null,
   "id": "800b510a-8a16-4bec-abda-5af3d3b2406d",
   "metadata": {
    "scrolled": true
   },
   "outputs": [],
   "source": [
    "dataPath = os.path.join(configDict['rootDir'],configDict['initialDataPath'])\n",
    "dataPath = os.path.join(configDict['rootDir'],configDict['QCDataPath'])\n",
    "\n",
    "masterData = master_data(dataPath)\n",
    "\n",
    "\n",
    "counts, probes, segs = masterData.get_data()\n",
    "\n",
    "\n",
    "counts\n",
    "\n",
    "# probes\n",
    "\n",
    "# segs"
   ]
  },
  {
   "cell_type": "markdown",
   "id": "b792fdc9-bcd8-4e61-8a54-ed7a83da5267",
   "metadata": {},
   "source": [
    "ToDo: Need to check that column names are unique in SegmentProperties!! KO has 2 entries in current version, need to trace down where this has been introduced."
   ]
  },
  {
   "cell_type": "code",
   "execution_count": null,
   "id": "1ee0d33d-f585-4c58-beef-ea1ed0bd0151",
   "metadata": {
    "scrolled": true
   },
   "outputs": [],
   "source": [
    "dropCols = ['SlideName', 'ScanLabel', 'ROILabel', 'SegmentLabel',\n",
    "            'SegmentDisplayName', 'Origin Instrument ID', 'AOISurfaceArea', \n",
    "            'AOINucleiCount', 'ROICoordinateX', 'ROICoordinateY', \n",
    "            'RawReads', 'AlignedReads', 'DeduplicatedReads', 'TrimmedReads', \n",
    "            'StitchedReads', 'SequencingSaturation', 'SequencingSetID', \n",
    "            'UMIQ30', 'RTSQ30', 'GeoMxNgsPipelineVersion', 'LOT_Mouse_NGS_Whole_Transcriptome_Atlas_RNA_1_0',\n",
    "            'ROIID', 'SegmentID', 'ScanWidth', 'ScanHeight', 'ScanOffsetX', 'ScanOffsetY']\n",
    "\n",
    "keepCols = [x for x in segs.columns if not x in dropCols]\n",
    "\n",
    "for c in keepCols:\n",
    "    print(c)\n",
    "    print(len(set(segs[c])))\n",
    "    print(set(segs[c]))\n",
    "    print()"
   ]
  },
  {
   "cell_type": "code",
   "execution_count": null,
   "id": "390561fd-8eaa-4d43-9ea4-2c6779d07986",
   "metadata": {},
   "outputs": [],
   "source": [
    "segs"
   ]
  },
  {
   "cell_type": "code",
   "execution_count": null,
   "id": "a3f96cb9-a435-4e51-91d4-53762190ac16",
   "metadata": {},
   "outputs": [],
   "source": [
    "set(segs['SlideName'])"
   ]
  },
  {
   "cell_type": "code",
   "execution_count": null,
   "id": "44b0c002-b6dd-4b96-980a-9e700fbb56ab",
   "metadata": {},
   "outputs": [],
   "source": [
    "expSlideDict = {}\n",
    "expSlideDict['exp1'] = {'SlideName': ['PFAC_Liver_CD63_CD45_Col1A1']}\n",
    "expSlideDict['exp2'] = {'SlideName': ['SFAC_Female_2_SMA_CD45_Col1A1']}\n",
    "expSlideDict['exp3'] = {'SlideName': ['SKC_Liver_Female_2_SMA_CD45_Col1A1',\n",
    "                         'SKC_Liver_Male_SMA_CD45_Col1A1',\n",
    "                         'SKC_Male_Liver_2_SMA_CD45_Col1A1']}\n",
    "\n",
    "exps = ['exp1', 'exp2', 'exp3']"
   ]
  },
  {
   "cell_type": "code",
   "execution_count": null,
   "id": "c2b62dba-1953-49db-9470-b14d17db2a34",
   "metadata": {},
   "outputs": [],
   "source": [
    "expIndices = {}\n",
    "\n",
    "\n",
    "for exp in exps:\n",
    "    print(exp)\n",
    "\n",
    "    thisExp = expSlideDict[exp]\n",
    "    slideNames = thisExp['SlideName']\n",
    "\n",
    "    masterIndex = []\n",
    "    \n",
    "    for s in slideNames:\n",
    "        # print('s')\n",
    "        # print(s)\n",
    "        thisIndex = segs[segs['SlideName'] == s].index\n",
    "        # print(list(thisIndex))\n",
    "        masterIndex.extend(list(thisIndex))\n",
    "    \n",
    "    expIndices[exp] = masterIndex\n"
   ]
  },
  {
   "cell_type": "code",
   "execution_count": null,
   "id": "cac3ba06-657e-4c74-9463-c672f86ca6db",
   "metadata": {},
   "outputs": [],
   "source": [
    "expIndices"
   ]
  },
  {
   "cell_type": "code",
   "execution_count": null,
   "id": "048502db-1b7d-4134-b61e-cc7a5327aeb0",
   "metadata": {},
   "outputs": [],
   "source": [
    "expIndices"
   ]
  },
  {
   "cell_type": "code",
   "execution_count": null,
   "id": "21096e00-da58-44bb-a753-4cfe9eed7a10",
   "metadata": {},
   "outputs": [],
   "source": []
  },
  {
   "cell_type": "code",
   "execution_count": null,
   "id": "e55c2d18-6f2c-4b32-b60e-97f06fe66f28",
   "metadata": {},
   "outputs": [],
   "source": [
    "for k,exp in expIndices.items():\n",
    "    # print(exp)\n",
    "    print(k)\n",
    "    print(len(exp))"
   ]
  },
  {
   "cell_type": "code",
   "execution_count": null,
   "id": "3dab0027-7282-4020-83e2-40e1dcd9ddfc",
   "metadata": {},
   "outputs": [],
   "source": []
  },
  {
   "cell_type": "code",
   "execution_count": null,
   "id": "5960a763-c27c-4137-b45a-51ca82dfda6e",
   "metadata": {},
   "outputs": [],
   "source": []
  },
  {
   "cell_type": "markdown",
   "id": "c5107555-1d57-4138-89ac-776a17f24d3f",
   "metadata": {},
   "source": [
    "ToDo: Export experimental sets for use in StandR or RUV\n",
    "\n",
    "\n",
    " - StandR => countFile, featureAnnoFile, sampleAnnoFile\n",
    " - RUV.   => ???"
   ]
  },
  {
   "cell_type": "code",
   "execution_count": null,
   "id": "329f9b43-c36b-4743-863a-fee34fcae13a",
   "metadata": {},
   "outputs": [],
   "source": []
  },
  {
   "cell_type": "code",
   "execution_count": null,
   "id": "9a47daef-7477-45f7-9657-f79803f9877a",
   "metadata": {},
   "outputs": [],
   "source": []
  },
  {
   "cell_type": "raw",
   "id": "a4666789-7797-4ecf-b096-ed10051aeee6",
   "metadata": {},
   "source": [
    "ToDo: Read in previously dropped columns and only display remaining columns as options\n"
   ]
  },
  {
   "cell_type": "markdown",
   "id": "9c912fe6-6e18-4d2e-ad0a-6165d6916fe6",
   "metadata": {},
   "source": [
    "ToDo: Choose column(s) to use for setting up primary experiment sets (eg. slide name) (save as nested dictionary (experiment name : column : value)\n",
    "ToDo: Choose column variables to use for setting up secondary experiment sets  (save as nested dictionary (experiment name : columns : [values])\n",
    "\n"
   ]
  },
  {
   "cell_type": "code",
   "execution_count": null,
   "id": "2fdfd4e3-e969-4cd2-8f1b-ac4d43d36909",
   "metadata": {},
   "outputs": [],
   "source": []
  },
  {
   "cell_type": "code",
   "execution_count": null,
   "id": "5d2be2fc-c439-4909-979d-f93dbc26c78d",
   "metadata": {},
   "outputs": [],
   "source": []
  },
  {
   "cell_type": "code",
   "execution_count": null,
   "id": "d482a3ca-c58a-41c4-b6cb-b7447af76706",
   "metadata": {},
   "outputs": [],
   "source": [
    "break"
   ]
  },
  {
   "cell_type": "code",
   "execution_count": null,
   "id": "78064134-073d-4fd1-9824-f7ea6eed98a8",
   "metadata": {},
   "outputs": [],
   "source": []
  },
  {
   "cell_type": "code",
   "execution_count": null,
   "id": "8cbeb6c3-3cb8-4145-90e6-7a6768c98fc5",
   "metadata": {},
   "outputs": [],
   "source": []
  },
  {
   "cell_type": "code",
   "execution_count": null,
   "id": "eb054bc4-d44d-468f-bad2-e3f7a26f9af9",
   "metadata": {},
   "outputs": [],
   "source": []
  },
  {
   "cell_type": "code",
   "execution_count": null,
   "id": "1adad3e3-e0fc-4a8b-87d6-af876fa2edb4",
   "metadata": {},
   "outputs": [],
   "source": [
    "sampleInfoExternal = masterData.segData.copy()"
   ]
  },
  {
   "cell_type": "code",
   "execution_count": null,
   "id": "ef2a4a4c-4f6c-41c0-b0a1-fee68bb57152",
   "metadata": {},
   "outputs": [],
   "source": [
    "sampleInfoExternal.columns"
   ]
  },
  {
   "cell_type": "code",
   "execution_count": null,
   "id": "d90c28b5-9d6c-473b-8f7f-08983fa3c195",
   "metadata": {},
   "outputs": [],
   "source": [
    "sampleInfoExternal['TrimmedReads']"
   ]
  },
  {
   "cell_type": "code",
   "execution_count": null,
   "id": "c9a1ac0b-80e4-4d03-890d-e0fef4d3183e",
   "metadata": {},
   "outputs": [],
   "source": [
    "print(masterData.probeClass)\n",
    "print(masterData.probeClassDict)\n",
    "# dataLog1External, sampleInfoExternal = masterData.drop_AOIs('#16_9', writeOrig=True)\n",
    "\n",
    "nuclei = sampleInfoExternal['AOINucleiCount']\n",
    "# print(nuclei)\n",
    "surfArea = sampleInfoExternal['AOISurfaceArea']\n",
    "# print(surfArea)\n",
    "\n",
    "# dataLog1External, sampleInfoExternal = masterData.add_class_mean(masterData.dataLog1)"
   ]
  },
  {
   "cell_type": "code",
   "execution_count": null,
   "id": "569d2cac-c2de-4585-9a9f-765bde70101a",
   "metadata": {},
   "outputs": [],
   "source": []
  },
  {
   "cell_type": "code",
   "execution_count": null,
   "id": "986da1f3-7c9f-49bb-8452-21e4c392380b",
   "metadata": {},
   "outputs": [],
   "source": []
  },
  {
   "cell_type": "code",
   "execution_count": null,
   "id": "6a4dbf4d-23ba-4513-ac44-1e4056a096d6",
   "metadata": {},
   "outputs": [],
   "source": []
  },
  {
   "cell_type": "code",
   "execution_count": null,
   "id": "1d9451b4-0b52-4486-b0a6-150b71ae91c2",
   "metadata": {},
   "outputs": [],
   "source": []
  },
  {
   "cell_type": "code",
   "execution_count": null,
   "id": "62495118-7259-4e8c-a51d-5aa9ca8b9b07",
   "metadata": {},
   "outputs": [],
   "source": []
  },
  {
   "cell_type": "code",
   "execution_count": null,
   "id": "57bc6a7f-5e62-4e09-a5f3-f95dd1e595ca",
   "metadata": {},
   "outputs": [],
   "source": []
  },
  {
   "cell_type": "code",
   "execution_count": null,
   "id": "d063929c",
   "metadata": {},
   "outputs": [],
   "source": [
    "slides = set(segs['SlideName'])\n",
    "\n",
    "colLookup = dict(zip(slides,range(len(slides))))"
   ]
  },
  {
   "cell_type": "code",
   "execution_count": null,
   "id": "df6b33a5",
   "metadata": {},
   "outputs": [],
   "source": [
    "colLookup"
   ]
  },
  {
   "cell_type": "code",
   "execution_count": null,
   "id": "d0c19d5c",
   "metadata": {},
   "outputs": [],
   "source": [
    "colMap = [colLookup[x]/len(slides) for x in segs['SlideName']]\n",
    "\n",
    "# colMap = [colLookup[x] for x in segs['SlideName']]\n"
   ]
  },
  {
   "cell_type": "code",
   "execution_count": null,
   "id": "d0672f9a",
   "metadata": {},
   "outputs": [],
   "source": [
    "colMap "
   ]
  }
 ],
 "metadata": {
  "kernelspec": {
   "display_name": "Python 3 (ipykernel)",
   "language": "python",
   "name": "python3"
  },
  "language_info": {
   "codemirror_mode": {
    "name": "ipython",
    "version": 3
   },
   "file_extension": ".py",
   "mimetype": "text/x-python",
   "name": "python",
   "nbconvert_exporter": "python",
   "pygments_lexer": "ipython3",
   "version": "3.11.7"
  }
 },
 "nbformat": 4,
 "nbformat_minor": 5
}
