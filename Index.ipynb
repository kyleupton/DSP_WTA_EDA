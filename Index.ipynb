{
 "cells": [
  {
   "cell_type": "markdown",
   "id": "c75c0a24-fa59-4ccb-a430-6013b067198f",
   "metadata": {},
   "source": [
    "<span style=\"color:red\"> *some emphasized markdown text*</span>\n"
   ]
  },
  {
   "cell_type": "markdown",
   "id": "a4010aa7-5271-4100-9fcb-6bf8c7cd6202",
   "metadata": {},
   "source": [
    "# DSP Illumina-WTA workflow"
   ]
  },
  {
   "cell_type": "markdown",
   "id": "8f4993bb-9b69-4b8c-beb3-cff8917de674",
   "metadata": {},
   "source": [
    "This workflow project is a work in progress, currently combining multiple different approaches. Current work is aiming to unify these notebooks into a single coherent workflow. Some notebooks may not be relevent currently."
   ]
  },
  {
   "cell_type": "markdown",
   "id": "3ff0bb45-745e-476e-ab1d-1a1911f07213",
   "metadata": {},
   "source": [
    "The current quick and dirty workflow is to use the Nanostring to StandR notebook to prepare files for use in StandR, then the StandR, EdgeR and EdgeR_Output notebooks.\n",
    "\n",
    "Work is ongoing to add documentation, make a robust workflow and functions, and add detailed QC options."
   ]
  },
  {
   "cell_type": "code",
   "execution_count": null,
   "id": "eac9e3b0-617f-412d-9464-d1386fda283c",
   "metadata": {},
   "outputs": [],
   "source": []
  },
  {
   "cell_type": "code",
   "execution_count": null,
   "id": "fc5c0286-f7f0-472c-b83f-ce4211b784b0",
   "metadata": {},
   "outputs": [],
   "source": []
  },
  {
   "cell_type": "markdown",
   "id": "0343bb6a-d1b2-4699-a542-2243bb6ac0a9",
   "metadata": {},
   "source": [
    "# 1. (This Notebook) Contents\n",
    "[1. How to use this notebook](#howTo)\n",
    "\n",
    "[2. Overview of the workflow in this notebook](#overview)\n",
    "\n",
    "\n",
    "#  2. Prelim view, cleanup, revision and grouping experimental sets.\n",
    "\n",
    "[2.A.i. View and clean annotations](#clean)\n",
    "\n",
    "[2.A.ii. View and QC Raw data](#qcRaw)\n",
    "\n",
    "[2.A.iii. Normalise data](#norm)\n",
    "\n",
    "\n",
    "#  3.\n",
    "\n",
    "[3. View and QC Normalised data](#qcNorm)\n",
    "\n",
    "[4. Set up comparisons](#compare)\n",
    "\n",
    "[5. Run DGE](#dge)\n",
    "\n",
    "[6. Convert EdgeR plots to volcano plots](#convert)\n"
   ]
  },
  {
   "cell_type": "markdown",
   "id": "5dd0955d-e220-44c8-9110-3da0723c698a",
   "metadata": {},
   "source": [
    "# 1. How to use this notebook <a class=\"anchor\" id=\"howTo\"></a>\n",
    "\n",
    "<!-- Cell from Paul Watmore -->\n",
    "\n",
    "This is a [Jupyter notebook](https://jupyter.org/) for DSP data exploration, normalisation and analysis. \n",
    "\n",
    "Jupyter notebooks are interactive documents that contain 'live code', which allows the user to complete an analysis by running code 'cells', which can be modified, updated or added to by the user.\n",
    "\n",
    "Individual Jupyter notebooks are based on a specific 'kernel', or analysis envirnment (mostly programming languages). This particular notebook is based on R. To see which version of R this notebook is based on, and as an example of running a code cell, click on the cell below and press the 'Run' button (top of the page).\n",
    "\n",
    "This notebook is designed for use on the QUT computer system. The notebook files and associated config files and scripts are downloaded from github to your home directory on the HPC. Data files and any outputs from the scripts and notebooks should be saved in a folder on the work directory so they can easily be shared with other users.\n",
    "\n",
    "NOTE: changes you make to the notebook will only be in your home directory. Bug fixes should be pushed to the master github repo, or logged as an issue on github. Github should contain the most recent working version of all notbooks and scripts and should be checked for changes. \n",
    "\n"
   ]
  },
  {
   "cell_type": "code",
   "execution_count": null,
   "id": "aa4abf17-02ef-409f-aa1f-fd10ceef7237",
   "metadata": {},
   "outputs": [],
   "source": []
  },
  {
   "cell_type": "markdown",
   "id": "9b4c4f7c-15f4-47b3-911b-9bd5a7de908b",
   "metadata": {},
   "source": [
    "# 1. Workflow Overview<a class=\"anchor\" id=\"overview\"></a>\n",
    "\n",
    "This notebook links to a number of auxilary notebooks that walk through a series of steps for data exploration, data cleaning and data analysis.\n",
    "\n",
    "To help with reproducibility, input and output files have been standardised as much as possible (this is a work in progress). <span style=\"color:red\">The folder structure is shown in section ###, and descriptions of the key files are shown in section ###.</span>\n",
    "\n",
    "This workflow is designed to be run in a collaborative manner on QUT compute facilities. As such, this utilises a number of different compute resources that each have different access restrictions and security protocols. Every effort has been made to ensure that sensitive data is protected, however, this may not be suitable for every project. It is every users responibility to ensure that data is stored and secured properly. No encryption is currently implemented in this workflow, relying on propper use of data use and storage according to QUT policies and procedures.\n",
    "\n",
    "\n",
    "\n",
    "\n",
    "\n",
    "The high level overview of the workflow is as follows:\n",
    "\n",
    "A. Decide on a working directory on the HPC to set up file structure.\n",
    "NOTE: HPC storage is preferred to facilitate colaboration and help with data security.\n",
    "\n",
    "2. View and clean annotations\n",
    "\n",
    "\n",
    "1. View and QC RAW Data\n",
    "\n",
    "...\n",
    "\n",
    "1. Merge or exclude AOIs\n",
    "\n",
    "\n",
    "1. Normalise Data\n",
    "\n",
    "\n",
    "1. Set up comparisons\n",
    "\n",
    "...\n",
    "\n",
    "1. Run DGE\n",
    "\n",
    "\n",
    "1. Convert EdgeR plots to volcano plots"
   ]
  },
  {
   "cell_type": "markdown",
   "id": "e768c7c9-176f-432a-acb0-47c3db21e157",
   "metadata": {},
   "source": [
    "### Some basic setup"
   ]
  },
  {
   "cell_type": "code",
   "execution_count": 1,
   "id": "0d702a2b-12fd-4875-81aa-b497cf68b15b",
   "metadata": {},
   "outputs": [],
   "source": [
    "import os\n",
    "os.getcwd()\n"
   ]
  },
  {
   "cell_type": "code",
   "execution_count": null,
   "id": "0f26fc9d-8496-4038-bc47-16dea18ec948",
   "metadata": {},
   "outputs": [],
   "source": [
    "# input the root directory (shared work folder)"
   ]
  },
  {
   "cell_type": "markdown",
   "id": "4c18ce20-7aa2-4659-a095-eb2075060aa5",
   "metadata": {},
   "source": [
    "### File structure\n",
    "```\n",
    "\n",
    "## Raw data files that are kept secure and imutable (read only access to researchers):\n",
    "\n",
    "\n",
    " ├─ R.......\n",
    " │ ├─ A...........\n",
    " │ │ ├─ i..\n",
    " │ │ │ ├─ c..._......._.....\n",
    " │ │ │ │ ├─ c.._..._2023XXXX\n",
    " │ │ │ │ │ ├─ I.....\n",
    " │ │ │ │ │ │ ├ Slide_1.png\n",
    " │ │ │ │ │ │ ├ Slide-1_clean.png\n",
    " │ │ │ │ │ │ ├ Slide-1.zip\n",
    " │ │ │ │ │ │ ├ Slide-1.ome.tiff\n",
    " │ │ │ │ │ │ ├ Slide-2.png\n",
    " │ │ │ │ │ │ ├ Slide-2_clean.png\n",
    " │ │ │ │ │ │ ├ Slide-2.zip\n",
    " │ │ │ │ │ │ ├ Slide-2.ome.tiff\n",
    " │ │ │ │ │ ├─ W.........\n",
    " │ │ │ │ │ │ ├ \n",
    " │ │ │ │ │ │ ├ \n",
    "\n",
    "FASTQ files?\n",
    "\n",
    "DCC files?\n",
    "\n",
    " │ │ │ │ │ ├─ D...\n",
    " │ │ │ │ │ │ ├ slide-1 A to H\n",
    " │ │ │ │ │ │ ├ slide-2 A to H\n",
    "\n",
    "\n",
    "## Processed data files that should be kept secure, but can be edited and shared by researchers:\n",
    "\n",
    " ├─ HPCFS\n",
    " │ ├─ Project_Folder                    (read/write access for multiple researchers)\n",
    " │ │ ├─ DSP_Data_Analysis\n",
    "                                        # Files initially downloaded form DSP with preliminary processed and QC processed data\n",
    " │ │ │ ├ Initial Dataset.xlsx           (may be over-written after changes to ROI/AOI annotations)\n",
    " │ │ │ ├ Default_QC.xlsx                (may be over-written after changes to ROI/AOI annotations)\n",
    "                                        # Files output from data QC script to identify ROI/AOIs and probes that fail data QC.\n",
    " │ │ │ ├ failAOIs.csv                                                      # Check location exportPath\n",
    " │ │ │ ├ FailProbes.csv                                                    # Check location exportPath\n",
    "                                        # Files output from normalisation (normalisation my run through multiple iterations. Different normalisation methods may be needed for some comparisons). \n",
    " │ │ │ ├─ Normalisation\n",
    " <!-- │ │ │ │ ├ QC_#Researcher#_#Project#_#Run#_NormInput.csv\n",
    " │ │ │ │ ├ \n",
    " │ │ │ │ ├ #Run#\n",
    " │ │ │ │ │ ├ NS_Norm_1-84\n",
    " │ │ │ │ ├ #Run#\n",
    " │ │ │ │ │ ├ NS_Norm_1-84\n",
    "                                        # Output from edgeR analysis \n",
    " │ │ │ ├─ EdgeR\n",
    " │ │ │ │ ├ EdgeR_#Run#_Norm25\n",
    " │ │ │ │ │ ├ \n",
    " │ │ │ │ │ ├ \n",
    " │ │ │ │ │ ├ \n",
    " │ │ │ │ │ ├ \n",
    " -->\n",
    "\n",
    "## Files on Github\n",
    "                                        ## Should not contain any hard links to QUT servers\n",
    "\n",
    " ├─ GitHub                              ## https://github.com/kyleupton/DSP_EDA_WTA\n",
    " │ ├ Index.ipynb\n",
    " │ ├ DSP_nCounter_Protein_QC_Git.ipynb\n",
    " │ ├ 240202_DSP_nCounter_Protein_Post-Norm_EDA.ipynb\n",
    "\n",
    " │ ├ NSNorm.R\n",
    "\n",
    " │ ├ EdgeR_Config.txt\n",
    " │ ├ EdgeR.R\n",
    "\n",
    " │ ├ README.md\n",
    " │ ├ Config.txt\n",
    " │ ├ LICENSE\n",
    "\n",
    " │ ├ \n",
    "\n",
    "\n",
    "\n",
    "\n",
    "\n",
    "\n",
    "\n",
    "<i>NOTE: the phrase \"kept secure\" above indicates that the files should be saved to a secure location with backup. Primary data should be kept in read-only locations with backup.\n",
    "</i>\n",
    "\n",
    "```\n",
    "ToDo: Add write output functionality to all files\n",
    "\n",
    "\n"
   ]
  },
  {
   "cell_type": "markdown",
   "id": "912d71b6-0217-40c0-8da0-2c04338ef00c",
   "metadata": {},
   "source": [
    "```\n",
    "\n",
    "- Root\n",
    " ├─ DSP_Protein_Data\n",
    " │ ├ \n",
    " │ ├─ Initial Dataset.xlsx\n",
    " │ ├─ Default_QC.xlsx\n",
    " │ ├─ \n",
    " │ ├─ Lab_Worksheet_P10016600#####1.txt\n",
    " │ ├─ Lab_Worksheet_P10016600#####2.txt\n",
    " │ ├─ \n",
    " │ ├─ \n",
    " │\n",
    " ├─ DSP_Rwa_QC\n",
    " │ ├─ AOI_Well_Mappings_Plate2.csv |- files\n",
    " │ ├─ AOI_Well_Mappings_Plate2.csv\n",
    " │\n",
    " │\n",
    " ├─ DSP_Rwa_QC\n",
    " │\n",
    " ├─ DSP_Rwa_QC\n",
    " │\n",
    " ├─ DSP_Rwa_QC\n",
    " │\n",
    " ├─ DSP_Rwa_QC\n",
    " │\n",
    " ├─ DSP_Rwa_QC\n",
    " │\n",
    " ├─ DSP EDA\n",
    " │ ├─ AOI_Well_Mappings_Plate2.csv |- files\n",
    " │\n",
    " │\n",
    " ├─ Data_Normalisation\n",
    " │ ├─ RUVIII_Subramaniam_HCC_grouped_NSNorm.R\n",
    " │ ├─ ERCC_Subramaniam_HCC_RUV_Grouped_Expressed.csv\n",
    " │ ├─ HCC_Nanostring_SampleInformation_grouped.csv\n",
    " │ ├─\n",
    " │ ├─ RUVIII_NSNorm_Grouped_Expressed\n",
    " │ ├─├─ NanoString_mRNA_norm...\n",
    " │ │ ├─ NanoStringNorm_28_none_mean_housekeeping.geo.mean.csv\n",
    " │\n",
    " │\n",
    " │\n",
    " │ │ EdgeR_Grouped_28\n",
    " │ │ ├─\n",
    " │ │ ├─\n",
    " │ │ ├─\n",
    " │ │ ├─\n",
    " │\n",
    " │\n",
    " ├─ EdgeR\n",
    " │ ├─ files\n",
    " │\n",
    " │\n",
    " │\n",
    " │\n",
    " │\n",
    "\n",
    "```\n",
    "DataNorm Output\n",
    "/data/bak/QUT/upton6/Documents/Nanostring/projects/NS_Liver_HCC_DSP/Data_Normalisation/RUVIII_NSNorm_Grouped_Expressed/"
   ]
  },
  {
   "cell_type": "code",
   "execution_count": null,
   "id": "373b8231-db15-4e9f-870c-6036ba5af9d2",
   "metadata": {},
   "outputs": [],
   "source": []
  },
  {
   "cell_type": "markdown",
   "id": "329daea6-a0b0-47ae-9742-d9d15b4fe7a6",
   "metadata": {},
   "source": [
    "2. Prepare configuration file"
   ]
  },
  {
   "cell_type": "code",
   "execution_count": null,
   "id": "b88abf39-ed67-4bcc-8b08-ccfed3b76a3f",
   "metadata": {},
   "outputs": [],
   "source": [
    "# input the root directory (shared work folder)"
   ]
  },
  {
   "cell_type": "code",
   "execution_count": null,
   "id": "c50a48bc-bf4d-4c8f-a234-1915a2d53075",
   "metadata": {},
   "outputs": [],
   "source": []
  },
  {
   "cell_type": "code",
   "execution_count": null,
   "id": "2f4202ed-e676-4342-a425-e5ba6fe3cb3e",
   "metadata": {},
   "outputs": [],
   "source": []
  },
  {
   "cell_type": "code",
   "execution_count": null,
   "id": "26409cb7-d8f0-48c0-8d2e-9f2b92da9682",
   "metadata": {},
   "outputs": [],
   "source": []
  },
  {
   "cell_type": "code",
   "execution_count": null,
   "id": "aa3d92d8-2749-4583-b528-6962b850441b",
   "metadata": {},
   "outputs": [],
   "source": []
  },
  {
   "cell_type": "markdown",
   "id": "3ece1a7e-79e3-4ae7-8166-0eaad63c5f8d",
   "metadata": {},
   "source": [
    "# 3. View and clean annotations <a class=\"anchor\" id=\"clean\"></a>"
   ]
  },
  {
   "cell_type": "markdown",
   "id": "7b71f3c4-69b7-4b0d-bda2-badef1e4156a",
   "metadata": {},
   "source": [
    "First up we want to confirm that all data entered into the DSP files is correct and clean. The following steps are easiest to performed using the DSP data analysis suite to view AOIs, and download and upload sample annotations. Sample annotations are easiest to edit in microsoft excel on any computer.\n"
   ]
  },
  {
   "cell_type": "markdown",
   "id": "c85cee2f-b8ec-42d0-bc5a-dd83f5296e47",
   "metadata": {},
   "source": [
    "### Steps:\n",
    "\n",
    "  1. Download \"Annotation template file\" from DSP\n",
    "\n",
    "  2. Add in factors for AOI annotation\n",
    "\n",
    "  3. Manually review all AOIs\n",
    "\n",
    "  4. Ensure the comment line has been deleted (row 1 in downloaded file). The header row should be row 1.\n",
    "\n",
    "  5. Upload file to DSP and select replace tags and factors\n",
    "  \n",
    "<i>Note: tags and factors are case sensitive. No aditional characters should be present. All tags must be comma separated</i>\n",
    "\n",
    "<i>Note: \"Initial Dataset\" and \"Default QC\" file must be re-generated if AOI annotations are updated.</i>\n",
    "\n",
    "<i>Note: Correlating AOIs to plates and wells was done using the lab worksheet documents and by matching the surface areas in those sheets with the surface areas in the DSP output excel files. 231206_DSP_nCounter_Protein_QC_Subramaniam_HCC_TMA_01 contains code for this but may not be completely up to date.</i>"
   ]
  },
  {
   "cell_type": "markdown",
   "id": "d4535655-021a-4ccf-8b6b-fe2e315a4190",
   "metadata": {},
   "source": [
    "Use the following notebook to review AOI annotations.\n",
    "\n",
    "This will help find:\n",
    " - non-conforming annotations (wrong case or puncuation)\n",
    " - empty annotations / missing annotations\n",
    " - empty cells\n",
    "\n"
   ]
  },
  {
   "cell_type": "markdown",
   "id": "4fb60f04-fa35-4d92-8390-a70ab61ad9fe",
   "metadata": {},
   "source": [
    "<!-- [Click here for QC notebook](DSP_nCounter_Annotation_QC_Git.ipynb) -->"
   ]
  },
  {
   "cell_type": "code",
   "execution_count": null,
   "id": "94a8fc69-4ca8-4a66-98c6-a19d1191e1ab",
   "metadata": {},
   "outputs": [],
   "source": []
  },
  {
   "cell_type": "markdown",
   "id": "d56faed1-bc41-448c-9d35-15b6f0defd3f",
   "metadata": {},
   "source": [
    "# 4. View and QC data <a class=\"anchor\" id=\"qc\"></a>"
   ]
  },
  {
   "cell_type": "markdown",
   "id": "34e44334-1335-4717-b2fe-c7dce62d839d",
   "metadata": {},
   "source": [
    "The next step is to chech the quality of the data that has been obtained from the DSP run.\n",
    "\n",
    "This is done for both the probes abd the AOIs to determine if any probes or AOIs should be excluded from analysis.\n",
    "\n",
    "\n",
    "[link to QC notebook](DSP_NGS_QC_Git.ipynb)\n",
    "\n",
    "<i>Note: The above notebook also contains the code for cleaning and filling out data annotations. May want to break this down into separate notebooks for clarity\n",
    "</i>"
   ]
  },
  {
   "cell_type": "code",
   "execution_count": null,
   "id": "251fbd94-082b-4d20-a1a7-bf8697b37b5c",
   "metadata": {},
   "outputs": [],
   "source": []
  },
  {
   "cell_type": "markdown",
   "id": "3832811d-0eda-4fb6-a4a3-9f4e421f3b06",
   "metadata": {},
   "source": [
    "# 5. Initial Data Normalisation <a class=\"anchor\" id=\"norm\"></a>"
   ]
  },
  {
   "cell_type": "code",
   "execution_count": null,
   "id": "6b4d4594-3bc1-41a3-bd35-991389426097",
   "metadata": {},
   "outputs": [],
   "source": []
  },
  {
   "cell_type": "markdown",
   "id": "662c1726-528f-4816-ac89-ff98e9e00d45",
   "metadata": {},
   "source": [
    "# 6. Normalised Data EDA <a class=\"anchor\" id=\"Norm_EDA\"></a>"
   ]
  },
  {
   "cell_type": "markdown",
   "id": "8ba16821-8ee3-4511-a441-78e378b82995",
   "metadata": {},
   "source": [
    "[Click here for Normalised Data EDA notebook](240202_DSP_nCounter_Protein_Post-Norm_EDA.ipynb)"
   ]
  },
  {
   "cell_type": "code",
   "execution_count": null,
   "id": "7db475fb-af8a-46a4-b190-a2e468b91321",
   "metadata": {},
   "outputs": [],
   "source": []
  },
  {
   "cell_type": "markdown",
   "id": "25b760b7-1798-421c-b797-1a93e3854d92",
   "metadata": {},
   "source": [
    "# Set up Experimental sets"
   ]
  },
  {
   "cell_type": "code",
   "execution_count": null,
   "id": "5a8d1c49-62aa-49ce-a2ed-ff996b4a41a4",
   "metadata": {},
   "outputs": [],
   "source": []
  },
  {
   "cell_type": "markdown",
   "id": "bea020a7-d69a-4960-8eb4-0d1b469397e5",
   "metadata": {},
   "source": [
    "# Revise normalisation"
   ]
  },
  {
   "cell_type": "code",
   "execution_count": null,
   "id": "6a768f5b-3486-4430-b550-834ddd606daf",
   "metadata": {},
   "outputs": [],
   "source": []
  },
  {
   "cell_type": "markdown",
   "id": "5a08b8f6-9cbf-4ae1-9ea5-a8627c303703",
   "metadata": {},
   "source": [
    "# !!Multiple!! Normalised Data EDA"
   ]
  },
  {
   "cell_type": "code",
   "execution_count": null,
   "id": "ad6be483-1333-4332-b9db-70e624d27431",
   "metadata": {},
   "outputs": [],
   "source": []
  },
  {
   "cell_type": "markdown",
   "id": "1692bb2d-a913-4650-b3fc-4322092fdfe8",
   "metadata": {},
   "source": [
    "# 7. Set up comparisons <a class=\"anchor\" id=\"compare\"></a>"
   ]
  },
  {
   "cell_type": "markdown",
   "id": "884c419b-f49a-4315-9bc6-db01c065ffe8",
   "metadata": {},
   "source": [
    "#### ToDo:\n",
    "```\n",
    "return AOIs to ignore in a flat text file\n",
    "\n",
    "Return AOI groups (with whole annotations of all AOIS in each group)\n",
    "What is the best file format to use for this? \n",
    "```"
   ]
  },
  {
   "cell_type": "markdown",
   "id": "d07da2b0-3886-4f31-b989-ab1e0deece36",
   "metadata": {},
   "source": [
    "ToDo: Complete script for compiling comparisons in python and converting to R compatible format\n",
    "\n"
   ]
  },
  {
   "cell_type": "code",
   "execution_count": null,
   "id": "7a74e927-3d12-4dd1-b9c0-328df8a3e482",
   "metadata": {},
   "outputs": [],
   "source": []
  },
  {
   "cell_type": "markdown",
   "id": "1c3bac2b-3fc3-4edc-8c0c-663879fdf6bf",
   "metadata": {},
   "source": [
    "# 8. Run DGE (EdgeR or DESeq) <a class=\"anchor\" id=\"dge\"></a>"
   ]
  },
  {
   "cell_type": "code",
   "execution_count": null,
   "id": "04d0eebe-72ea-43eb-842b-ce3a550c1a3f",
   "metadata": {},
   "outputs": [],
   "source": []
  },
  {
   "cell_type": "code",
   "execution_count": null,
   "id": "66266bbf-ae81-4ce5-ada3-bab3723b7b13",
   "metadata": {},
   "outputs": [],
   "source": []
  },
  {
   "cell_type": "markdown",
   "id": "8cbb2068-dcb5-4077-a233-e4375bcf10fb",
   "metadata": {},
   "source": [
    "[EDA notebook](231206_DSP_nCounter_Protein_Norm_EDA_01_Subramaniam_HCC.ipynb)\n"
   ]
  },
  {
   "cell_type": "code",
   "execution_count": null,
   "id": "56724116-03b2-446d-bd2a-749d7ea36ec7",
   "metadata": {},
   "outputs": [],
   "source": []
  }
 ],
 "metadata": {
  "kernelspec": {
   "display_name": "Python 3 (ipykernel)",
   "language": "python",
   "name": "python3"
  },
  "language_info": {
   "codemirror_mode": {
    "name": "ipython",
    "version": 3
   },
   "file_extension": ".py",
   "mimetype": "text/x-python",
   "name": "python",
   "nbconvert_exporter": "python",
   "pygments_lexer": "ipython3",
   "version": "3.11.7"
  }
 },
 "nbformat": 4,
 "nbformat_minor": 5
}
