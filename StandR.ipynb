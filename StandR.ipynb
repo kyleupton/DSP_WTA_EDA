{
 "cells": [
  {
   "cell_type": "code",
   "execution_count": null,
   "id": "89d5f18d-dfd2-4050-ba08-11b0b5c9bfd7",
   "metadata": {},
   "outputs": [],
   "source": [
    "Libraries <- c('standR', 'SpatialExperiment', 'limma', 'ExperimentHub',\n",
    "               'ggalluvial','optparse')\n",
    "lapply(Libraries, require, character.only = TRUE)\n",
    "rm(Libraries)\n"
   ]
  },
  {
   "cell_type": "code",
   "execution_count": null,
   "id": "595b86fb-fde5-49c6-8eeb-18f1b058b662",
   "metadata": {},
   "outputs": [],
   "source": []
  },
  {
   "cell_type": "code",
   "execution_count": null,
   "id": "fb415ae1-4f7c-4284-86de-5205b0505b56",
   "metadata": {},
   "outputs": [],
   "source": [
    "# Choose whether to save local copies of images in the StandR working directory\n",
    "exportFigs = FALSE"
   ]
  },
  {
   "cell_type": "code",
   "execution_count": null,
   "id": "03bdc697-1c37-482c-ad73-4d2bbb298621",
   "metadata": {},
   "outputs": [],
   "source": [
    "setwd(\"/Users/upton6/Documents/Nanostring/projects/Dando/DSP_Output\")\n"
   ]
  },
  {
   "cell_type": "code",
   "execution_count": null,
   "id": "c0a05f2d-1df9-4ceb-a5d9-3026f7b8ada0",
   "metadata": {},
   "outputs": [],
   "source": [
    "countFile <- \"countFile.tsv\"\n",
    "sampleAnnoFile <- \"sampleAnnoFile.tsv\"\n",
    "featureAnnoFile <- \"/Users/upton6/Documents/Nanostring/Projects/Dando/DSP_Output/featureAnnoFile.tsv\""
   ]
  },
  {
   "cell_type": "code",
   "execution_count": null,
   "id": "3bc98270-73e1-4757-8c74-8e21fabf63f1",
   "metadata": {},
   "outputs": [],
   "source": [
    "spe <- readGeoMx(countFile, sampleAnnoFile, \n",
    "                 featureAnnoFile = featureAnnoFile, rmNegProbe = FALSE)\n"
   ]
  },
  {
   "cell_type": "code",
   "execution_count": null,
   "id": "f5da82aa-1305-4af0-aaa6-2c4da8bb23f5",
   "metadata": {},
   "outputs": [],
   "source": []
  },
  {
   "cell_type": "code",
   "execution_count": null,
   "id": "d0e48ddf-50cf-4478-b09c-885a0ac07785",
   "metadata": {},
   "outputs": [],
   "source": [
    "# Set the StandR working directory\n",
    "setwd(\"/Users/upton6/Documents/Nanostring/projects/Dando/DSP_Output/StandR\")"
   ]
  },
  {
   "cell_type": "code",
   "execution_count": null,
   "id": "0736b004-2ca1-4296-9f05-89d4bd832ad4",
   "metadata": {},
   "outputs": [],
   "source": []
  },
  {
   "cell_type": "code",
   "execution_count": null,
   "id": "036eee53-12b6-44ad-8468-33d0ba21781d",
   "metadata": {},
   "outputs": [],
   "source": [
    "colData(spe)$regions <- paste0(colData(spe)$Tissue,\"_\",colData(spe)$Region,\"_\",colData(spe)$Layer)\n"
   ]
  },
  {
   "cell_type": "code",
   "execution_count": null,
   "id": "5bdde313-6f8d-411b-945d-20e545b70351",
   "metadata": {},
   "outputs": [],
   "source": []
  },
  {
   "cell_type": "code",
   "execution_count": null,
   "id": "394c6771-4ac1-4637-a96d-f215c89255bd",
   "metadata": {},
   "outputs": [],
   "source": [
    "plotSampleInfo(spe, column2plot = c(\"Tissue\",\"Region\",\"Layer\"))\n",
    "\n",
    "if (exportFigs){\n",
    "    pdfName <- 'SampleInfo_spe.pdf'\n",
    "    pdf( pdfName, width = 8 , height = 4 )\n",
    "    plotSampleInfo(spe, column2plot = c(\"Tissue\",\"Region\",\"Layer\"))\n",
    "    dev.off()\n",
    "}\n",
    "\n"
   ]
  },
  {
   "cell_type": "code",
   "execution_count": null,
   "id": "04a55cc8-7a2a-4417-acd1-be8c5cacd69d",
   "metadata": {},
   "outputs": [],
   "source": []
  },
  {
   "cell_type": "code",
   "execution_count": null,
   "id": "8d355de9-6f71-4aac-b41f-ec5d08f0cd73",
   "metadata": {},
   "outputs": [],
   "source": [
    "spe <- addPerROIQC(spe, rm_genes = TRUE)\n",
    "\n",
    "plotGeneQC(spe, ordannots = \"regions\", col = regions, point_size = 2, bin_num = 30, top_n=90)\n",
    "\n",
    "if (exportFigs){\n",
    "    pdfName <- 'GeneQC_spe.pdf'\n",
    "    pdf( pdfName, width = 8 , height = 4 )\n",
    "    plotGeneQC(spe, ordannots = \"regions\", col = regions, point_size = 2, bin_num = 30, top_n=90)\n",
    "    dev.off()\n",
    "}"
   ]
  },
  {
   "cell_type": "code",
   "execution_count": null,
   "id": "7e453635-cf04-4e33-9642-13c4e63cc606",
   "metadata": {},
   "outputs": [],
   "source": []
  },
  {
   "cell_type": "code",
   "execution_count": null,
   "id": "2b5ea350-8c38-4c5a-a3ca-9c1f0ce8948d",
   "metadata": {},
   "outputs": [],
   "source": [
    "plotROIQC(spe, y_threshold = 100000, col = colData(spe)$ScanLabel)\n",
    "\n",
    "if (exportFigs){\n",
    "    pdfName <- 'ROIQC_spe.pdf'\n",
    "    pdf( pdfName, width = 8 , height = 4 )\n",
    "    plotROIQC(spe, y_threshold = 1000000, col = SlideName)\n",
    "    plotROIQC(spe, y_threshold = 100000, col = colData(spe)$ScanLabel)\n",
    "    dev.off()\n",
    "}"
   ]
  },
  {
   "cell_type": "code",
   "execution_count": null,
   "id": "428916f0-5631-4900-b322-4786b204efc9",
   "metadata": {},
   "outputs": [],
   "source": []
  },
  {
   "cell_type": "code",
   "execution_count": null,
   "id": "ca4810af-e8c3-46b4-bf46-92a1d9deb36f",
   "metadata": {},
   "outputs": [],
   "source": [
    "spe <- spe[,rownames(colData(spe))[colData(spe)$lib_size > 100000]]\n"
   ]
  },
  {
   "cell_type": "code",
   "execution_count": null,
   "id": "d508f7e7-2437-4c40-ba62-7d0078108f6f",
   "metadata": {},
   "outputs": [],
   "source": [
    "plotRLExpr(spe, ordannots = \"SegmentLabel\", assay = 2, col = colData(spe)$SegmentLabel)\n"
   ]
  },
  {
   "cell_type": "code",
   "execution_count": null,
   "id": "2b008044-bb4d-4c93-9084-fcb9f27d3553",
   "metadata": {},
   "outputs": [],
   "source": [
    "plotRLExpr(spe, ordannots = \"Tissue\", assay = 2, col = colData(spe)$Tissue)\n"
   ]
  },
  {
   "cell_type": "code",
   "execution_count": null,
   "id": "13f8ebb4-8530-4b93-9d62-d7cb373dec3a",
   "metadata": {},
   "outputs": [],
   "source": [
    "plotRLExpr(spe, ordannots = \"Region\", assay = 2, col = colData(spe)$Region)\n"
   ]
  },
  {
   "cell_type": "code",
   "execution_count": null,
   "id": "701a095c-83e1-41be-af02-8df8b81d3504",
   "metadata": {},
   "outputs": [],
   "source": [
    "plotRLExpr(spe, ordannots = \"Layer\", assay = 2, col = colData(spe)$Layer)\n"
   ]
  },
  {
   "cell_type": "code",
   "execution_count": null,
   "id": "95b915c7-9e3e-4e5b-acc5-0ece2b276b7c",
   "metadata": {},
   "outputs": [],
   "source": [
    "\n",
    "\n",
    "if (exportFigs){\n",
    "    pdfName <- 'RLE_spe.pdf'\n",
    "    pdf( pdfName, width = 8 , height = 4 )\n",
    "    plotRLExpr(spe, ordannots = \"SegmentLabel\", assay = 2, col = colData(spe)$SegmentLabel)\n",
    "    plotRLExpr(spe, ordannots = \"Tissue\", assay = 2, col = colData(spe)$Tissue)\n",
    "    plotRLExpr(spe, ordannots = \"Region\", assay = 2, col = colData(spe)$Region)\n",
    "    plotRLExpr(spe, ordannots = \"Layer\", assay = 2, col = colData(spe)$Layer)\n",
    "    dev.off()\n",
    "}"
   ]
  },
  {
   "cell_type": "code",
   "execution_count": null,
   "id": "56d89a68-307d-4185-8045-b79a24a1aea0",
   "metadata": {},
   "outputs": [],
   "source": []
  },
  {
   "cell_type": "code",
   "execution_count": null,
   "id": "8ef9e9c8-b80e-48d6-a09d-d5ddbdafaca2",
   "metadata": {},
   "outputs": [],
   "source": [
    "# colData(spe)$smlRegions <- paste0(colData(spe)$Clinical_outcome,\"_\",colData(spe)$Group)\n",
    "\n",
    "# drawPCA(spe, assay = 2, col = Core, shape = smlRegions)\n",
    "drawPCA(spe, assay = 2, col = Tissue, shape = Tissue)\n"
   ]
  },
  {
   "cell_type": "code",
   "execution_count": null,
   "id": "a7ff6192-f173-4d05-b775-837f611bb04e",
   "metadata": {},
   "outputs": [],
   "source": [
    "drawPCA(spe, assay = 2, col = Region, shape = Tissue)\n"
   ]
  },
  {
   "cell_type": "code",
   "execution_count": null,
   "id": "dc45afcb-e398-4368-b530-c7114ace6bd1",
   "metadata": {},
   "outputs": [],
   "source": [
    "drawPCA(spe, assay = 2, col = Layer, shape = Tissue)\n"
   ]
  },
  {
   "cell_type": "code",
   "execution_count": null,
   "id": "819115dd-f933-41bc-894c-b6471a59038f",
   "metadata": {},
   "outputs": [],
   "source": [
    "if (exportFigs){\n",
    "    pdfName <- 'PCAA_spe.pdf'\n",
    "    pdf( pdfName, width = 20 , height = 20 )\n",
    "    drawPCA(spe, assay = 2, col = Tissue, shape = Tissue)\n",
    "    drawPCA(spe, assay = 2, col = Region, shape = Tissue)\n",
    "    drawPCA(spe, assay = 2, col = Layer, shape = Tissue)\n",
    "    dev.off()\n",
    "}"
   ]
  },
  {
   "cell_type": "code",
   "execution_count": null,
   "id": "f34fab5a-136f-467c-a8bd-4e9c69403c51",
   "metadata": {},
   "outputs": [],
   "source": []
  },
  {
   "cell_type": "code",
   "execution_count": null,
   "id": "26a78e68-086e-4d08-ab33-943d474394ae",
   "metadata": {},
   "outputs": [],
   "source": [
    "set.seed(100)\n",
    "spe <- scater::runPCA(spe)\n",
    "pca_results <- reducedDim(spe, \"PCA\")\n",
    "plotScreePCA(spe, precomputed = pca_results)\n",
    "\n",
    "\n",
    "if (exportFigs){\n",
    "    pdfName <- 'PCAA_Scree_spe.pdf'\n",
    "    pdf( pdfName, width = 8 , height = 4 )\n",
    "    plotScreePCA(spe, precomputed = pca_results)\n",
    "    dev.off()\n",
    "}"
   ]
  },
  {
   "cell_type": "code",
   "execution_count": null,
   "id": "7e1a5d66-1ad3-40af-8cc3-81bccff93996",
   "metadata": {},
   "outputs": [],
   "source": []
  },
  {
   "cell_type": "code",
   "execution_count": null,
   "id": "8b8c1910-f72e-4801-83db-14994d394cb3",
   "metadata": {},
   "outputs": [],
   "source": [
    "colData(spe)$biology <- paste0(colData(spe)$Tissue, \"_\", colData(spe)$Region, \"_\", colData(spe)$Layer)\n"
   ]
  },
  {
   "cell_type": "code",
   "execution_count": null,
   "id": "f5bf3625-48bc-4d35-9f48-a3047a68f42a",
   "metadata": {},
   "outputs": [],
   "source": []
  },
  {
   "cell_type": "code",
   "execution_count": null,
   "id": "fa3122a0-fffa-47b1-a2f7-abc759723342",
   "metadata": {},
   "outputs": [],
   "source": [
    "spe_tmm <- geomxNorm(spe, method = \"TMM\")\n"
   ]
  },
  {
   "cell_type": "code",
   "execution_count": null,
   "id": "6a9acb37-a42d-495e-9d36-cf8774032994",
   "metadata": {},
   "outputs": [],
   "source": [
    "spe <- findNCGs(spe, batch_name = \"ScanLabel\", top_n = 500)\n"
   ]
  },
  {
   "cell_type": "code",
   "execution_count": null,
   "id": "3bcfcde7-127e-488c-a6e5-5faa9d406195",
   "metadata": {},
   "outputs": [],
   "source": [
    "metadata(spe) |> names()\n"
   ]
  },
  {
   "cell_type": "code",
   "execution_count": null,
   "id": "2d0395d0-9827-454e-8ac9-5713e4e07869",
   "metadata": {},
   "outputs": [],
   "source": []
  },
  {
   "cell_type": "code",
   "execution_count": null,
   "id": "ceba5f0c-daf4-44b6-b1a1-697a9c8fcca3",
   "metadata": {},
   "outputs": [],
   "source": []
  },
  {
   "cell_type": "code",
   "execution_count": null,
   "id": "7308b526-bcd6-4dc6-9c01-be8f0bf84948",
   "metadata": {},
   "outputs": [],
   "source": [
    "\n",
    "\n",
    "# # Here we use k of 5 to perform RUV-4 normalization.\n",
    "\n",
    "# # pdfName <- 'PCA_series_Core-Clinical_outcome-Time_point-Group_spe.pdf'\n",
    "# # pdf( pdfName, width = 8 , height = 4 )\n",
    "\n",
    "# for(i in seq(20)){\n",
    "#   spe_ruv <- geomxBatchCorrection(spe, factors = \"biology\", \n",
    "#                                   NCGs = metadata(spe)$NCGs, k = i)\n",
    "#   plotPairPCA(spe_ruv, assay = 2, n_dimension = 4, color = Tissue, title = paste0(\"k = \", i))\n",
    "#   plotPairPCA(spe_ruv, assay = 2, n_dimension = 4, color = Region, title = paste0(\"k = \", i))\n",
    "#   plotPairPCA(spe_ruv, assay = 2, n_dimension = 4, color = Layer, title = paste0(\"k = \", i))\n",
    "  \n",
    "# }\n",
    "# # dev.off()\n",
    "\n",
    "\n"
   ]
  },
  {
   "cell_type": "code",
   "execution_count": null,
   "id": "ab5d39b8-5b52-4a51-8625-d0647fcb2414",
   "metadata": {},
   "outputs": [],
   "source": []
  },
  {
   "cell_type": "code",
   "execution_count": null,
   "id": "ba6447d4-54ec-4dc7-8caf-3067df3d1280",
   "metadata": {},
   "outputs": [],
   "source": [
    "spe_ruv2 <- geomxBatchCorrection(spe, factors = \"biology\", \n",
    "                                NCGs = metadata(spe)$NCGs, k = 2)\n",
    "spe_ruv3 <- geomxBatchCorrection(spe, factors = \"biology\", \n",
    "                                 NCGs = metadata(spe)$NCGs, k = 3)\n",
    "spe_ruv4 <- geomxBatchCorrection(spe, factors = \"biology\", \n",
    "                                 NCGs = metadata(spe)$NCGs, k = 4)\n",
    "spe_ruv5 <- geomxBatchCorrection(spe, factors = \"biology\", \n",
    "                                NCGs = metadata(spe)$NCGs, k = 5)\n",
    "spe_ruv6 <- geomxBatchCorrection(spe, factors = \"biology\", \n",
    "                                 NCGs = metadata(spe)$NCGs, k = 6)\n",
    "spe_ruv7 <- geomxBatchCorrection(spe, factors = \"biology\", \n",
    "                                 NCGs = metadata(spe)$NCGs, k = 7)\n",
    "spe_ruv8 <- geomxBatchCorrection(spe, factors = \"biology\", \n",
    "                                 NCGs = metadata(spe)$NCGs, k = 8)\n",
    "spe_ruv9 <- geomxBatchCorrection(spe, factors = \"biology\", \n",
    "                                 NCGs = metadata(spe)$NCGs, k = 9)\n",
    "spe_ruv10 <- geomxBatchCorrection(spe, factors = \"biology\", \n",
    "                                NCGs = metadata(spe)$NCGs, k = 10)\n",
    "spe_ruv15 <- geomxBatchCorrection(spe, factors = \"biology\", \n",
    "                                NCGs = metadata(spe)$NCGs, k = 15)\n",
    "# spe_ruv20 <- geomxBatchCorrection(spe, factors = \"biology\", \n",
    "#                                 NCGs = metadata(spe)$NCGs, k = 20)\n",
    "\n"
   ]
  },
  {
   "cell_type": "code",
   "execution_count": null,
   "id": "cbcfa59c-5700-4b93-aa38-6491cb6fced6",
   "metadata": {},
   "outputs": [],
   "source": [
    "spe_ruv15"
   ]
  },
  {
   "cell_type": "code",
   "execution_count": null,
   "id": "ecbf6ed2-07da-44d5-8e9f-79ec460e62b2",
   "metadata": {},
   "outputs": [],
   "source": [
    "spe_list <- list(spe, spe_ruv2)\n",
    "plotClusterEvalStats(spe_list = spe_list,\n",
    "                     bio_feature_name = \"biology\",\n",
    "                     batch_feature_name = \"Tissue\",\n",
    "                     data_names = c(\"Raw\",\"RUV4-2\"))\n"
   ]
  },
  {
   "cell_type": "code",
   "execution_count": null,
   "id": "cce314fb-e129-4fa7-8c4d-0591391f19df",
   "metadata": {},
   "outputs": [],
   "source": [
    "spe_list <- list(spe, spe_ruv2,spe_ruv3,spe_ruv4,spe_ruv5,spe_ruv6,spe_ruv7,spe_ruv8,spe_ruv9,spe_ruv10,spe_ruv15)\n",
    "plotClusterEvalStats(spe_list = spe_list,\n",
    "                     bio_feature_name = \"biology\",\n",
    "                     batch_feature_name = \"Tissue\",\n",
    "                     data_names = c(\"Raw\",\"RUV4-2\",\"RUV4-3\",\"RUV4-4\",\"RUV4-5\",\"RUV4-6\",\"RUV4-7\",\"RUV4-8\",\"RUV4-9\",\"RUV410\",\"RUV415\"))\n"
   ]
  },
  {
   "cell_type": "code",
   "execution_count": null,
   "id": "0602cfd1-3e58-4baf-a506-7f8ed040ab23",
   "metadata": {},
   "outputs": [],
   "source": [
    "\n",
    "\n",
    "\n",
    "\n",
    "# pdfName <- 'plotClusterEvalStats_spe_ruv.pdf'\n",
    "# # ToDo: Increase number of shapes in plot. change colours to colour by KO or diet\n",
    "# pdf( pdfName, width = 20 , height = 10 )\n",
    "\n",
    "\n",
    "\n",
    "spe_list <- list(spe, spe_ruv2,spe_ruv3,spe_ruv4,spe_ruv5,spe_ruv6,spe_ruv7,spe_ruv8,spe_ruv9,spe_ruv10,spe_ruv15,spe_ruv20)\n",
    "plotClusterEvalStats(spe_list = spe_list,\n",
    "                     bio_feature_name = \"Clinical_outcome\",\n",
    "                     batch_feature_name = \"ScanLabel\",\n",
    "                     data_names = c(\"Raw\",\"RUV4-2\",\"RUV4-3\",\"RUV4-4\",\"RUV4-5\",\"RUV4-6\",\"RUV4-7\",\"RUV4-8\",\"RUV4-9\",\"RUV410\",\"RUV415\",\"RUV420\"))\n",
    "\n",
    "# spe_list <- list(spe, spe_ruv2,spe_ruv3,spe_ruv4,spe_ruv5,spe_ruv6,spe_ruv7,spe_ruv8,spe_ruv9,spe_ruv10,spe_ruv15)\n",
    "# plotClusterEvalStats(spe_list = spe_list,\n",
    "#                      bio_feature_name = \"Core\",\n",
    "#                      batch_feature_name = \"ScanLabel\",\n",
    "#                      data_names = c(\"Raw\",\"RUV4-2\",\"RUV4-3\",\"RUV4-4\",\"RUV4-5\",\"RUV4-6\",\"RUV4-7\",\"RUV4-8\",\"RUV4-9\",\"RUV410\",\"RUV415\",\"RUV420\"))\n",
    "\n",
    "spe_list <- list(spe, spe_ruv2,spe_ruv3,spe_ruv4,spe_ruv5,spe_ruv6,spe_ruv7,spe_ruv8,spe_ruv9,spe_ruv10,spe_ruv15,spe_ruv20)\n",
    "plotClusterEvalStats(spe_list = spe_list,\n",
    "                     bio_feature_name = \"Time_point\",\n",
    "                     batch_feature_name = \"ScanLabel\",\n",
    "                     data_names = c(\"Raw\",\"RUV4-2\",\"RUV4-3\",\"RUV4-4\",\"RUV4-5\",\"RUV4-6\",\"RUV4-7\",\"RUV4-8\",\"RUV4-9\",\"RUV410\",\"RUV415\",\"RUV420\"))\n",
    "\n",
    "spe_list <- list(spe, spe_ruv2,spe_ruv3,spe_ruv4,spe_ruv5,spe_ruv6,spe_ruv7,spe_ruv8,spe_ruv9,spe_ruv10,spe_ruv15,spe_ruv20)\n",
    "plotClusterEvalStats(spe_list = spe_list,\n",
    "                     bio_feature_name = \"Group\",\n",
    "                     batch_feature_name = \"ScanLabel\",\n",
    "                     data_names = c(\"Raw\",\"RUV4-2\",\"RUV4-3\",\"RUV4-4\",\"RUV4-5\",\"RUV4-6\",\"RUV4-7\",\"RUV4-8\",\"RUV4-9\",\"RUV410\",\"RUV415\",\"RUV420\"))\n",
    "\n",
    "dev.off()\n",
    "\n"
   ]
  },
  {
   "cell_type": "code",
   "execution_count": null,
   "id": "117a3234-a9fb-4851-bd26-399338b9abd8",
   "metadata": {},
   "outputs": [],
   "source": []
  },
  {
   "cell_type": "code",
   "execution_count": null,
   "id": "3e375d94-d6a8-46c3-ba89-66e5e6b97f1e",
   "metadata": {},
   "outputs": [],
   "source": [
    "\n",
    "spe_ruv <- geomxBatchCorrection(spe, factors = \"biology\", \n",
    "                                NCGs = metadata(spe)$NCGs, k = 5)\n"
   ]
  },
  {
   "cell_type": "code",
   "execution_count": null,
   "id": "b4ec23f6-80b8-4ccc-9147-4e5a6f9ab589",
   "metadata": {},
   "outputs": [],
   "source": [
    "plotPairPCA(spe, assay = 2, color = Tissue, shape = Tissue, title = \"RUV4\")\n"
   ]
  },
  {
   "cell_type": "code",
   "execution_count": null,
   "id": "91b41418-fac1-4998-8078-8ffb89a9204a",
   "metadata": {},
   "outputs": [],
   "source": [
    "plotPairPCA(spe_ruv, assay = 2, color = Tissue, shape = Tissue, title = \"RUV4\")\n"
   ]
  },
  {
   "cell_type": "code",
   "execution_count": null,
   "id": "4eb24ef5-3951-40c4-ad98-8dbcaa9b4de4",
   "metadata": {},
   "outputs": [],
   "source": []
  },
  {
   "cell_type": "code",
   "execution_count": null,
   "id": "a1c64dc3-5918-44c3-b071-c74bdfe81f6e",
   "metadata": {},
   "outputs": [],
   "source": [
    "plotPairPCA(spe, assay = 2, color = Region, shape = Tissue, title = \"RUV4\")\n"
   ]
  },
  {
   "cell_type": "code",
   "execution_count": null,
   "id": "f09bec9a-1949-45a9-9480-bb9509b1b8be",
   "metadata": {},
   "outputs": [],
   "source": [
    "plotPairPCA(spe_ruv, assay = 2, color = Region, shape = Tissue, title = \"RUV4\")\n"
   ]
  },
  {
   "cell_type": "code",
   "execution_count": null,
   "id": "0f29e5d2-68e7-4dce-aae1-eecf22a1f42e",
   "metadata": {},
   "outputs": [],
   "source": []
  },
  {
   "cell_type": "code",
   "execution_count": null,
   "id": "5c8eb43d-ba9f-410e-b7d8-4eff00b1e2a1",
   "metadata": {},
   "outputs": [],
   "source": []
  },
  {
   "cell_type": "code",
   "execution_count": null,
   "id": "abb52eb2-f56c-46a1-8265-6b4e5fde39a4",
   "metadata": {},
   "outputs": [],
   "source": [
    "plotPairPCA(spe, assay = 2, color = Layer, shape = Tissue, title = \"RUV4\")\n"
   ]
  },
  {
   "cell_type": "code",
   "execution_count": null,
   "id": "6be9d2af-592c-481d-ae8e-c15d4ca540c7",
   "metadata": {},
   "outputs": [],
   "source": [
    "plotPairPCA(spe_ruv, assay = 2, color = Layer, shape = Tissue, title = \"RUV4\")\n"
   ]
  },
  {
   "cell_type": "code",
   "execution_count": null,
   "id": "bbef862c-d212-45e0-8a0d-01da94313208",
   "metadata": {},
   "outputs": [],
   "source": []
  },
  {
   "cell_type": "code",
   "execution_count": null,
   "id": "fbe9bdde-5f7d-4aad-b549-e301b83fd3a2",
   "metadata": {},
   "outputs": [],
   "source": [
    "\n",
    "# # \n",
    "# # Moreover, we can also have a look at the RLE plots of the normalized count.\n",
    "# # \n",
    "# pdfName <- 'RLE_spe_ruv.pdf'\n",
    "# pdf( pdfName, width = 8 , height = 4 )\n",
    "# plotRLExpr(spe_ruv, assay = 2, color = SegmentLabel) + ggtitle(\"RUV4\")\n",
    "# # plotRLExpr(spe_ruv, assay = 2, color = Core) + ggtitle(\"RUV4\")\n",
    "# plotRLExpr(spe_ruv, assay = 2, color = Clinical_outcome) + ggtitle(\"RUV4\")\n",
    "# plotRLExpr(spe_ruv, assay = 2, color = Time_point) + ggtitle(\"RUV4\")\n",
    "# plotRLExpr(spe_ruv, assay = 2, color = Group) + ggtitle(\"RUV4\")\n",
    "# dev.off()\n",
    "# # \n",
    "# # \n",
    "# # **For more detailed analysis pipeline and usage of the standR package, please see https://github.com/DavisLaboratory/GeoMXAnalysisWorkflow**\n",
    "# # \n"
   ]
  },
  {
   "cell_type": "code",
   "execution_count": null,
   "id": "ed852d16-876c-4b96-bd80-0affd1e3bbd4",
   "metadata": {},
   "outputs": [],
   "source": [
    "plotRLExpr(spe_ruv, assay = 2, color = Tissue) + ggtitle(\"RUV4\")\n"
   ]
  },
  {
   "cell_type": "code",
   "execution_count": null,
   "id": "69df4b88-391c-4cfe-bdad-e550bd7c2a1f",
   "metadata": {},
   "outputs": [],
   "source": [
    "plotRLExpr(spe_ruv, assay = 2, color = Region) + ggtitle(\"RUV4\")\n"
   ]
  },
  {
   "cell_type": "code",
   "execution_count": null,
   "id": "32aead4f-2828-4ca7-9d05-5c94ba2d97c9",
   "metadata": {},
   "outputs": [],
   "source": [
    "plotRLExpr(spe_ruv, assay = 2, color = Layer) + ggtitle(\"RUV4\")\n"
   ]
  },
  {
   "cell_type": "code",
   "execution_count": null,
   "id": "f7d6da16-fee8-4dd1-93d6-60ad1fa8c9f8",
   "metadata": {},
   "outputs": [],
   "source": [
    "\n",
    "# Write RUV corrected results to file\n",
    "spe_RUV_out <- assay(spe_ruv, i=2)\n",
    "spe_RUV_out <- 2**spe_RUV_out\n",
    "\n",
    "write.table(spe_RUV_out, file = \"RUV_corrected_values.csv\", sep = \",\", row.names = TRUE, col.names = TRUE)\n",
    "\n",
    "\n",
    "\n",
    "# # SessionInfo\n",
    "sessionInfo()\n"
   ]
  },
  {
   "cell_type": "code",
   "execution_count": null,
   "id": "26335171-2ba0-404d-a6ff-0eb1e762b6b9",
   "metadata": {},
   "outputs": [],
   "source": []
  },
  {
   "cell_type": "code",
   "execution_count": null,
   "id": "b113a22d-1433-4805-94bd-49068ac846a9",
   "metadata": {},
   "outputs": [],
   "source": []
  },
  {
   "cell_type": "code",
   "execution_count": null,
   "id": "5a6db2e8-7443-4277-9b63-c4ccd929c9eb",
   "metadata": {},
   "outputs": [],
   "source": []
  },
  {
   "cell_type": "code",
   "execution_count": null,
   "id": "88925dc9-cb5c-4ba1-85bf-32f4f560173f",
   "metadata": {},
   "outputs": [],
   "source": []
  }
 ],
 "metadata": {
  "kernelspec": {
   "display_name": "R",
   "language": "R",
   "name": "ir"
  },
  "language_info": {
   "codemirror_mode": "r",
   "file_extension": ".r",
   "mimetype": "text/x-r-source",
   "name": "R",
   "pygments_lexer": "r",
   "version": "4.3.2"
  }
 },
 "nbformat": 4,
 "nbformat_minor": 5
}
