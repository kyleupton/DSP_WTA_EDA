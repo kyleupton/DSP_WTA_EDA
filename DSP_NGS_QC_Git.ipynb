{
 "cells": [
  {
   "cell_type": "code",
   "execution_count": null,
   "id": "cfc5a611",
   "metadata": {},
   "outputs": [],
   "source": [
    "import os\n",
    "import scipy\n",
    "import numpy as np\n",
    "import pandas as pd\n",
    "import matplotlib.pyplot as plt\n",
    "\n",
    "from openpyxl import load_workbook\n",
    "\n",
    "from scipy import stats as stats\n",
    "from copy import copy as copy\n",
    "\n"
   ]
  },
  {
   "cell_type": "code",
   "execution_count": null,
   "id": "bd93d473-9936-4c75-9e17-a4f9ccd6c94e",
   "metadata": {},
   "outputs": [],
   "source": [
    "# from functions.functions import test_print\n",
    "\n",
    "# from functions.plotting import plot_SA_Hist\n",
    "# from functions.plotting import draw_probe_plot\n",
    "# from functions.plotting import probe_GeoMean_Plots\n",
    "# from functions.plotting import binding_density_plot\n",
    "\n",
    "from functions.masterdata import master_data\n",
    "\n"
   ]
  },
  {
   "cell_type": "code",
   "execution_count": null,
   "id": "805c2f34-ae7a-465d-96a8-7cf23bcad135",
   "metadata": {},
   "outputs": [],
   "source": [
    "# read in paths from config file\n",
    "\n",
    "configDict = {\n",
    "    'rootDir': '',\n",
    "    'initialDataPath' : '',\n",
    "    'QCDataPath' : '',\n",
    "    # 'labWorksheet01Path':'',\n",
    "    'projectName':''\n",
    "}\n",
    "\n",
    "# with open(os.path.join(workingDir, 'config.txt'),'r') as f:\n",
    "with open('config.txt','r') as f:\n",
    "    lines = f.readlines()\n",
    "    for line in lines:\n",
    "        if not line.startswith('#'):\n",
    "            line = line.strip()\n",
    "            fields = line.split(':')\n",
    "\n",
    "            if fields[0].strip()=='initialDataPath':\n",
    "                configDict[fields[0].strip()] = fields[1].strip().strip('\\'')\n",
    "            else:\n",
    "                configDict[fields[0].strip()] = fields[1].strip().strip('\\'')\n",
    "## ToDo: Add checks to ensure that minimal fields have been populated. Raise errors or warnings\n"
   ]
  },
  {
   "cell_type": "code",
   "execution_count": null,
   "id": "8b63e81e-2925-448c-9f28-35728ce4b62a",
   "metadata": {},
   "outputs": [],
   "source": [
    "configDict"
   ]
  },
  {
   "cell_type": "markdown",
   "id": "6d148043-d03d-4647-ae7b-a22d6640c497",
   "metadata": {},
   "source": [
    "# Define functions"
   ]
  },
  {
   "cell_type": "code",
   "execution_count": null,
   "id": "e4c42ae8-96c9-42a3-b758-2ef16ed255f4",
   "metadata": {},
   "outputs": [],
   "source": [
    "class threshold_probes:\n",
    "    def __init__(self, data, bins):\n",
    "        \n",
    "        self.data = data.drop(labels=['mean','probeClass'], axis=1)\n",
    "        self.bins = bins\n",
    "        self.thisHist = plt.hist(self.data.values.flatten(), bins = self.bins)\n",
    "\n",
    "    def zoom_plot(self, start, end):\n",
    "        plt.hist(self.data.values.flatten(), bins = self.bins)\n",
    "        plt.xlim(0,3)        \n",
    "        \n",
    "    def check_threshold(self, start, end):\n",
    "        print(self.thisHist[0][start:end])\n",
    "        print(self.thisHist[1][start:end])\n",
    "\n",
    "    def set_threshold_idx(self, idx):\n",
    "        print(self.thisHist[0][idx])\n",
    "        print(self.thisHist[1][idx])\n",
    "        \n",
    "        self.threshold_idx = idx\n",
    "        self.threshold = self.thisHist[1][idx]\n",
    "\n",
    "    def get_filter(self):\n",
    "        self.ETfilter = self.data >= self.threshold\n",
    "        return(self.ETfilter)\n"
   ]
  },
  {
   "cell_type": "markdown",
   "id": "385f13fb-ddb4-4458-92c3-30a3b8a2d04e",
   "metadata": {},
   "source": [
    "# Import data from Nanostring initial dataset file."
   ]
  },
  {
   "cell_type": "code",
   "execution_count": null,
   "id": "800b510a-8a16-4bec-abda-5af3d3b2406d",
   "metadata": {
    "scrolled": true
   },
   "outputs": [],
   "source": [
    "dataPath = os.path.join(configDict['rootDir'],configDict['initialDataPath'])\n",
    "dataPath = os.path.join(configDict['rootDir'],configDict['QCDataPath'])\n",
    "\n",
    "masterData = master_data(dataPath)\n",
    "\n",
    "\n",
    "counts, probes, segs = masterData.get_data()\n",
    "\n",
    "\n",
    "counts\n",
    "\n",
    "# probes\n",
    "\n",
    "# segs"
   ]
  },
  {
   "cell_type": "markdown",
   "id": "b792fdc9-bcd8-4e61-8a54-ed7a83da5267",
   "metadata": {},
   "source": [
    "ToDo: Need to check that column names are unique in SegmentProperties!! KO has 2 entries in current version, need to trace down where this has been introduced."
   ]
  },
  {
   "cell_type": "code",
   "execution_count": null,
   "id": "1ee0d33d-f585-4c58-beef-ea1ed0bd0151",
   "metadata": {
    "scrolled": true
   },
   "outputs": [],
   "source": [
    "dropCols = ['SlideName', 'ScanLabel', 'ROILabel', 'SegmentLabel',\n",
    "            'SegmentDisplayName', 'Origin Instrument ID', 'AOISurfaceArea', \n",
    "            'AOINucleiCount', 'ROICoordinateX', 'ROICoordinateY', \n",
    "            'RawReads', 'AlignedReads', 'DeduplicatedReads', 'TrimmedReads', \n",
    "            'StitchedReads', 'SequencingSaturation', 'SequencingSetID', \n",
    "            'UMIQ30', 'RTSQ30', 'GeoMxNgsPipelineVersion', 'LOT_Mouse_NGS_Whole_Transcriptome_Atlas_RNA_1_0',\n",
    "            'ROIID', 'SegmentID', 'ScanWidth', 'ScanHeight', 'ScanOffsetX', 'ScanOffsetY']\n",
    "\n",
    "keepCols = [x for x in segs.columns if not x in dropCols]\n",
    "\n",
    "for c in keepCols:\n",
    "    print(c)\n",
    "    print(len(set(segs[c])))\n",
    "    print(set(segs[c]))\n",
    "    print()"
   ]
  },
  {
   "cell_type": "markdown",
   "id": "d8f5b382-fddd-4caa-be29-721a38882c58",
   "metadata": {},
   "source": [
    "ToDo: Save drop cols to config file.\n",
    "\n",
    "   - Work out workflow to allow importing previous drop cols, and working with remaining drop cols to get final list (saving final dropped cols back to config file)\n",
    "\n",
    "\n",
    "\n"
   ]
  },
  {
   "cell_type": "code",
   "execution_count": null,
   "id": "bab7ed7e-922b-48f5-afcb-1729505da0ba",
   "metadata": {},
   "outputs": [],
   "source": []
  },
  {
   "cell_type": "code",
   "execution_count": null,
   "id": "1adad3e3-e0fc-4a8b-87d6-af876fa2edb4",
   "metadata": {},
   "outputs": [],
   "source": [
    "sampleInfoExternal = masterData.segData.copy()"
   ]
  },
  {
   "cell_type": "code",
   "execution_count": null,
   "id": "ef2a4a4c-4f6c-41c0-b0a1-fee68bb57152",
   "metadata": {},
   "outputs": [],
   "source": [
    "sampleInfoExternal.columns"
   ]
  },
  {
   "cell_type": "code",
   "execution_count": null,
   "id": "d90c28b5-9d6c-473b-8f7f-08983fa3c195",
   "metadata": {},
   "outputs": [],
   "source": [
    "sampleInfoExternal['TrimmedReads']"
   ]
  },
  {
   "cell_type": "code",
   "execution_count": null,
   "id": "c9a1ac0b-80e4-4d03-890d-e0fef4d3183e",
   "metadata": {},
   "outputs": [],
   "source": [
    "print(masterData.probeClass)\n",
    "print(masterData.probeClassDict)\n",
    "# dataLog1External, sampleInfoExternal = masterData.drop_AOIs('#16_9', writeOrig=True)\n",
    "\n",
    "nuclei = sampleInfoExternal['AOINucleiCount']\n",
    "# print(nuclei)\n",
    "surfArea = sampleInfoExternal['AOISurfaceArea']\n",
    "# print(surfArea)\n",
    "\n",
    "# dataLog1External, sampleInfoExternal = masterData.add_class_mean(masterData.dataLog1)"
   ]
  },
  {
   "cell_type": "code",
   "execution_count": null,
   "id": "57bc6a7f-5e62-4e09-a5f3-f95dd1e595ca",
   "metadata": {},
   "outputs": [],
   "source": []
  },
  {
   "cell_type": "code",
   "execution_count": null,
   "id": "ba7bc3b9-3c8c-4cef-9bab-a9e8a6a4061f",
   "metadata": {},
   "outputs": [],
   "source": [
    "# os.getcwd()"
   ]
  },
  {
   "cell_type": "code",
   "execution_count": null,
   "id": "dc4f5d20-d876-4da6-a932-c72e2a846f9a",
   "metadata": {},
   "outputs": [],
   "source": [
    "# configDict"
   ]
  },
  {
   "cell_type": "code",
   "execution_count": null,
   "id": "04743386-1c6d-46ef-a36a-81fa6e3bea99",
   "metadata": {},
   "outputs": [],
   "source": [
    "# dataPath = os.path.join(configDict['rootDir'],configDict['initialDataPath'])\n",
    "\n",
    "# masterData = master_data(dataPath)\n",
    "# dataLog1External, sampleInfoExternal = masterData.get_data()\n",
    "\n",
    "# # For the Thomas TMA study there are a number of additional AOIs to be used for data normalisation studies.\n",
    "# # These should be removed before further data analysis and QC.\n",
    "\n",
    "# print(masterData.probeClass)\n",
    "# print(masterData.probeClassDict)\n",
    "# # dataLog1External, sampleInfoExternal = masterData.drop_AOIs('#16_9', writeOrig=True)\n",
    "\n",
    "# nuclei = sampleInfoExternal.loc['AOI nuclei count']\n",
    "# surfArea = sampleInfoExternal.loc['AOI surface area']\n",
    "\n",
    "# dataLog1External, sampleInfoExternal = masterData.add_class_mean(masterData.dataLog1)"
   ]
  },
  {
   "cell_type": "code",
   "execution_count": null,
   "id": "21dd7f78-b248-4274-aa1c-a678ff0be3f6",
   "metadata": {},
   "outputs": [],
   "source": []
  },
  {
   "cell_type": "code",
   "execution_count": null,
   "id": "398b0e86-2712-4796-af36-3f229801ff39",
   "metadata": {},
   "outputs": [],
   "source": []
  },
  {
   "cell_type": "code",
   "execution_count": null,
   "id": "d0006c32",
   "metadata": {},
   "outputs": [],
   "source": [
    "# ### import data from excel workbook\n",
    "\n",
    "# # wb = load_workbook('../../../Documents/Nanostring/projects/Dando/DSP_Analysis_Suite/Initial Dataset.xlsx')\n",
    "# wb = load_workbook('../../../Documents/Nanostring/projects/McGovern/msWTA/Initial Dataset.xlsx')\n",
    "\n",
    "# print(wb.sheetnames)\n"
   ]
  },
  {
   "cell_type": "code",
   "execution_count": null,
   "id": "16245e62",
   "metadata": {},
   "outputs": [],
   "source": [
    "# ws = wb['SegmentProperties']\n",
    "\n",
    "# segments = [[y.value for y in x] for x in ws[ws.calculate_dimension()]]\n",
    "# segments"
   ]
  },
  {
   "cell_type": "code",
   "execution_count": null,
   "id": "f7c59002",
   "metadata": {
    "scrolled": true
   },
   "outputs": [],
   "source": [
    "# ### Convert nested list to a pandas dataFrame and extract expression data with labels\n",
    "# segs = pd.DataFrame(segments)\n",
    "# segs.rename(columns=segs.loc[0], inplace=True)\n",
    "# segs.drop(index=0, inplace=True)\n",
    "# segs.reset_index(inplace=True, drop=True)\n",
    "# segs"
   ]
  },
  {
   "cell_type": "code",
   "execution_count": null,
   "id": "c49d87c4",
   "metadata": {},
   "outputs": [],
   "source": [
    "# segs.loc[segs['SlideName'] == 'Ms_OB_TMEM_8um_2022_08_18'].shape"
   ]
  },
  {
   "cell_type": "code",
   "execution_count": null,
   "id": "d063929c",
   "metadata": {},
   "outputs": [],
   "source": [
    "slides = set(segs['SlideName'])\n",
    "\n",
    "colLookup = dict(zip(slides,range(len(slides))))"
   ]
  },
  {
   "cell_type": "code",
   "execution_count": null,
   "id": "df6b33a5",
   "metadata": {},
   "outputs": [],
   "source": [
    "colLookup"
   ]
  },
  {
   "cell_type": "code",
   "execution_count": null,
   "id": "d0c19d5c",
   "metadata": {},
   "outputs": [],
   "source": [
    "colMap = [colLookup[x]/len(slides) for x in segs['SlideName']]\n",
    "\n",
    "# colMap = [colLookup[x] for x in segs['SlideName']]\n"
   ]
  },
  {
   "cell_type": "code",
   "execution_count": null,
   "id": "d0672f9a",
   "metadata": {
    "scrolled": true
   },
   "outputs": [],
   "source": [
    "colMap "
   ]
  },
  {
   "cell_type": "code",
   "execution_count": null,
   "id": "c88ee3c3",
   "metadata": {},
   "outputs": [],
   "source": [
    "sum(segs['RawReads'])"
   ]
  },
  {
   "cell_type": "code",
   "execution_count": null,
   "id": "82d4aa06",
   "metadata": {},
   "outputs": [],
   "source": [
    "# plot aoi size vs read number"
   ]
  },
  {
   "cell_type": "code",
   "execution_count": null,
   "id": "8ee1f45e-4590-41dd-aa9d-60128bf25e45",
   "metadata": {},
   "outputs": [],
   "source": []
  },
  {
   "cell_type": "markdown",
   "id": "0cfa0ead-ce58-4e77-804d-289fbe3d988a",
   "metadata": {},
   "source": [
    "ToDo: Convert the following to subplots in a single figure\n",
    "\n",
    " - Add titles\n",
    " - Add legends"
   ]
  },
  {
   "cell_type": "code",
   "execution_count": null,
   "id": "897caecd-317e-4928-bbde-fe1e9735b2aa",
   "metadata": {},
   "outputs": [],
   "source": [
    "fig, ax = plt.subplots(5,2, figsize=[20,20])\n",
    "\n",
    "\n",
    "ax[0][0].scatter(segs['AOISurfaceArea'],segs['RawReads'],alpha=0.5, c=colMap, cmap='nipy_spectral')\n",
    "ax[0][0].set_title('AOISurfaceArea vs Raw reads')\n",
    "ax[0][0].set_xlabel('Surface Area')\n",
    "ax[0][0].set_ylabel('Raw Reads')\n",
    "\n",
    "ax[1][0].scatter(segs['AOISurfaceArea'],(segs['DeduplicatedReads']/segs['AOISurfaceArea']),alpha=0.5, c=colMap, cmap='nipy_spectral')\n",
    "ax[1][0].set_title('AOISurfaceArea vs DeduplicatedReads/AOISurfaceArea')\n",
    "ax[1][0].set_xlabel('Surface Area')\n",
    "ax[1][0].set_ylabel('DeduplicatedReads/AOISurfaceArea')\n",
    "\n",
    "ax[3][0].scatter(segs['AOISurfaceArea'],segs['DeduplicatedReads'],alpha=0.5, c=colMap, cmap='nipy_spectral')\n",
    "ax[3][0].set_title('AOISurfaceArea vs DeduplicatedReads')\n",
    "ax[3][0].set_xlabel('Surface Area')\n",
    "ax[3][0].set_ylabel('DeduplicatedReads')\n",
    "\n",
    "ax[4][0].scatter(segs['AOISurfaceArea'],segs['SequencingSaturation'],alpha=0.5, c=colMap, cmap='nipy_spectral')\n",
    "ax[4][0].set_title('AOISurfaceArea vs SequencingSaturation')\n",
    "ax[4][0].set_xlabel('Surface Area')\n",
    "ax[4][0].set_ylabel('SequencingSaturation')\n",
    "\n",
    "\n",
    "\n",
    "ax[0][1].scatter(segs['RawReads'],segs['DeduplicatedReads'],alpha=0.5, c=colMap, cmap='nipy_spectral')\n",
    "ax[0][1].semilogx()\n",
    "ax[0][1].semilogy()\n",
    "ax[0][1].set_title('RawReads vs DeduplicatedReads')\n",
    "ax[0][1].set_xlabel('RawReads')\n",
    "ax[0][1].set_ylabel('DeduplicatedReads')\n",
    "\n",
    "ax[3][1].scatter(segs['SequencingSaturation'],segs['DeduplicatedReads']/segs['AOISurfaceArea'],alpha=0.5, c=colMap, cmap='nipy_spectral')\n",
    "ax[3][1].set_title('SequencingSaturation vs DeduplicatedReads/AOISurfaceArea')\n",
    "ax[3][1].set_xlabel('Sequencing Saturation')\n",
    "ax[3][1].set_ylabel('DeduplicatedReads/AOISurfaceArea')\n",
    "\n",
    "ax[2][1].scatter(segs['SequencingSaturation'],segs['RawReads']/segs['AOISurfaceArea'],alpha=0.5, c=colMap, cmap='nipy_spectral')\n",
    "ax[2][1].set_title('SequencingSaturation vs Raw reads/AOISurfaceArea')\n",
    "ax[2][1].set_xlabel('SequencingSaturation')\n",
    "ax[2][1].set_ylabel('Raw Reads/AOISurfaceArea')\n",
    "\n",
    "ax[1][1].scatter(segs['RawReads'],segs['SequencingSaturation'],alpha=0.5, c=colMap, cmap='nipy_spectral')\n",
    "ax[1][1].semilogx()\n",
    "ax[1][1].set_title('RawReads vs SequencingSaturation')\n",
    "ax[1][1].set_xlabel('RawReads')\n",
    "ax[1][1].set_ylabel('SequencingSaturation')\n",
    "\n",
    "ax[4][1].scatter(segs['DeduplicatedReads'],segs['SequencingSaturation'],alpha=0.5, c=colMap, cmap='nipy_spectral')\n",
    "ax[4][1].semilogx()\n",
    "ax[4][1].set_title('DeduplicatedReads vs SequencingSaturation')\n",
    "ax[4][1].set_xlabel('DeduplicatedReads')\n",
    "ax[4][1].set_ylabel('SequencingSaturation')\n",
    "\n",
    "\n",
    "plt.tight_layout()\n",
    "plt.savefig(\"QC_Plots.svg\")\n",
    "plt.show()"
   ]
  },
  {
   "cell_type": "code",
   "execution_count": null,
   "id": "760702f3-f833-4e21-a036-83917bb64ec2",
   "metadata": {},
   "outputs": [],
   "source": []
  },
  {
   "cell_type": "markdown",
   "id": "96eea109-4394-402b-8177-d41e57d2610d",
   "metadata": {},
   "source": [
    "## Set up as selectable x and y axes using "
   ]
  },
  {
   "cell_type": "code",
   "execution_count": null,
   "id": "8ebad40f",
   "metadata": {},
   "outputs": [],
   "source": [
    "# plt.scatter(segs['AOISurfaceArea'],segs['RawReads'],alpha=0.5, c=colMap, cmap='nipy_spectral')"
   ]
  },
  {
   "cell_type": "code",
   "execution_count": null,
   "id": "e47bb2eb",
   "metadata": {},
   "outputs": [],
   "source": [
    "# plt.scatter(segs['SequencingSaturation'],segs['RawReads']/segs['AOISurfaceArea'],alpha=0.5, c=colMap, cmap='nipy_spectral')\n",
    "# plt.semilogy()"
   ]
  },
  {
   "cell_type": "code",
   "execution_count": null,
   "id": "60307526",
   "metadata": {},
   "outputs": [],
   "source": [
    "# plt.scatter(segs['SequencingSaturation'],segs['DeduplicatedReads']/segs['AOISurfaceArea'],alpha=0.5, c=colMap, cmap='nipy_spectral')\n"
   ]
  },
  {
   "cell_type": "code",
   "execution_count": null,
   "id": "d03b7a29",
   "metadata": {},
   "outputs": [],
   "source": [
    "# plt.scatter(segs['AOISurfaceArea'],segs['DeduplicatedReads'],alpha=0.5, c=colMap, cmap='nipy_spectral')\n",
    "# plt.semilogy()"
   ]
  },
  {
   "cell_type": "code",
   "execution_count": null,
   "id": "a03d6ef3",
   "metadata": {},
   "outputs": [],
   "source": [
    "# plt.scatter(segs['AOISurfaceArea'],(segs['DeduplicatedReads']/segs['AOISurfaceArea']),alpha=0.5, c=colMap, cmap='nipy_spectral')\n",
    "# plt.semilogy()"
   ]
  },
  {
   "cell_type": "code",
   "execution_count": null,
   "id": "d57c11b4",
   "metadata": {},
   "outputs": [],
   "source": [
    "# plt.scatter(segs['RawReads'],segs['DeduplicatedReads'],alpha=0.5, c=colMap, cmap='nipy_spectral')\n",
    "# plt.semilogx()\n",
    "# plt.semilogy()"
   ]
  },
  {
   "cell_type": "code",
   "execution_count": null,
   "id": "87800860",
   "metadata": {},
   "outputs": [],
   "source": [
    "# segs['SequencingSaturation'].mean()"
   ]
  },
  {
   "cell_type": "code",
   "execution_count": null,
   "id": "51a1a3bf",
   "metadata": {},
   "outputs": [],
   "source": [
    "# segs['SequencingSaturation'].min()"
   ]
  },
  {
   "cell_type": "code",
   "execution_count": null,
   "id": "b884ab4d",
   "metadata": {},
   "outputs": [],
   "source": [
    "# segs['SequencingSaturation'].max()"
   ]
  },
  {
   "cell_type": "code",
   "execution_count": null,
   "id": "77120ac5",
   "metadata": {},
   "outputs": [],
   "source": [
    "# sum(segs['SequencingSaturation']<50.0)"
   ]
  },
  {
   "cell_type": "code",
   "execution_count": null,
   "id": "e0e05ba5",
   "metadata": {},
   "outputs": [],
   "source": [
    "# sum(segs['SequencingSaturation']>=50.0)"
   ]
  },
  {
   "cell_type": "code",
   "execution_count": null,
   "id": "9fe074bc",
   "metadata": {},
   "outputs": [],
   "source": [
    "# plt.scatter(segs['AOISurfaceArea'],segs['SequencingSaturation'],alpha=0.25, c=colMap, cmap='nipy_spectral')"
   ]
  },
  {
   "cell_type": "code",
   "execution_count": null,
   "id": "e68b1487",
   "metadata": {},
   "outputs": [],
   "source": [
    "# plt.scatter(segs.loc[segs['SlideName'] == 'RB15P48811_SOETENS. 1.A']['AOISurfaceArea'],segs.loc[segs['SlideName'] == 'RB15P48811_SOETENS. 1.A']['SequencingSaturation'])\n",
    "\n",
    "# # segs.loc[segs['SlideName'] == 'RB15P48811_SOETENS. 1.A']['AOISurfaceArea']"
   ]
  },
  {
   "cell_type": "code",
   "execution_count": null,
   "id": "a1119bb1",
   "metadata": {},
   "outputs": [],
   "source": [
    "# plt.scatter(segs['DeduplicatedReads'],segs['SequencingSaturation'],alpha=0.25, c=colMap, cmap='nipy_spectral')\n",
    "# plt.semilogx()\n"
   ]
  },
  {
   "cell_type": "code",
   "execution_count": null,
   "id": "86ab6a53",
   "metadata": {},
   "outputs": [],
   "source": [
    "# plt.scatter(segs['RawReads'],segs['SequencingSaturation'],alpha=0.2, c=colMap, cmap='nipy_spectral')\n",
    "# plt.semilogx()\n",
    "# plt.xlim(0,1E8)\n",
    "# plt.ylim(0,100)\n",
    "# # "
   ]
  },
  {
   "cell_type": "code",
   "execution_count": null,
   "id": "75b2b5e3",
   "metadata": {},
   "outputs": [],
   "source": [
    "# plt.scatter(segs.loc[segs['SlideName'] == 'RB15P48811_SOETENS. 1.A']['RawReads'],segs.loc[segs['SlideName'] == 'RB15P48811_SOETENS. 1.A']['SequencingSaturation'])\n",
    "# plt.xlim(0,1E8)\n",
    "# plt.ylim(0,100)\n"
   ]
  },
  {
   "cell_type": "code",
   "execution_count": null,
   "id": "bbb8ab0d",
   "metadata": {},
   "outputs": [],
   "source": [
    "# plt.scatter(segs['RawReads'],segs['DeduplicatedReads'],alpha=0.25, c=colMap, cmap='nipy_spectral')\n",
    "# plt.semilogx()\n",
    "# plt.semilogy()\n"
   ]
  },
  {
   "cell_type": "code",
   "execution_count": null,
   "id": "7526ff24",
   "metadata": {},
   "outputs": [],
   "source": []
  },
  {
   "cell_type": "markdown",
   "id": "6a39854c",
   "metadata": {},
   "source": [
    "# Investigate NTC wells\n"
   ]
  },
  {
   "cell_type": "markdown",
   "id": "e22929ab-b141-49f8-b99d-00c4bbb0f810",
   "metadata": {},
   "source": [
    "ToDo: Load in DCC data and parse info\n",
    "\n",
    " - Tie in with config file"
   ]
  },
  {
   "cell_type": "code",
   "execution_count": null,
   "id": "c19cca31-efba-42d7-a835-de65ecf01777",
   "metadata": {},
   "outputs": [],
   "source": [
    "dataPath = \"/Users/upton6/Library/CloudStorage/OneDrive-QueenslandUniversityofTechnology/Documents/Nanostring/Projects/NS_msWTA/DND\""
   ]
  },
  {
   "cell_type": "code",
   "execution_count": null,
   "id": "b1f7dfe1-9e14-4c58-9f61-677c326ff7bc",
   "metadata": {},
   "outputs": [],
   "source": [
    "files = os.listdir(dataPath)\n",
    "files = [x for x in files if x.endswith('.dcc')]"
   ]
  },
  {
   "cell_type": "code",
   "execution_count": null,
   "id": "d26b06b1-02fb-4920-bb59-00e36d4e8afb",
   "metadata": {},
   "outputs": [],
   "source": [
    "files"
   ]
  },
  {
   "cell_type": "code",
   "execution_count": null,
   "id": "47199e3f-d321-490c-974b-b57d59b8b2c6",
   "metadata": {},
   "outputs": [],
   "source": [
    "thisFile = os.path.join(dataPath, \"DSP-1001660011355-A-A01.dcc\")\n",
    "thisFile = os.path.join(dataPath, \"DSP-1001660011354-B-A01.dcc\")\n",
    "# thisFile = os.path.join(dataPath, \"DSP-1001660011355-A-A01.dcc\")\n"
   ]
  },
  {
   "cell_type": "code",
   "execution_count": null,
   "id": "80b9833d-0ecf-45d5-96c7-ae5e7e91e77c",
   "metadata": {},
   "outputs": [],
   "source": [
    "with open(thisFile, 'r') as f:\n",
    "    lines = f.readlines()\n",
    "    for line in lines:\n",
    "        line = line.strip()\n",
    "        print(line)\n",
    "    # print(lines)"
   ]
  },
  {
   "cell_type": "code",
   "execution_count": null,
   "id": "f3918361-fb10-498c-bc09-c2e514837670",
   "metadata": {},
   "outputs": [],
   "source": []
  },
  {
   "cell_type": "code",
   "execution_count": null,
   "id": "d19f6c47-c3a8-43b0-8c17-c7f827bce1d1",
   "metadata": {},
   "outputs": [],
   "source": []
  },
  {
   "cell_type": "code",
   "execution_count": null,
   "id": "50534347-1916-4f52-8d68-501f17478eeb",
   "metadata": {},
   "outputs": [],
   "source": []
  },
  {
   "cell_type": "code",
   "execution_count": null,
   "id": "0a86ad70-885e-4a81-bcdd-445fedd6ed7a",
   "metadata": {},
   "outputs": [],
   "source": []
  },
  {
   "cell_type": "code",
   "execution_count": null,
   "id": "5f2c6747-6656-4823-9551-58a97523b8ea",
   "metadata": {},
   "outputs": [],
   "source": []
  },
  {
   "cell_type": "code",
   "execution_count": null,
   "id": "51b89be4-aad8-400f-925e-8cc2401a9a51",
   "metadata": {},
   "outputs": [],
   "source": []
  },
  {
   "cell_type": "code",
   "execution_count": null,
   "id": "1cb172a1",
   "metadata": {},
   "outputs": [],
   "source": [
    "# dccPath = '../../../Documents/Nanostring/projects/Dando/DCC-2023XXXX/'"
   ]
  },
  {
   "cell_type": "code",
   "execution_count": null,
   "id": "eeb9e0fb",
   "metadata": {},
   "outputs": [],
   "source": [
    "# walkOut = os.walk(dccPath)"
   ]
  },
  {
   "cell_type": "code",
   "execution_count": null,
   "id": "b9def555",
   "metadata": {},
   "outputs": [],
   "source": [
    "# files = list(walkOut)[0][2]"
   ]
  },
  {
   "cell_type": "code",
   "execution_count": null,
   "id": "239e38fb",
   "metadata": {},
   "outputs": [],
   "source": [
    "# files"
   ]
  },
  {
   "cell_type": "code",
   "execution_count": null,
   "id": "6edfa924",
   "metadata": {},
   "outputs": [],
   "source": [
    "# NTCs = []\n",
    "# for f in files:\n",
    "#     if f.endswith('A01.dcc'):\n",
    "#         NTCs.append(os.path.join(dccPath,f))\n",
    "# #         print(f)\n",
    "    "
   ]
  },
  {
   "cell_type": "code",
   "execution_count": null,
   "id": "46d66c8f",
   "metadata": {},
   "outputs": [],
   "source": [
    "# NTCs"
   ]
  },
  {
   "cell_type": "code",
   "execution_count": null,
   "id": "4752e026",
   "metadata": {},
   "outputs": [],
   "source": []
  },
  {
   "cell_type": "code",
   "execution_count": null,
   "id": "e9557e36",
   "metadata": {},
   "outputs": [],
   "source": [
    "# NTCs = []\n",
    "# for ntc in files:\n",
    "#     if ntc.endswith('A01.dcc'):\n",
    "#         print(ntc)\n",
    "# #         NTCs.append(os.path.join(dccPath,ntc))\n",
    "#         with open (os.path.join(dccPath,ntc),'r') as f:\n",
    "#             counts = []\n",
    "#             lines = f.readlines()\n",
    "#             for line in lines[25:-1]:\n",
    "# #                 print(line)\n",
    "#                 counts.append(line.strip().split(','))\n",
    "#             ds = pd.Series([x[1] for x in counts], index = [x[0] for x in counts], name=ntc.split('-')[1])\n",
    "#             print(ds.shape)\n",
    "#             NTCs.append(ds)\n",
    "# #         break\n",
    "        \n",
    "        \n",
    "        \n",
    "# #         print(f)\n",
    "    "
   ]
  },
  {
   "cell_type": "code",
   "execution_count": null,
   "id": "4535c876",
   "metadata": {},
   "outputs": [],
   "source": [
    "# ds"
   ]
  },
  {
   "cell_type": "code",
   "execution_count": null,
   "id": "deb5a156",
   "metadata": {},
   "outputs": [],
   "source": [
    "# NTCFrame = pd.concat(NTCs, axis=1)\n",
    "# NTCFrame.fillna(0, inplace=True)"
   ]
  },
  {
   "cell_type": "code",
   "execution_count": null,
   "id": "60b8c0cc",
   "metadata": {},
   "outputs": [],
   "source": [
    "# NTCFrame"
   ]
  },
  {
   "cell_type": "code",
   "execution_count": null,
   "id": "c3e28578",
   "metadata": {},
   "outputs": [],
   "source": [
    "# NTCFrame = NTCFrame.astype('int32')"
   ]
  },
  {
   "cell_type": "code",
   "execution_count": null,
   "id": "397ed279",
   "metadata": {},
   "outputs": [],
   "source": [
    "# NTCFrame.dtypes"
   ]
  },
  {
   "cell_type": "code",
   "execution_count": null,
   "id": "f73904c9",
   "metadata": {},
   "outputs": [],
   "source": [
    "# NTCFrame.sum()"
   ]
  },
  {
   "cell_type": "code",
   "execution_count": null,
   "id": "2c98e6be",
   "metadata": {},
   "outputs": [],
   "source": [
    "\n",
    "# for ntc in NTCs:\n",
    "#     with open (ntc,'r') as f:\n",
    "#         counts = []\n",
    "#         lines = f.readlines()\n",
    "#         for line in lines[25:-1]:\n",
    "#             print(line)\n",
    "#             counts.append(line.strip())\n",
    "            \n",
    "#         ds = pd.Series(counts, name=)\n",
    "#     break\n",
    "        \n",
    "        "
   ]
  },
  {
   "cell_type": "code",
   "execution_count": null,
   "id": "57cab1f8",
   "metadata": {},
   "outputs": [],
   "source": []
  },
  {
   "cell_type": "markdown",
   "id": "1ef7e9d4",
   "metadata": {},
   "source": [
    "# Investigate Probe Matrix Counts\n"
   ]
  },
  {
   "cell_type": "code",
   "execution_count": null,
   "id": "0e4a4d9d",
   "metadata": {},
   "outputs": [],
   "source": [
    "# ws = wb['BioProbeCountMatrix']\n",
    "\n",
    "# counts = [[y.value for y in x] for x in ws[ws.calculate_dimension()]]\n",
    "# counts"
   ]
  },
  {
   "cell_type": "code",
   "execution_count": null,
   "id": "b2024c38",
   "metadata": {},
   "outputs": [],
   "source": [
    "# ### Convert nested list to a pandas dataFrame and extract expression data with labels\n",
    "# counts = pd.DataFrame(counts)\n",
    "# counts.rename(columns=counts.loc[0], inplace=True)\n",
    "# counts.drop(index=0, inplace=True)\n",
    "# counts.reset_index(inplace=True, drop=True)\n",
    "# counts"
   ]
  },
  {
   "cell_type": "code",
   "execution_count": null,
   "id": "5f6a6d2b-1943-47be-8062-0bf9c8e3a940",
   "metadata": {},
   "outputs": [],
   "source": [
    "counts.columns"
   ]
  },
  {
   "cell_type": "code",
   "execution_count": null,
   "id": "3b950bb1",
   "metadata": {},
   "outputs": [],
   "source": [
    "# list(counts.columns)[12:]"
   ]
  },
  {
   "cell_type": "code",
   "execution_count": null,
   "id": "ad7fb1f6",
   "metadata": {},
   "outputs": [],
   "source": [
    "# AOIs = list(counts.columns)[12:]"
   ]
  },
  {
   "cell_type": "code",
   "execution_count": null,
   "id": "f8014b7c",
   "metadata": {},
   "outputs": [],
   "source": [
    "# negOrdered = counts.loc[counts['CodeClass'] == 'Negative', AOIs].sum().sort_values().index"
   ]
  },
  {
   "cell_type": "code",
   "execution_count": null,
   "id": "c343d662",
   "metadata": {},
   "outputs": [],
   "source": [
    "# set(counts['CodeClass'])"
   ]
  },
  {
   "cell_type": "code",
   "execution_count": null,
   "id": "da56b80b",
   "metadata": {
    "scrolled": true
   },
   "outputs": [],
   "source": [
    "# plt.figure(figsize=(10,10))\n",
    "# plt.plot(counts.loc[counts['CodeClass'] == 'Negative', AOIs][negOrdered].T)"
   ]
  },
  {
   "cell_type": "code",
   "execution_count": null,
   "id": "78bce613",
   "metadata": {},
   "outputs": [],
   "source": [
    "# There are no control probes in WTA\n",
    "\n",
    "# plt.figure(figsize=(10,10))\n",
    "# plt.plot(counts.loc[counts['CodeClass'] == 'Control', AOIs][negOrdered].T)"
   ]
  },
  {
   "cell_type": "code",
   "execution_count": null,
   "id": "e64390c8",
   "metadata": {},
   "outputs": [],
   "source": [
    "# counts.index = counts['TargetName']"
   ]
  },
  {
   "cell_type": "code",
   "execution_count": null,
   "id": "974034e6",
   "metadata": {},
   "outputs": [],
   "source": [
    "# counts.drop(counts.columns[:12], axis=1, inplace = True)"
   ]
  },
  {
   "cell_type": "code",
   "execution_count": null,
   "id": "84d4e9a0",
   "metadata": {},
   "outputs": [],
   "source": [
    "counts.values.flatten().min()"
   ]
  },
  {
   "cell_type": "code",
   "execution_count": null,
   "id": "490be622-6b4b-4da0-ac71-c28fab285fe2",
   "metadata": {},
   "outputs": [],
   "source": [
    "counts = counts.astype(np.float32)\n",
    "counts = np.log2(counts)\n",
    "counts"
   ]
  },
  {
   "cell_type": "code",
   "execution_count": null,
   "id": "ed10575f-d2a6-4735-a1d8-fe6aaf4a08a8",
   "metadata": {},
   "outputs": [],
   "source": [
    "# plt.matshow(counts, cmap='coolwarm')"
   ]
  },
  {
   "cell_type": "code",
   "execution_count": null,
   "id": "08be1ac6",
   "metadata": {},
   "outputs": [],
   "source": [
    "geoCounts = counts.groupby(level=0).mean()\n",
    "geoCounts"
   ]
  },
  {
   "cell_type": "code",
   "execution_count": null,
   "id": "f06b8be7-8343-4eff-bc35-d2ed0cfdcf15",
   "metadata": {},
   "outputs": [],
   "source": [
    "# plt.matshow(geoCounts, cmap='coolwarm')"
   ]
  },
  {
   "cell_type": "code",
   "execution_count": null,
   "id": "5a98b14d",
   "metadata": {},
   "outputs": [],
   "source": [
    "break"
   ]
  },
  {
   "cell_type": "code",
   "execution_count": null,
   "id": "4939f5f3",
   "metadata": {},
   "outputs": [],
   "source": []
  },
  {
   "cell_type": "code",
   "execution_count": null,
   "id": "ed757e72",
   "metadata": {},
   "outputs": [],
   "source": []
  }
 ],
 "metadata": {
  "kernelspec": {
   "display_name": "Python 3 (ipykernel)",
   "language": "python",
   "name": "python3"
  },
  "language_info": {
   "codemirror_mode": {
    "name": "ipython",
    "version": 3
   },
   "file_extension": ".py",
   "mimetype": "text/x-python",
   "name": "python",
   "nbconvert_exporter": "python",
   "pygments_lexer": "ipython3",
   "version": "3.11.7"
  }
 },
 "nbformat": 4,
 "nbformat_minor": 5
}
