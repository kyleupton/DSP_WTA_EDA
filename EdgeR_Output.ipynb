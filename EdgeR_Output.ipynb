{
 "cells": [
  {
   "cell_type": "markdown",
   "id": "f9bac8ac-8e30-4ab7-9099-6d9ecdbe7dab",
   "metadata": {},
   "source": [
    "# <span style=\"color:green\"> Import python functions </sapan>\n",
    "<div class=\"alert alert-block alert-success\">\n",
    "    These packages should all be installed and available in your default environment. eResearch can help with installing modules and setting up environments. \n",
    "</div>\n"
   ]
  },
  {
   "cell_type": "code",
   "execution_count": 1,
   "id": "62b8fd57-3bc1-4cdd-96c5-ba7bfd2b16c7",
   "metadata": {},
   "outputs": [],
   "source": [
    "import os\n",
    "import pandas as pd\n",
    "import matplotlib.pyplot as plt\n",
    "import numpy as np\n",
    "import time\n",
    "\n",
    "import scipy\n",
    "from scipy import stats as stats\n",
    "from copy import copy as copy\n",
    "\n",
    "from openpyxl import load_workbook\n",
    "from openpyxl.worksheet.table import Table\n",
    "\n",
    "# from scipy.cluster.hierarchy import dendrogram\n",
    "from sklearn.cluster import AgglomerativeClustering\n",
    "\n",
    "\n",
    "from matplotlib.cm import ScalarMappable\n",
    "from matplotlib.colors import Normalize\n",
    "\n",
    "from sklearn.neighbors import kneighbors_graph\n"
   ]
  },
  {
   "cell_type": "markdown",
   "id": "f9fa0592-4431-43dd-8673-d8215fc239c2",
   "metadata": {},
   "source": [
    "# <span style=\"color:green\"> Define/Import custom functions </sapan>\n",
    "<div class=\"alert alert-block alert-success\">\n",
    "    Custom functions for this workflow are imported from the functions folder. \n",
    "</div>"
   ]
  },
  {
   "cell_type": "code",
   "execution_count": 2,
   "id": "dd5dcf0c-0730-4fcc-8b2c-7b0e6bd7b910",
   "metadata": {},
   "outputs": [],
   "source": [
    "from functions.plotting import(\n",
    "    volcanoPlot, \n",
    "    plot_dendrogram,\n",
    "    get_factor_colours,\n",
    "    get_connectivity\n",
    "    )"
   ]
  },
  {
   "cell_type": "code",
   "execution_count": 3,
   "id": "a43bbe51-da4b-4281-85ff-c5ee6206a563",
   "metadata": {},
   "outputs": [],
   "source": [
    "from functions.eda import (get_AggloModel)"
   ]
  },
  {
   "cell_type": "code",
   "execution_count": null,
   "id": "6c663022-4e40-4907-9a1a-9966b370b103",
   "metadata": {},
   "outputs": [],
   "source": []
  },
  {
   "cell_type": "code",
   "execution_count": null,
   "id": "df4f1b79-fd98-44ae-bc62-bec17c4e3307",
   "metadata": {},
   "outputs": [],
   "source": []
  },
  {
   "cell_type": "markdown",
   "id": "d720ff55-5390-4901-9c99-921be6cffcd1",
   "metadata": {},
   "source": [
    "# Convert MD Plots to Volcano Plots"
   ]
  },
  {
   "cell_type": "code",
   "execution_count": 1,
   "id": "4b9e406b-1bb8-4fc1-bda7-e63a1165c3cb",
   "metadata": {},
   "outputs": [
    {
     "ename": "NameError",
     "evalue": "name 'os' is not defined",
     "output_type": "error",
     "traceback": [
      "\u001b[0;31m---------------------------------------------------------------------------\u001b[0m",
      "\u001b[0;31mNameError\u001b[0m                                 Traceback (most recent call last)",
      "Cell \u001b[0;32mIn[1], line 3\u001b[0m\n\u001b[1;32m      1\u001b[0m \u001b[38;5;66;03m# Get the list of files to run\u001b[39;00m\n\u001b[0;32m----> 3\u001b[0m dataPath \u001b[38;5;241m=\u001b[39m os\u001b[38;5;241m.\u001b[39mpath\u001b[38;5;241m.\u001b[39mjoin(configDict[\u001b[38;5;124m'\u001b[39m\u001b[38;5;124mrootDir\u001b[39m\u001b[38;5;124m'\u001b[39m],exportdir,)\n\u001b[1;32m      4\u001b[0m filesMaster \u001b[38;5;241m=\u001b[39m []\n\u001b[1;32m      5\u001b[0m \u001b[38;5;28;01mfor\u001b[39;00m root, folder, files \u001b[38;5;129;01min\u001b[39;00m os\u001b[38;5;241m.\u001b[39mwalk(dataPath):\n",
      "\u001b[0;31mNameError\u001b[0m: name 'os' is not defined"
     ]
    }
   ],
   "source": [
    "# Get the list of files to run\n",
    "\n",
    "dataPath = os.path.join(configDict['rootDir'],exportdir,)\n",
    "filesMaster = []\n",
    "for root, folder, files in os.walk(dataPath):\n",
    "    files = [os.path.join(root, f) for f in files if (f.endswith('.csv') and f.startswith('MD_plot'))]\n",
    "    filesMaster.extend(files)\n",
    "     "
   ]
  },
  {
   "cell_type": "code",
   "execution_count": null,
   "id": "742746d2-c3aa-44ab-99af-42fd9ad33aac",
   "metadata": {},
   "outputs": [],
   "source": []
  }
 ],
 "metadata": {
  "kernelspec": {
   "display_name": "Python 3 (ipykernel)",
   "language": "python",
   "name": "python3"
  },
  "language_info": {
   "codemirror_mode": {
    "name": "ipython",
    "version": 3
   },
   "file_extension": ".py",
   "mimetype": "text/x-python",
   "name": "python",
   "nbconvert_exporter": "python",
   "pygments_lexer": "ipython3",
   "version": "3.11.7"
  }
 },
 "nbformat": 4,
 "nbformat_minor": 5
}
