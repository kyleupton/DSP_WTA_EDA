{
 "cells": [
  {
   "cell_type": "code",
   "execution_count": null,
   "id": "32c1208e-7613-48c3-a8ac-e499b3669867",
   "metadata": {},
   "outputs": [],
   "source": [
    "import os\n",
    "import scipy\n",
    "import numpy as np\n",
    "import pandas as pd\n",
    "import matplotlib.pyplot as plt\n",
    "\n",
    "from openpyxl import load_workbook\n",
    "\n",
    "from scipy import stats as stats\n",
    "from copy import copy as copy\n",
    "\n"
   ]
  },
  {
   "cell_type": "code",
   "execution_count": null,
   "id": "0e0e87ec-5f22-41b2-9949-5ba35ced2e8f",
   "metadata": {},
   "outputs": [],
   "source": [
    "from functions.masterdata import master_data"
   ]
  },
  {
   "cell_type": "code",
   "execution_count": null,
   "id": "37e6ad85-ca06-411e-9a8a-7cdd3e688d40",
   "metadata": {},
   "outputs": [],
   "source": [
    "# read in paths from config file\n",
    "\n",
    "configDict = {\n",
    "    'rootDir': '',\n",
    "    'initialDataPath' : '',\n",
    "    'QCDataPath' : '',\n",
    "    # 'labWorksheet01Path':'',\n",
    "    'projectName':''\n",
    "}\n",
    "\n",
    "# with open(os.path.join(workingDir, 'config.txt'),'r') as f:\n",
    "with open('config.txt','r') as f:\n",
    "    lines = f.readlines()\n",
    "    for line in lines:\n",
    "        if not line.startswith('#'):\n",
    "            line = line.strip()\n",
    "            fields = line.split(':')\n",
    "\n",
    "            if fields[0].strip()=='initialDataPath':\n",
    "                configDict[fields[0].strip()] = fields[1].strip().strip('\\'')\n",
    "            else:\n",
    "                configDict[fields[0].strip()] = fields[1].strip().strip('\\'')\n",
    "## ToDo: Add checks to ensure that minimal fields have been populated. Raise errors or warnings\n"
   ]
  },
  {
   "cell_type": "code",
   "execution_count": null,
   "id": "d2bc1f27-f0e2-4b05-83b8-5d6e0d3ea2d4",
   "metadata": {},
   "outputs": [],
   "source": []
  },
  {
   "cell_type": "code",
   "execution_count": null,
   "id": "d216a6f4-6814-4f65-ba7e-0dbdc8eb5f0f",
   "metadata": {},
   "outputs": [],
   "source": []
  },
  {
   "cell_type": "code",
   "execution_count": null,
   "id": "1449136e-7241-4e56-9c21-df1c228d355a",
   "metadata": {},
   "outputs": [],
   "source": [
    "from openpyxl import load_workbook\n",
    "import numpy as np\n",
    "import pandas as pd\n",
    "\n",
    "class master_data:\n",
    "    def __init__(self, dataPath):\n",
    "        ### import data from excel workbook\n",
    "        \n",
    "        self.wb = load_workbook(dataPath)\n",
    "        self.segWs = self.wb['SegmentProperties']\n",
    "        self.cntWs = self.wb['TargetCountMatrix']\n",
    "        self.targWs = self.wb['TargetProperties']\n",
    "        \n",
    "        self.segValues = [[y.value for y in x] for x in self.segWs[self.segWs.calculate_dimension()]]\n",
    "        self.cntValues = [[y.value for y in x] for x in self.cntWs[self.cntWs.calculate_dimension()]]\n",
    "        self.targValues = [[y.value for y in x] for x in self.targWs[self.targWs.calculate_dimension()]]\n",
    "\n",
    "        self.dropData = False\n",
    "        \n",
    "        \n",
    "    def get_data(self):\n",
    "        ### Convert nested list to a pandas dataFrame and extract expression data with labels\n",
    "        # cntData = self.cntValues\n",
    "        cntCols = self.cntValues[0]\n",
    "        # df = pd.DataFrame(self.cntValues)\n",
    "        cntIndex = [x[0] for x in self.cntValues[1:]]\n",
    "        cntDF = pd.DataFrame(self.cntValues[1:], index=cntIndex, columns=cntCols)\n",
    "        self.counts = cntDF.iloc[:,1:]\n",
    "        self.counts = self.counts.astype(np.float64)      # Convert datatype to float64\n",
    "        \n",
    "        targCols = self.targValues[0]\n",
    "        targIndex = [x[0] for x in self.targValues[1:]]\n",
    "        targDF = pd.DataFrame(self.targValues[1:], index=targIndex, columns=targCols)\n",
    "        # self.priobeInfo = targDF.iloc[:,1:]\n",
    "        self.probeInfo = targDF\n",
    "        \n",
    "        segCols = self.segValues[0]\n",
    "        segIndex = [x[4].replace(' | ',('_')) for x in self.segValues[1:]]\n",
    "        self.segData = pd.DataFrame(self.segValues[1:], index=segIndex, columns=segCols)\n",
    "\n",
    "        self.dataOrig = self.counts.copy()\n",
    "        self.dataLog1 = np.log2(self.counts+1)            # Log transform data for QC and analysis steps\n",
    "\n",
    "        self.probeClass = False                           # Keep a copy of the original data before transformation or normalisation\n",
    "        # self.probeClass = df.iloc[self.targIdx:,2]      ### Index needs updating here also\n",
    "        # self.probeClass.rename(index=rowLabels, inplace=True)\n",
    "        # self.probeClass.rename(index='ProbeClass', inplace=True)\n",
    "\n",
    "        # ToDo: Need to update probeclass handling and labeling\n",
    "        \n",
    "        self.probeClassDict = {\n",
    "            'Positive': 'A',\n",
    "            'Negative': 'B',\n",
    "            'Control': 'C',\n",
    "            'Endogenous': 'E'}\n",
    "\n",
    "        return(self.counts, self.probeInfo, self.segData)\n",
    "\n",
    "    def get_descriptors(self):\n",
    "        pass\n",
    "\n",
    "    def add_class_mean(self, df):\n",
    "        pass\n",
    "\n",
    "    def drop_AOIs(self, includes, writeOrig=False):\n",
    "        pass\n",
    "        \n",
    "    def set_threshold(self, threshold):\n",
    "        self.threshold = threshold\n",
    "        # ToDo: Check that all values in master data are also included in threshold dataFrame\n",
    "        # ToDo: Convert threshold data to 0/1 data if needed\n",
    "\n",
    "    def drop_probes(self, labels):\n",
    "        pass\n",
    "        \n"
   ]
  },
  {
   "cell_type": "code",
   "execution_count": null,
   "id": "88943646-503e-4a33-bba2-21235e3463d9",
   "metadata": {},
   "outputs": [],
   "source": [
    "dataPath = os.path.join(configDict['rootDir'],configDict['initialDataPath'])\n",
    "dataPath = os.path.join(configDict['rootDir'],configDict['QCDataPath'])\n",
    "\n",
    "masterData = master_data(dataPath)\n",
    "\n",
    "\n",
    "counts, probes, segs = masterData.get_data()\n",
    "\n",
    "\n",
    "counts\n",
    "\n",
    "# probes\n",
    "\n",
    "# segs"
   ]
  },
  {
   "cell_type": "code",
   "execution_count": null,
   "id": "05b4d368-eb91-4b56-ae1a-830907988e49",
   "metadata": {},
   "outputs": [],
   "source": [
    "counts.index.name = 'TargetName'"
   ]
  },
  {
   "cell_type": "code",
   "execution_count": null,
   "id": "eac1f497-b071-4185-b5e2-f803147f6419",
   "metadata": {},
   "outputs": [],
   "source": [
    "newIndex = [x for x in counts.index if not x==\"NegProbe-WTX\"]"
   ]
  },
  {
   "cell_type": "code",
   "execution_count": null,
   "id": "476ad4c9-d014-45d0-9cd3-99a0511bc6cb",
   "metadata": {},
   "outputs": [],
   "source": [
    "# Remove NegProbe-WTX\n",
    "counts = counts.loc[newIndex]"
   ]
  },
  {
   "cell_type": "code",
   "execution_count": null,
   "id": "6c18dc29-c20c-4cc2-be24-ddbcfa7ef122",
   "metadata": {},
   "outputs": [],
   "source": [
    "# Export counts to countFile.tsv"
   ]
  },
  {
   "cell_type": "code",
   "execution_count": null,
   "id": "5720e073-d9fa-4726-a188-38f3d334117a",
   "metadata": {},
   "outputs": [],
   "source": [
    "counts.to_csv(os.path.join(configDict['rootDir'], 'countFile.tsv'), sep='\\t')\n"
   ]
  },
  {
   "cell_type": "code",
   "execution_count": null,
   "id": "77de01f1-8967-45b4-89e5-80244e7991dd",
   "metadata": {},
   "outputs": [],
   "source": [
    "probes"
   ]
  },
  {
   "cell_type": "code",
   "execution_count": null,
   "id": "77ba3efa-f320-497a-807d-af1db5ce1db4",
   "metadata": {},
   "outputs": [],
   "source": []
  },
  {
   "cell_type": "code",
   "execution_count": null,
   "id": "d0388d8c-8355-4577-ae23-5395334ed827",
   "metadata": {},
   "outputs": [],
   "source": [
    "featureAnno = probes.loc[:,['TargetName','CodeClass']]\n",
    "\n",
    "featureAnno['Negative'] = [ 'TRUE' if x == 'Negative' else 'False' for x in featureAnno['CodeClass']]\n",
    "\n",
    "featureAnno.drop(labels = ['CodeClass'], axis=1, inplace = True)\n",
    "\n",
    "featureAnno"
   ]
  },
  {
   "cell_type": "code",
   "execution_count": null,
   "id": "2f8278b6-bae8-4c25-b9d2-09340d3c82db",
   "metadata": {},
   "outputs": [],
   "source": [
    "featureAnno = featureAnno.loc[newIndex]"
   ]
  },
  {
   "cell_type": "code",
   "execution_count": null,
   "id": "1aabe083-4cde-455f-8336-69319d8f816a",
   "metadata": {},
   "outputs": [],
   "source": []
  },
  {
   "cell_type": "code",
   "execution_count": null,
   "id": "4247d2f3-3163-4ca2-a67c-042d81ded545",
   "metadata": {},
   "outputs": [],
   "source": []
  },
  {
   "cell_type": "code",
   "execution_count": null,
   "id": "8db5fed8-62cc-41e1-9dad-307a91fb8be7",
   "metadata": {},
   "outputs": [],
   "source": [
    "featureAnno['RTS_ID'] = [ 'RTS' + x for x in featureAnno['TargetName']]\n",
    "\n",
    "\n",
    "featureAnno.reset_index(inplace = True)\n",
    "\n",
    "featureAnno.set_index('RTS_ID', inplace = True)"
   ]
  },
  {
   "cell_type": "code",
   "execution_count": null,
   "id": "564fec4f-7388-4e1a-bb1b-867a413a33cb",
   "metadata": {
    "scrolled": true
   },
   "outputs": [],
   "source": [
    "featureAnno"
   ]
  },
  {
   "cell_type": "code",
   "execution_count": null,
   "id": "6e3f616e-e7f0-4d01-befd-a37bc540edfc",
   "metadata": {},
   "outputs": [],
   "source": []
  },
  {
   "cell_type": "code",
   "execution_count": null,
   "id": "868774cc-7264-4cf3-a737-276c29b45e17",
   "metadata": {},
   "outputs": [],
   "source": [
    "# Export probe into to featureAnnoFile.tsv"
   ]
  },
  {
   "cell_type": "code",
   "execution_count": null,
   "id": "90a9d692-0c1a-44b8-8ac1-4d5f2a5d5afc",
   "metadata": {},
   "outputs": [],
   "source": [
    "featureAnno.to_csv(os.path.join(configDict['rootDir'], 'featureAnnoFile.tsv'), sep='\\t')"
   ]
  },
  {
   "cell_type": "code",
   "execution_count": null,
   "id": "a49ffb68-95b4-46f1-8844-671a774c8893",
   "metadata": {},
   "outputs": [],
   "source": []
  },
  {
   "cell_type": "code",
   "execution_count": null,
   "id": "d369d4dc-69ae-4bb6-b6a1-c064ae46ac42",
   "metadata": {},
   "outputs": [],
   "source": []
  },
  {
   "cell_type": "code",
   "execution_count": null,
   "id": "34db8b24-00b9-4b64-a16c-31199d8d0600",
   "metadata": {},
   "outputs": [],
   "source": []
  },
  {
   "cell_type": "code",
   "execution_count": null,
   "id": "fc408f83-35d4-47db-8493-f4b10f9413ed",
   "metadata": {},
   "outputs": [],
   "source": [
    "segs.index.name='SlideName'"
   ]
  },
  {
   "cell_type": "code",
   "execution_count": null,
   "id": "43438bdf-d95b-474f-ac42-8077d49221e0",
   "metadata": {},
   "outputs": [],
   "source": [
    "segs.reset_index(drop=True)"
   ]
  },
  {
   "cell_type": "code",
   "execution_count": null,
   "id": "bdad4502-b2b3-4239-b9ea-390d4fb28483",
   "metadata": {},
   "outputs": [],
   "source": [
    "segs.columns"
   ]
  },
  {
   "cell_type": "code",
   "execution_count": null,
   "id": "e73d2fb3-d384-4ac3-9a7f-b7f10967d703",
   "metadata": {},
   "outputs": [],
   "source": []
  },
  {
   "cell_type": "code",
   "execution_count": null,
   "id": "2d9652e3-34fb-4425-9af7-b824441c4341",
   "metadata": {},
   "outputs": [],
   "source": [
    "# Rename Segment Labels to epithelial and Luminal (also cleans data)\n",
    "segs.loc[segs['SegmentLabel'] == 'Full ROI','SegmentLabel'] = 'Epithelial'\n",
    "segs.loc[segs['SegmentLabel'] == 'Segment 1','SegmentLabel'] = 'Epithelial'\n",
    "segs.loc[segs['SegmentLabel'] == 'Segment 2','SegmentLabel'] = 'Luminal'\n"
   ]
  },
  {
   "cell_type": "code",
   "execution_count": null,
   "id": "d41d851f-9d14-4d7b-8825-8f2c84908e7c",
   "metadata": {},
   "outputs": [],
   "source": [
    "segs['SlideName'] = [x.replace(' ','_') for x in segs['SlideName']]\n",
    "segs['SlideName'] = [x.replace('-','_') for x in segs['SlideName']]\n",
    "segs['SlideName'] = [x[-7:] for x in segs['SlideName']]"
   ]
  },
  {
   "cell_type": "code",
   "execution_count": null,
   "id": "757d8017-9ce1-4947-b252-5eb9a29b1404",
   "metadata": {},
   "outputs": [],
   "source": [
    "segs['ScanLabel'] = [x.replace(' ','_') for x in segs['ScanLabel']]\n",
    "segs['ScanLabel'] = [x.replace('-','_') for x in segs['ScanLabel']]\n",
    "segs['ScanLabel'] = [x[-7:] for x in segs['ScanLabel']]"
   ]
  },
  {
   "cell_type": "code",
   "execution_count": null,
   "id": "883d09a7-a3ed-4a9e-bdd3-2f47ab90f0ec",
   "metadata": {},
   "outputs": [],
   "source": [
    "segs.set_index('SlideName', inplace=True)"
   ]
  },
  {
   "cell_type": "code",
   "execution_count": null,
   "id": "1faeaa66-044d-4c32-a7a9-9d96b8bdfcf7",
   "metadata": {},
   "outputs": [],
   "source": [
    "# Export segs to sampleAnnoFile.tsv"
   ]
  },
  {
   "cell_type": "code",
   "execution_count": null,
   "id": "97b8a53b-0a32-4ba3-a5b9-cfa3852fc690",
   "metadata": {},
   "outputs": [],
   "source": [
    "segs"
   ]
  },
  {
   "cell_type": "code",
   "execution_count": null,
   "id": "ec6ab60d-28f0-42e5-8f40-5d7866a53a36",
   "metadata": {},
   "outputs": [],
   "source": [
    "segs.to_csv(os.path.join(configDict['rootDir'], 'sampleAnnoFile.tsv'), sep='\\t')\n"
   ]
  },
  {
   "cell_type": "code",
   "execution_count": null,
   "id": "aa79e703-0715-48c8-a43a-dd5354a0663d",
   "metadata": {},
   "outputs": [],
   "source": [
    "# os.getcwd()"
   ]
  },
  {
   "cell_type": "code",
   "execution_count": null,
   "id": "d5001a5c-a9c5-4b98-9e3b-6cca858142bb",
   "metadata": {},
   "outputs": [],
   "source": []
  },
  {
   "cell_type": "code",
   "execution_count": null,
   "id": "3e8bd8e1-ecf7-4b00-804e-dc2f98724ebb",
   "metadata": {},
   "outputs": [],
   "source": [
    "# segsLuminal = segs[segs['SegmentLabel']=='Luminal']\n",
    "\n",
    "# segsLuminal.to_csv(os.path.join(configDict['rootDir'], 'sampleAnnoFile_Luminal.tsv'), sep='\\t')\n",
    "\n",
    "\n",
    "# countsLuminal = counts[segsLuminal['SegmentDisplayName']]\n",
    "\n",
    "# countsLuminal.to_csv(os.path.join(configDict['rootDir'], 'countFile_Luminal.tsv'), sep='\\t')\n"
   ]
  },
  {
   "cell_type": "code",
   "execution_count": null,
   "id": "25852184-a8a9-48be-899b-03cd346fdd70",
   "metadata": {},
   "outputs": [],
   "source": [
    "# configDict['rootDir']"
   ]
  },
  {
   "cell_type": "code",
   "execution_count": null,
   "id": "8f853d4e-c090-4d2e-991c-42d78a74f134",
   "metadata": {},
   "outputs": [],
   "source": [
    "# segsEpithelial = segs[segs['SegmentLabel']=='Epithelial']\n",
    "\n",
    "# segsEpithelial.to_csv(os.path.join(configDict['rootDir'], 'sampleAnnoFile_Epithelial.tsv'), sep='\\t')\n",
    "\n",
    "\n",
    "# countsEpithelial = counts[segsEpithelial['SegmentDisplayName']]\n",
    "\n",
    "# countsEpithelial.to_csv(os.path.join(configDict['rootDir'], 'countFile_Epithelial.tsv'), sep='\\t')\n"
   ]
  },
  {
   "cell_type": "code",
   "execution_count": null,
   "id": "a0b08b09-f123-47aa-b019-f7b1a1ffc822",
   "metadata": {},
   "outputs": [],
   "source": []
  },
  {
   "cell_type": "code",
   "execution_count": null,
   "id": "cbbb7fbc-4a30-4972-b223-1a3e49cb5a79",
   "metadata": {},
   "outputs": [],
   "source": []
  },
  {
   "cell_type": "code",
   "execution_count": null,
   "id": "6d95c0cd-3214-499c-85ba-7b70754a7bca",
   "metadata": {},
   "outputs": [],
   "source": []
  }
 ],
 "metadata": {
  "kernelspec": {
   "display_name": "Python 3 (ipykernel)",
   "language": "python",
   "name": "python3"
  },
  "language_info": {
   "codemirror_mode": {
    "name": "ipython",
    "version": 3
   },
   "file_extension": ".py",
   "mimetype": "text/x-python",
   "name": "python",
   "nbconvert_exporter": "python",
   "pygments_lexer": "ipython3",
   "version": "3.11.7"
  }
 },
 "nbformat": 4,
 "nbformat_minor": 5
}
