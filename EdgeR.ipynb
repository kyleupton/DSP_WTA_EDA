{
 "cells": [
  {
   "cell_type": "code",
   "execution_count": null,
   "id": "54a6962a-08cb-480e-9d98-c59d04b1e98c",
   "metadata": {},
   "outputs": [],
   "source": [
    "### To Do.\n",
    "\n",
    "# Read section 3 (Specific Experimental Designs) in User guide\n",
    "# Run through with basic group-group comparisons (using exact test)\n",
    "\n",
    "# Build up a descent glm approach\n",
    "\n",
    "library(edgeR)"
   ]
  },
  {
   "cell_type": "code",
   "execution_count": null,
   "id": "631eda98-7f65-40fb-bf2e-2bffe7365241",
   "metadata": {},
   "outputs": [],
   "source": [
    "\n",
    "setwd(\"/Users/upton6/Documents/Nanostring/projects/Dando/DSP_Output/StandR\")\n"
   ]
  },
  {
   "cell_type": "code",
   "execution_count": null,
   "id": "7b269f7d-e7b6-4597-924c-4f1cd79e991d",
   "metadata": {},
   "outputs": [],
   "source": [
    "counts <- read.csv(file = \"RUV_corrected_values.csv\", header = TRUE, sep=\",\")\n"
   ]
  },
  {
   "cell_type": "code",
   "execution_count": null,
   "id": "e7ab2eea-9a90-4059-9d7f-5f7acdecddd1",
   "metadata": {},
   "outputs": [],
   "source": [
    "min(counts)\n"
   ]
  },
  {
   "cell_type": "code",
   "execution_count": null,
   "id": "640b4a42-0886-4b21-8eda-98da5dbd7eca",
   "metadata": {},
   "outputs": [],
   "source": [
    "head(counts)\n"
   ]
  },
  {
   "cell_type": "code",
   "execution_count": null,
   "id": "723c2513-c96a-4b72-9293-69f408f53045",
   "metadata": {},
   "outputs": [],
   "source": [
    "dim(counts)\n"
   ]
  },
  {
   "cell_type": "code",
   "execution_count": null,
   "id": "7cdd7bc6-b785-4bb2-ba48-8a5a4b1166b5",
   "metadata": {},
   "outputs": [],
   "source": [
    "setwd(\"/Users/upton6/Documents/Nanostring/projects/Dando/DSP_Output\")\n",
    "targets <- read.delim(\"sampleAnnoFile.tsv\", sep=\"\\t\", header=TRUE)"
   ]
  },
  {
   "cell_type": "code",
   "execution_count": null,
   "id": "a6016bee-d94e-44bc-9fc1-60c3fe0cefd0",
   "metadata": {},
   "outputs": [],
   "source": [
    "rownames(targets) <- targets$SegmentDisplayName\n",
    "\n"
   ]
  },
  {
   "cell_type": "code",
   "execution_count": null,
   "id": "d9318cd1-269e-4ed7-b3d3-46386f36ba13",
   "metadata": {},
   "outputs": [],
   "source": [
    "head(targets)\n"
   ]
  },
  {
   "cell_type": "code",
   "execution_count": null,
   "id": "20ed63ca-b1a8-4659-98f2-3d3f283374af",
   "metadata": {},
   "outputs": [],
   "source": [
    "dim(targets)\n"
   ]
  },
  {
   "cell_type": "code",
   "execution_count": null,
   "id": "3d0b66b1-3835-41fb-8eb3-c7214ddc45f8",
   "metadata": {},
   "outputs": [],
   "source": [
    "targets\n"
   ]
  },
  {
   "cell_type": "code",
   "execution_count": null,
   "id": "91e2fd78-da5c-499c-8b09-6a2a528c40a7",
   "metadata": {},
   "outputs": [],
   "source": [
    "setwd(\"/Users/upton6/Documents/Nanostring/projects/Dando/DSP_Output/StandR/EdgeR/\")\n"
   ]
  },
  {
   "cell_type": "code",
   "execution_count": null,
   "id": "60801839-3104-4b65-80b4-b8d79de97c6c",
   "metadata": {},
   "outputs": [],
   "source": [
    "group <- factor(paste0(\"group\", \".\", targets$Tissue, \".\", targets$Region, \".\", targets$Layer))\n",
    "group\n"
   ]
  },
  {
   "cell_type": "code",
   "execution_count": null,
   "id": "36af44c4-53f3-44e9-984e-00073fc0c261",
   "metadata": {},
   "outputs": [],
   "source": [
    "y <- DGEList(counts, group = group)\n",
    "y$samples\n"
   ]
  },
  {
   "cell_type": "code",
   "execution_count": null,
   "id": "aeb2c2dc-2a57-445a-815d-bfdb1f0c3a21",
   "metadata": {},
   "outputs": [],
   "source": [
    "# y$norm.factors\n"
   ]
  },
  {
   "cell_type": "code",
   "execution_count": null,
   "id": "3694cc2d-bd7e-4883-b879-5ec071b30a1e",
   "metadata": {},
   "outputs": [],
   "source": [
    "plotMD(cpm(y, log=TRUE), column=1)\n",
    "abline(h=0, col=\"red\", lty=2, lwd=2)\n"
   ]
  },
  {
   "cell_type": "code",
   "execution_count": null,
   "id": "b52750f3-7393-4442-afc7-fe665e16d8e8",
   "metadata": {},
   "outputs": [],
   "source": [
    "# colors <- c(\"blue\", \"blue\", \"blue\", \"blue\", \"blue\", \n",
    "#             \"darkgreen\", \"darkgreen\", \"darkgreen\", \"darkgreen\", \"darkgreen\", \n",
    "#             \"red\", \"red\", \"red\", \"red\", \"red\")\n",
    "# points <- rep(c(0,1,2,3,4,5,6),3)\n",
    "\n",
    "# plotMDS(y, col=colors[group], pch=points[group])\n",
    "# legend(\"topleft\", legend=levels(group), col=colors[group], pch=points, ncol=3)\n"
   ]
  },
  {
   "cell_type": "code",
   "execution_count": null,
   "id": "22d4cb0d-b09f-4bb5-a540-e108b0ab690a",
   "metadata": {},
   "outputs": [],
   "source": []
  },
  {
   "cell_type": "code",
   "execution_count": null,
   "id": "dd1fc9a0-d582-4643-bc70-58d00ec47ae0",
   "metadata": {},
   "outputs": [],
   "source": [
    "design <- model.matrix(~0 + group)\n"
   ]
  },
  {
   "cell_type": "code",
   "execution_count": null,
   "id": "84a7b24f-df24-4e9a-ae04-9c1db786a97e",
   "metadata": {},
   "outputs": [],
   "source": [
    "\n",
    "colnames(design) <- levels(group)\n",
    "design\n",
    "\n",
    "y <- estimateDisp(y, design, robust=TRUE)\n",
    "y$common.dispersion\n",
    "plotBCV(y)\n"
   ]
  },
  {
   "cell_type": "code",
   "execution_count": null,
   "id": "a1126afc-303b-44f2-9b0a-8c39b6007ebb",
   "metadata": {},
   "outputs": [],
   "source": [
    "fit <- glmQLFit(y, design, robust=TRUE)\n",
    "head(fit$coefficients)\n",
    "plotQLDisp(fit)\n",
    "\n",
    "\n"
   ]
  },
  {
   "cell_type": "code",
   "execution_count": null,
   "id": "2ec440a4-29ce-4730-8cc6-575053bc0052",
   "metadata": {
    "scrolled": true
   },
   "outputs": [],
   "source": [
    "group\n"
   ]
  },
  {
   "cell_type": "code",
   "execution_count": null,
   "id": "b3e704fa-53a7-4f30-b9e5-45f21a3b8716",
   "metadata": {},
   "outputs": [],
   "source": [
    "con <- makeContrasts(group.Retina.OPL.OPL - group.Retina.IPL.IPL, levels=design)\n",
    "pdf( \"MD_Retina_OPL_OPL_vs_Retina_IPL_IPL.pdf\" , \n",
    "     width = 4 , height = 4 ) # in inches\n",
    "filename <- \"MD_Retina_OPL_OPL_vs_Retina_IPL_IPL.csv\"\n"
   ]
  },
  {
   "cell_type": "code",
   "execution_count": null,
   "id": "b1d2371f-8718-4652-81a5-4a14242a7296",
   "metadata": {},
   "outputs": [],
   "source": []
  },
  {
   "cell_type": "code",
   "execution_count": null,
   "id": "ad14d487-9bfc-4454-9bc7-2669c03677ef",
   "metadata": {},
   "outputs": [],
   "source": [
    "    group.OB.MCL.Plexiform_Membrane\n",
    "\n",
    "    group.OB.GLOM.glomerular\n",
    "\n",
    "    group.OB.EPL.glomerular\n",
    "\n",
    "    group.OB.EPL.Ext_plexiform\n",
    "\n",
    "    group.OB.MCL.Ext_plexiform\n",
    "\n",
    "                                group.OB.IPL.Int_plexiform\n",
    "\n",
    "    group.OB.MCL.Plexiform_Membrane\n"
   ]
  },
  {
   "cell_type": "code",
   "execution_count": null,
   "id": "4c474eee-5a87-4437-a2ec-5a2835260a2b",
   "metadata": {},
   "outputs": [],
   "source": []
  },
  {
   "cell_type": "code",
   "execution_count": null,
   "id": "a6719318-6c4c-4b5c-bc34-e209d0e8c72a",
   "metadata": {},
   "outputs": [],
   "source": [
    "con <- makeContrasts(group.OB.EPL.Ext_plexiform - group.OB.IPL.Int_plexiform, levels=design)\n",
    "pdf( \"MD_OB_EPL_ExtPlex_vs_OB_IPL_IntPlex.pdf\" , \n",
    "     width = 4 , height = 4 ) # in inches\n",
    "filename <- \"MD_OB_EPL_ExtPlex_vs_OB_IPL_IntPlex.csv\"\n"
   ]
  },
  {
   "cell_type": "code",
   "execution_count": null,
   "id": "dcd09114-3bfa-4a2b-87a0-fe4fa136a31a",
   "metadata": {},
   "outputs": [],
   "source": [
    "con <- makeContrasts(group.OB.MCL.Ext_plexiform - group.OB.IPL.Int_plexiform, levels=design)\n",
    "pdf( \"MD_OB_MCL_ExtPlex_vs_OB_IPL_IntPlex.pdf\" , \n",
    "     width = 4 , height = 4 ) # in inches\n",
    "filename <- \"MD_OB_MCL_ExtPlex_vs_OB_IPL_IntPlex.csv\"\n"
   ]
  },
  {
   "cell_type": "code",
   "execution_count": null,
   "id": "5aa3e1a2-023a-4f16-932d-f7cb32398bf8",
   "metadata": {},
   "outputs": [],
   "source": [
    "con <- makeContrasts(group.OB.MCL.Plexiform_Membrane - group.OB.IPL.Int_plexiform, levels=design)\n",
    "pdf( \"MD_OB_MCL_PlexMemb_vs_OB_IPL_IntPlex.pdf\" , \n",
    "     width = 4 , height = 4 ) # in inches\n",
    "filename <- \"MD_OB_MCL_PlexMemb_vs_OB_IPL_IntPlex.csv\"\n"
   ]
  },
  {
   "cell_type": "code",
   "execution_count": null,
   "id": "a7d1f929-46d3-4980-b88e-f6f75465977e",
   "metadata": {},
   "outputs": [],
   "source": [
    "con <- makeContrasts(group.OB.EPL.glomerular - group.OB.IPL.Int_plexiform, levels=design)\n",
    "pdf( \"MD_OB_EPL_Glom_vs_OB_IPL_IntPlex.pdf\" , \n",
    "     width = 4 , height = 4 ) # in inches\n",
    "filename <- \"MD_OB_EPL_Glom_vs_OB_IPL_IntPlex.csv\"\n"
   ]
  },
  {
   "cell_type": "code",
   "execution_count": null,
   "id": "d26f62d0-a033-4a62-a4eb-bc42165add32",
   "metadata": {},
   "outputs": [],
   "source": [
    "con <- makeContrasts(group.OB.GLOM.glomerular - group.OB.IPL.Int_plexiform, levels=design)\n",
    "pdf( \"MD_OB_GLOM_Glom_vs_OB_IPL_IntPlex.pdf\" , \n",
    "     width = 4 , height = 4 ) # in inches\n",
    "filename <- \"MD_OB_GLOM_Glom_vs_OB_IPL_IntPlex.csv\"\n"
   ]
  },
  {
   "cell_type": "code",
   "execution_count": null,
   "id": "b2eda654-9b29-431e-9cfe-c984dbe19c9b",
   "metadata": {},
   "outputs": [],
   "source": [
    "con <- makeContrasts(group.OB.MCL.Plexiform_Membrane - group.OB.IPL.Int_plexiform, levels=design)\n",
    "pdf( \"MD_OB_MCL_PlexMemb_vs_OB_IPL_IntPlex.pdf\" , \n",
    "     width = 4 , height = 4 ) # in inches\n",
    "filename <- \"MD_OB_MCL_PlexMemb_vs_OB_IPL_IntPlex.csv\"\n"
   ]
  },
  {
   "cell_type": "code",
   "execution_count": null,
   "id": "24e30993-7a10-427d-a875-f8aca3d31189",
   "metadata": {},
   "outputs": [],
   "source": []
  },
  {
   "cell_type": "code",
   "execution_count": null,
   "id": "53026df2-dda4-489e-bf34-cccbf9323713",
   "metadata": {},
   "outputs": [],
   "source": []
  },
  {
   "cell_type": "code",
   "execution_count": null,
   "id": "710eb70c-13aa-44f9-994f-411cfebc30a5",
   "metadata": {},
   "outputs": [],
   "source": []
  },
  {
   "cell_type": "code",
   "execution_count": null,
   "id": "39a15d86-c140-46cd-94d4-0d6198918acf",
   "metadata": {},
   "outputs": [],
   "source": []
  },
  {
   "cell_type": "code",
   "execution_count": null,
   "id": "78a4492a-ef38-4985-ad6d-3b7a38782237",
   "metadata": {},
   "outputs": [],
   "source": [
    "qlf <- glmQLFTest(fit, contrast=con)\n",
    "topTags(qlf, 15)\n",
    "summary(decideTests(qlf))\n",
    "\n",
    "## Save plots and write results to file?\n",
    "# pdf( \"MD_plot_Tumour_1_Tumour_0.pdf\" , width = 4 , height = 4 ) # in inches\n",
    "par( mfrow=c(1 ,1) )\n",
    "plotMD(qlf)\n",
    "dev.off() # this tells [R] to close and stop writing to the pdf.\n",
    "\n",
    "resultsbyP <- topTags(qlf, n = nrow(qlf$table))$table\n",
    "wh.rows.glm <- match( rownames( resultsbyP ) , rownames( y$counts ) )\n",
    "results2.tbl <- cbind (resultsbyP, \n",
    "                       \"Tgw.Disp\"=y$tagwise.dispersion[wh.rows.glm], \n",
    "                       \"UpDown\" = decideTestsDGE(qlf)[wh.rows.glm,], \n",
    "                       y$counts[wh.rows.glm,] )\n",
    "head (results2.tbl)\n",
    "write.table(results2.tbl, file = filename, sep = \",\", row.names = TRUE)\n",
    "\n"
   ]
  },
  {
   "cell_type": "code",
   "execution_count": null,
   "id": "0ef65a05-48d5-409a-ac9f-684853852f7d",
   "metadata": {},
   "outputs": [],
   "source": []
  },
  {
   "cell_type": "code",
   "execution_count": null,
   "id": "caac1116-b869-4763-8ef1-9ee0751b2c75",
   "metadata": {},
   "outputs": [],
   "source": [
    "\n",
    "\n",
    "\n",
    "\n",
    "\n",
    "# group <- factor(paste0(targets$Grade_b, \".\", targets$Grade_c))\n",
    "# group <- factor(paste0(\"group\", \".\", targets$Grade_b))\n",
    "\n",
    "\n",
    "# ToDo: Add Sex as a factor for groups!!\n",
    "group <- factor(paste0(\"group\", \".\", targets$KO, \".\", targets$Diet))\n",
    "group <- factor(paste0(\"group\", \".\", targets$KO, \".\", targets$Diet, \".\", targets$Sex))\n",
    "group\n",
    "\n",
    "y <- DGEList(keepCounts, group = group)\n",
    "y$samples\n",
    "\n",
    "# y$norm.factors\n",
    "\n",
    "#### Plot first sample\n",
    "plotMD(cpm(y, log=TRUE), column=1)\n",
    "abline(h=0, col=\"red\", lty=2, lwd=2)\n",
    "\n",
    "#### Plot Multi Dimensional Scaling\n",
    "#### Points and Colours need work\n",
    "#set up to use colours for grade and symbols for label\n",
    "points <- c(0,1,2,15,16,17)\n",
    "points <- c(0,1,2,3,4,7,8,9,10,11,15,16,17,18,19,20,21)\n",
    "\n",
    "colors <- c(\"blue\", \"blue\", \"blue\", \"blue\", \"blue\", \n",
    "            \"darkgreen\", \"darkgreen\", \"darkgreen\", \"darkgreen\", \"darkgreen\", \n",
    "            \"red\", \"red\", \"red\", \"red\", \"red\")\n",
    "points <- rep(c(0,1,2,3,4,5,6),3)\n",
    "\n",
    "plotMDS(y, col=colors[group], pch=points[group])\n",
    "legend(\"topleft\", legend=levels(group), col=colors[group], pch=points, ncol=3)\n",
    "\n",
    "\n",
    "\n",
    "#### Is this the best design set-up? Double check the use of 0 vs other options\n",
    "\n",
    "design <- model.matrix(~0 + group)\n",
    "\n",
    "# LipidVacoule\tInclusion\n",
    "\n",
    "\n",
    "\n",
    "colnames(design) <- levels(group)\n",
    "design\n",
    "\n",
    "y <- estimateDisp(y, design, robust=TRUE)\n",
    "y$common.dispersion\n",
    "plotBCV(y)\n",
    "fit <- glmQLFit(y, design, robust=TRUE)\n",
    "head(fit$coefficients)\n",
    "plotQLDisp(fit)\n",
    "\n",
    "\n",
    "group\n",
    "\n",
    "### Set up a list of different contrasts to make here\n",
    "\n",
    "# # Tumour - TME\n",
    "# con <- makeContrasts(Tumour - TME, levels=design)\n",
    "# con <- makeContrasts(Tumour - Full_ROI, levels=design)\n",
    "# con <- makeContrasts(TME - Full_ROI, levels=design)\n",
    "\n",
    "# help(make.names)\n",
    "\n",
    "\n",
    "# Comparisons\n",
    "con <- makeContrasts(group.KO.TAA - group.WT.TAA, levels=design)\n",
    "pdf( \"MD_plot_KO_TAA_vs_WT_TAA.pdf\" , \n",
    "     width = 4 , height = 4 ) # in inches\n",
    "filename <- \"MD_plot_KO_TAA_vs_WT_TAA.csv\"\n",
    "\n",
    "con <- makeContrasts(group.KO.TAA - group.KO.Standard, levels=design)\n",
    "pdf( \"MD_plot_KO_TAA_vs_KO_Standard.pdf\" , \n",
    "     width = 4 , height = 4 ) # in inches\n",
    "filename <- \"MD_plot_KO_TAA_vs_KO_Standard.csv\"\n",
    "\n",
    "con <- makeContrasts(group.KO.Standard - group.WT.Standard, levels=design)\n",
    "pdf( \"MD_plot_KO_Standard_vs_WT_Standard.pdf\" , \n",
    "     width = 4 , height = 4 ) # in inches\n",
    "filename <- \"MD_plot_KO_Standard_vs_WT_Standard.csv\"\n",
    "\n",
    "con <- makeContrasts(group.WT.TAA - group.WT.Standard, levels=design)\n",
    "pdf( \"MD_plot_WT_TAA_vs_WT_Standard.pdf\" , \n",
    "     width = 4 , height = 4 ) # in inches\n",
    "filename <- \"MD_plot_WT_TAA_vs_WT_Standard.csv\"\n",
    "\n",
    "\n",
    "\n",
    "\n",
    "# Comparisons\n",
    "con <- makeContrasts(group.KO.TAA.Male - group.WT.TAA.Male, levels=design)\n",
    "pdf( \"MD_plot_KO_TAA_Male_vs_WT_TAA_Male.pdf\" , \n",
    "     width = 4 , height = 4 ) # in inches\n",
    "filename <- \"MD_plot_KO_TAA_Male_vs_WT_TAA_Male.csv\"\n",
    "\n",
    "con <- makeContrasts(group.KO.TAA.Female - group.WT.TAA.Female, levels=design)\n",
    "pdf( \"MD_plot_KO_TAA_Female_vs_WT_TAA_Female.pdf\" , \n",
    "     width = 4 , height = 4 ) # in inches\n",
    "filename <- \"MD_plot_KO_TAA_Female_vs_WT_TAA_Female.csv\"\n",
    "\n",
    "\n",
    "con <- makeContrasts(group.KO.TAA.Male - group.KO.Standard.Male, levels=design)\n",
    "pdf( \"MD_plot_KO_TAA_Male_vs_KO_Standard_Male.pdf\" , \n",
    "     width = 4 , height = 4 ) # in inches\n",
    "filename <- \"MD_plot_KO_TAA_Male_vs_KO_Standard_Male.csv\"\n",
    "\n",
    "con <- makeContrasts(group.KO.TAA.Female - group.KO.Standard.Female, levels=design)\n",
    "pdf( \"MD_plot_KO_TAA_Female_vs_KO_Standard_Female.pdf\" , \n",
    "     width = 4 , height = 4 ) # in inches\n",
    "filename <- \"MD_plot_KO_TAA_Female_vs_KO_Standard_Female.csv\"\n",
    "\n",
    "\n",
    "con <- makeContrasts(group.KO.Standard.Male - group.WT.Standard.Male, levels=design)\n",
    "pdf( \"MD_plot_KO_Standard_Male_vs_WT_Standard_Male.pdf\" , \n",
    "     width = 4 , height = 4 ) # in inches\n",
    "filename <- \"MD_plot_KO_Standard_Male_vs_WT_Standard_Male.csv\"\n",
    "\n",
    "con <- makeContrasts(group.KO.Standard.Female - group.WT.Standard.Female, levels=design)\n",
    "pdf( \"MD_plot_KO_Standard_Female_vs_WT_Standard_Female.pdf\" , \n",
    "     width = 4 , height = 4 ) # in inches\n",
    "filename <- \"MD_plot_KO_Standard_Female_vs_WT_Standard_Female.csv\"\n",
    "\n",
    "\n",
    "con <- makeContrasts(group.WT.TAA.Male - group.WT.Standard.Male, levels=design)\n",
    "pdf( \"MD_plot_WT_TAA_Male_vs_WT_Standard_Male.pdf\" , \n",
    "     width = 4 , height = 4 ) # in inches\n",
    "filename <- \"MD_plot_WT_TAA_Male_vs_WT_Standard_Male.csv\"\n",
    "\n",
    "con <- makeContrasts(group.WT.TAA.Female - group.WT.Standard.Female, levels=design)\n",
    "pdf( \"MD_plot_WT_TAA_Female_vs_WT_Standard_Female.pdf\" , \n",
    "     width = 4 , height = 4 ) # in inches\n",
    "filename <- \"MD_plot_WT_TAA_Female_vs_WT_Standard_Female.csv\"\n",
    "\n",
    "\n",
    "\n",
    "\n",
    "\n",
    "\n",
    "\n",
    "\n",
    "qlf <- glmQLFTest(fit, contrast=con)\n",
    "topTags(qlf, 15)\n",
    "summary(decideTests(qlf))\n",
    "\n",
    "## Save plots and write results to file?\n",
    "# pdf( \"MD_plot_Tumour_1_Tumour_0.pdf\" , width = 4 , height = 4 ) # in inches\n",
    "par( mfrow=c(1 ,1) )\n",
    "plotMD(qlf)\n",
    "dev.off() # this tells [R] to close and stop writing to the pdf.\n",
    "\n",
    "resultsbyP <- topTags(qlf, n = nrow(qlf$table))$table\n",
    "wh.rows.glm <- match( rownames( resultsbyP ) , rownames( y$counts ) )\n",
    "results2.tbl <- cbind (resultsbyP, \n",
    "                       \"Tgw.Disp\"=y$tagwise.dispersion[wh.rows.glm], \n",
    "                       \"UpDown\" = decideTestsDGE(qlf)[wh.rows.glm,], \n",
    "                       y$counts[wh.rows.glm,] )\n",
    "head (results2.tbl)\n",
    "write.table(results2.tbl, file = filename, sep = \",\", row.names = TRUE)\n",
    "\n",
    "\n"
   ]
  }
 ],
 "metadata": {
  "kernelspec": {
   "display_name": "R",
   "language": "R",
   "name": "ir"
  },
  "language_info": {
   "codemirror_mode": "r",
   "file_extension": ".r",
   "mimetype": "text/x-r-source",
   "name": "R",
   "pygments_lexer": "r",
   "version": "4.3.2"
  }
 },
 "nbformat": 4,
 "nbformat_minor": 5
}
